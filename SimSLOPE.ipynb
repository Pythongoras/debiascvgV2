{
 "cells": [
  {
   "cell_type": "code",
   "execution_count": 1,
   "metadata": {},
   "outputs": [],
   "source": [
    "# This notebook uses the python2 kernel.\n",
    "\n",
    "import matlab.engine\n",
    "\n",
    "import os\n",
    "os.chdir('/Users/yufei/Documents/2-CMU/DebiasingCvxConstrained/Code/Library')\n",
    "# Need to have the TFOCS package in Library to call the slope solver.\n",
    "# Link to TFOCS: https://github.com/cvxr/TFOCS.git\n",
    "# Version 1.3, October 10, 2013\n",
    "\n",
    "from math import log, exp\n",
    "import numpy as np\n",
    "\n",
    "from scipy import stats\n",
    "\n",
    "from collections import namedtuple\n",
    "\n",
    "from copy import deepcopy\n",
    "\n",
    "import matplotlib.pyplot as plt\n",
    "\n",
    "from ExperimentFunc import exp_func, beta_gen_slope\n",
    "from Step2 import find_v_slope\n",
    "from Step3 import solve_omega, gw_l1, proj_l1_tan_cone, proj_l1_neg_tan_cone"
   ]
  },
  {
   "cell_type": "code",
   "execution_count": 2,
   "metadata": {},
   "outputs": [
    {
     "data": {
      "text/plain": [
       "'/Users/yufei/Documents/MATLAB:/Applications/MATLAB_R2019a.app/toolbox/matlab/capabilities:/Applications/MATLAB_R2019a.app/toolbox/matlab/datafun:/Applications/MATLAB_R2019a.app/toolbox/matlab/datatypes:/Applications/MATLAB_R2019a.app/toolbox/matlab/elfun:/Applications/MATLAB_R2019a.app/toolbox/matlab/elmat:/Applications/MATLAB_R2019a.app/toolbox/matlab/funfun:/Applications/MATLAB_R2019a.app/toolbox/matlab/general:/Applications/MATLAB_R2019a.app/toolbox/matlab/iofun:/Applications/MATLAB_R2019a.app/toolbox/matlab/lang:/Applications/MATLAB_R2019a.app/toolbox/matlab/matfun:/Applications/MATLAB_R2019a.app/toolbox/matlab/mvm:/Applications/MATLAB_R2019a.app/toolbox/matlab/ops:/Applications/MATLAB_R2019a.app/toolbox/matlab/polyfun:/Applications/MATLAB_R2019a.app/toolbox/matlab/randfun:/Applications/MATLAB_R2019a.app/toolbox/matlab/sparfun:/Applications/MATLAB_R2019a.app/toolbox/matlab/specfun:/Applications/MATLAB_R2019a.app/toolbox/matlab/strfun:/Applications/MATLAB_R2019a.app/toolbox/matlab/timefun:/Applications/MATLAB_R2019a.app/toolbox/matlab/validators:/Applications/MATLAB_R2019a.app/toolbox/matlab/datatypes/categorical:/Applications/MATLAB_R2019a.app/toolbox/matlab/demos:/Applications/MATLAB_R2019a.app/toolbox/matlab/plottools/inspector:/Applications/MATLAB_R2019a.app/toolbox/matlab/graph2d:/Applications/MATLAB_R2019a.app/toolbox/matlab/graph3d:/Applications/MATLAB_R2019a.app/toolbox/matlab/graphics:/Applications/MATLAB_R2019a.app/toolbox/matlab/graphics/annotation:/Applications/MATLAB_R2019a.app/toolbox/matlab/graphics/axis:/Applications/MATLAB_R2019a.app/toolbox/matlab/graphics/chart:/Applications/MATLAB_R2019a.app/toolbox/matlab/graphics/color:/Applications/MATLAB_R2019a.app/toolbox/matlab/graphics/function:/Applications/MATLAB_R2019a.app/toolbox/matlab/graphics/illustration:/Applications/MATLAB_R2019a.app/toolbox/matlab/graphics/legacy:/Applications/MATLAB_R2019a.app/toolbox/matlab/graphics/obsolete:/Applications/MATLAB_R2019a.app/toolbox/matlab/graphics/printing:/Applications/MATLAB_R2019a.app/toolbox/matlab/graphics/primitive:/Applications/MATLAB_R2019a.app/toolbox/matlab/plottools:/Applications/MATLAB_R2019a.app/toolbox/matlab/scribe:/Applications/MATLAB_R2019a.app/toolbox/matlab/scribe/obsolete:/Applications/MATLAB_R2019a.app/toolbox/matlab/specgraph:/Applications/MATLAB_R2019a.app/toolbox/matlab/uitools:/Applications/MATLAB_R2019a.app/toolbox/matlab/uitools/obsolete:/Applications/MATLAB_R2019a.app/toolbox/matlab/hardware/stubs:/Applications/MATLAB_R2019a.app/toolbox/matlab/images:/Applications/MATLAB_R2019a.app/toolbox/matlab/iot:/Applications/MATLAB_R2019a.app/toolbox/matlab/iot/connectivity:/Applications/MATLAB_R2019a.app/toolbox/local:/Applications/MATLAB_R2019a.app/toolbox/matlab/maps:/Applications/MATLAB_R2019a.app/toolbox/matlab/graphics/maps:/Applications/MATLAB_R2019a.app/toolbox/matlab/optimfun:/Applications/MATLAB_R2019a.app/toolbox/matlab/bigdata:/Applications/MATLAB_R2019a.app/toolbox/matlab/codeanalysis/analysis:/Applications/MATLAB_R2019a.app/toolbox/matlab/codetools:/Applications/MATLAB_R2019a.app/toolbox/matlab/codetools/embeddedoutputs:/Applications/MATLAB_R2019a.app/toolbox/matlab/datamanager:/Applications/MATLAB_R2019a.app/toolbox/matlab/datastoreio:/Applications/MATLAB_R2019a.app/toolbox/matlab/depfun:/Applications/MATLAB_R2019a.app/toolbox/matlab/graphfun:/Applications/MATLAB_R2019a.app/toolbox/matlab/guide:/Applications/MATLAB_R2019a.app/toolbox/matlab/helptools:/Applications/MATLAB_R2019a.app/toolbox/matlab/icons:/Applications/MATLAB_R2019a.app/toolbox/matlab/mapreduceio:/Applications/MATLAB_R2019a.app/toolbox/matlab/parallel:/Applications/MATLAB_R2019a.app/toolbox/matlab/parquetds:/Applications/MATLAB_R2019a.app/toolbox/matlab/parquetio:/Applications/MATLAB_R2019a.app/toolbox/matlab/testframework/measurement/core:/Applications/MATLAB_R2019a.app/toolbox/matlab/testframework/measurement/ext:/Applications/MATLAB_R2019a.app/toolbox/matlab/testframework/mock/core:/Applications/MATLAB_R2019a.app/toolbox/matlab/testframework/performance/core:/Applications/MATLAB_R2019a.app/toolbox/matlab/testframework/ui/toolstrip:/Applications/MATLAB_R2019a.app/toolbox/matlab/testframework/uiautomation:/Applications/MATLAB_R2019a.app/toolbox/matlab/testframework/uitest:/Applications/MATLAB_R2019a.app/toolbox/matlab/testframework/unittest/core:/Applications/MATLAB_R2019a.app/toolbox/matlab/testframework/obsolete:/Applications/MATLAB_R2019a.app/toolbox/matlab/testframework/unittest/ext:/Applications/MATLAB_R2019a.app/toolbox/matlab/testframework/unittest/parallel:/Applications/MATLAB_R2019a.app/toolbox/matlab/verctrl:/Applications/MATLAB_R2019a.app/toolbox/matlab/winfun:/Applications/MATLAB_R2019a.app/toolbox/matlab/winfun/NET:/Applications/MATLAB_R2019a.app/toolbox/hdlcoder/matlabhdlcoder/matlabhdlcoder:/Applications/MATLAB_R2019a.app/toolbox/hdlcoder/matlabhdlcoder:/Applications/MATLAB_R2019a.app/toolbox/simulink/components:/Applications/MATLAB_R2019a.app/toolbox/simulink/dee:/Applications/MATLAB_R2019a.app/toolbox/simulink/blocks/library:/Applications/MATLAB_R2019a.app/toolbox/simulink/blocks/library/simulinkcoder:/Applications/MATLAB_R2019a.app/toolbox/simulink/blocks/obsolete:/Applications/MATLAB_R2019a.app/toolbox/simulink/blocks/pid_Images:/Applications/MATLAB_R2019a.app/toolbox/simulink/configset/configset:/Applications/MATLAB_R2019a.app/toolbox/simulink/configset_model/configset:/Applications/MATLAB_R2019a.app/toolbox/simulink/configset_model/configset/derived:/Applications/MATLAB_R2019a.app/toolbox/simulink/blocks:/Applications/MATLAB_R2019a.app/toolbox/simulink/simulink/dataclasses:/Applications/MATLAB_R2019a.app/toolbox/simulink/simulink:/Applications/MATLAB_R2019a.app/toolbox/simulink/simulink/MPlayIO:/Applications/MATLAB_R2019a.app/toolbox/simulink/simulink/dataobjectwizard:/Applications/MATLAB_R2019a.app/toolbox/simulink/simulink/slresolve:/Applications/MATLAB_R2019a.app/toolbox/simulink/simulink/units:/Applications/MATLAB_R2019a.app/toolbox/simulink/simulink/model_transformer:/Applications/MATLAB_R2019a.app/toolbox/simulink/simulink/clone_detection:/Applications/MATLAB_R2019a.app/toolbox/simulink/simulink/sfuncheck:/Applications/MATLAB_R2019a.app/toolbox/simulink/simulink/string:/Applications/MATLAB_R2019a.app/toolbox/simulink/simulink/templates/core:/Applications/MATLAB_R2019a.app/toolbox/simulink/simdemos/dataclasses:/Applications/MATLAB_R2019a.app/toolbox/simulink/simdemos:/Applications/MATLAB_R2019a.app/toolbox/simulink/simdemos/aerospace:/Applications/MATLAB_R2019a.app/toolbox/simulink/simdemos/automotive:/Applications/MATLAB_R2019a.app/toolbox/simulink/simdemos/simfeatures:/Applications/MATLAB_R2019a.app/toolbox/simulink/simdemos/simfeatures/modelreference:/Applications/MATLAB_R2019a.app/toolbox/simulink/simdemos/simfeatures/datadictionary:/Applications/MATLAB_R2019a.app/toolbox/simulink/simdemos/automotive/fuelsys:/Applications/MATLAB_R2019a.app/toolbox/simulink/simdemos/simgeneral:/Applications/MATLAB_R2019a.app/toolbox/simulink/simdemos/industrial:/Applications/MATLAB_R2019a.app/toolbox/simulink/simdemos/automotive/powerwindow:/Applications/MATLAB_R2019a.app/toolbox/simulink/slmanifest:/Applications/MATLAB_R2019a.app/toolbox/simulink/sldependency:/Applications/MATLAB_R2019a.app/toolbox/simulink/diagram/mi/m:/Applications/MATLAB_R2019a.app/toolbox/slde/slde:/Applications/MATLAB_R2019a.app/toolbox/slde/examples:/Applications/MATLAB_R2019a.app/toolbox/simulink/engine_interface:/Applications/MATLAB_R2019a.app/toolbox/simulink/simulink_export_methods:/Applications/MATLAB_R2019a.app/toolbox/simulink/hmi:/Applications/MATLAB_R2019a.app/toolbox/simulink/hmi/customwebblocks/m:/Applications/MATLAB_R2019a.app/toolbox/simulink/simulink_hmi_slexportprevious:/Applications/MATLAB_R2019a.app/toolbox/simulink/legacycode:/Applications/MATLAB_R2019a.app/toolbox/simulink/simulink/modeladvisor:/Applications/MATLAB_R2019a.app/toolbox/simulink/simulink/modeladvisor/fixpt:/Applications/MATLAB_R2019a.app/toolbox/simulink/simulink/modeladvisor/misra:/Applications/MATLAB_R2019a.app/toolbox/simulink/simulink/modeladvisor/security:/Applications/MATLAB_R2019a.app/toolbox/simulink/simulink/templates/product:/Applications/MATLAB_R2019a.app/toolbox/simulink/sdi:/Applications/MATLAB_R2019a.app/toolbox/simulink_standalone/shared:/Applications/MATLAB_R2019a.app/toolbox/simulink/sysarch/sysarch:/Applications/MATLAB_R2019a.app/toolbox/simulink/simulink/frameedit:/Applications/MATLAB_R2019a.app/toolbox/simulink/ui/library_browser/core/m:/Applications/MATLAB_R2019a.app/toolbox/simulink/ui/studio/config/m:/Applications/MATLAB_R2019a.app/toolbox/simulink/ui/sysdoc/core:/Applications/MATLAB_R2019a.app/toolbox/shared/examples/verification:/Applications/MATLAB_R2019a.app/toolbox/simulink/webblocks/core/m:/Applications/MATLAB_R2019a.app/toolbox/simulink/webblocks/widgets/m:/Applications/MATLAB_R2019a.app/toolbox/coder/simulinkcoder/xil/toolstrip/m:/Applications/MATLAB_R2019a.app/toolbox/rtw/targets/asap2/asap2/dataclasses:/Applications/MATLAB_R2019a.app/toolbox/rtw/targets/asap2/asap2:/Applications/MATLAB_R2019a.app/toolbox/rtw/targets/asap2/asap2/user:/Applications/MATLAB_R2019a.app/toolbox/rtw/targets/common/can/blocks/dataclasses:/Applications/MATLAB_R2019a.app/toolbox/rtw/targets/common/can/blocks:/Applications/MATLAB_R2019a.app/toolbox/rtw/targets/common/can/blocks/tlc_c:/Applications/MATLAB_R2019a.app/toolbox/rtw/targets/common/tgtcommon:/Applications/MATLAB_R2019a.app/toolbox/coder/simulinkcoder/cgv/API:/Applications/MATLAB_R2019a.app/toolbox/coder/simulinkcoder:/Applications/MATLAB_R2019a.app/toolbox/coder/simulinkcoder/targets:/Applications/MATLAB_R2019a.app/toolbox/rtw/targets/pil:/Applications/MATLAB_R2019a.app/toolbox/coder/simulinkcoder/toolstripHW/m:/Applications/MATLAB_R2019a.app/toolbox/coder/advisor:/Applications/MATLAB_R2019a.app/toolbox/coder/simulinkcoder_app/code_perspective:/Applications/MATLAB_R2019a.app/toolbox/coder/simulinkcoder_app/core:/Applications/MATLAB_R2019a.app/toolbox/coder/simulinkcoder_app/report:/Applications/MATLAB_R2019a.app/toolbox/coder/simulinkcoder_app/slfpc:/Applications/MATLAB_R2019a.app/toolbox/coder/simulinkcoder_app/toolstrip/m:/Applications/MATLAB_R2019a.app/toolbox/coder/simulinkcoder_app/ui:/Applications/MATLAB_R2019a.app/toolbox/rtw/accel:/Applications/MATLAB_R2019a.app/toolbox/coder/simulinkcoder_core:/Applications/MATLAB_R2019a.app/toolbox/coder/simulinkcoder_core/templates:/Applications/MATLAB_R2019a.app/toolbox/rtw/rtwdemos:/Applications/MATLAB_R2019a.app/toolbox/rtw/rtwdemos/rsimdemos:/Applications/MATLAB_R2019a.app/toolbox/coder/objectives:/Applications/MATLAB_R2019a.app/toolbox/simulinktest/simulinktest:/Applications/MATLAB_R2019a.app/toolbox/simulinktest/core/assessments/assessments:/Applications/MATLAB_R2019a.app/toolbox/simulinktest/core/assessments_editor/assessments_editor:/Applications/MATLAB_R2019a.app/toolbox/simulinktest/core/simharness/simharness:/Applications/MATLAB_R2019a.app/toolbox/simulinktest/core/observer/observer:/Applications/MATLAB_R2019a.app/toolbox/simulinktest/core/injector/injector:/Applications/MATLAB_R2019a.app/toolbox/simulinktest/core/fuzzer/fuzzer:/Applications/MATLAB_R2019a.app/toolbox/simulinktest/simulinktestdemos:/Applications/MATLAB_R2019a.app/toolbox/stm/stm/matlabunit:/Applications/MATLAB_R2019a.app/toolbox/simulinktest/core/testsequence/testsequence:/Applications/MATLAB_R2019a.app/toolbox/stateflow/stateflow:/Applications/MATLAB_R2019a.app/toolbox/stateflow/coder:/Applications/MATLAB_R2019a.app/toolbox/stateflow/sfdemos:/Applications/MATLAB_R2019a.app/toolbox/stateflow/stateflow_lib:/Applications/MATLAB_R2019a.app/toolbox/shared/stateflow:/Applications/MATLAB_R2019a.app/toolbox/stateflow/sfxdemos:/Applications/MATLAB_R2019a.app/toolbox/stateflow/sftemplates:/Applications/MATLAB_R2019a.app/toolbox/stateflow/ui/studio/config/m:/Applications/MATLAB_R2019a.app/toolbox/5g/5g:/Applications/MATLAB_R2019a.app/toolbox/matlab/addon_enable_disable_management/matlab:/Applications/MATLAB_R2019a.app/toolbox/matlab/addons:/Applications/MATLAB_R2019a.app/toolbox/matlab/addons/cef:/Applications/MATLAB_R2019a.app/toolbox/matlab/addons/fileexchange:/Applications/MATLAB_R2019a.app/toolbox/matlab/addons/supportpackages:/Applications/MATLAB_R2019a.app/toolbox/matlab/addons_product:/Applications/MATLAB_R2019a.app/toolbox/matlab/supportpackagemanagement:/Applications/MATLAB_R2019a.app/toolbox/aero/aero:/Applications/MATLAB_R2019a.app/toolbox/aero/uicomponents/plugin/appdesigner:/Applications/MATLAB_R2019a.app/toolbox/aero/astdemos:/Applications/MATLAB_R2019a.app/toolbox/aero/uicomponents:/Applications/MATLAB_R2019a.app/toolbox/aeroblks:/Applications/MATLAB_R2019a.app/toolbox/aeroblks/aeroblks:/Applications/MATLAB_R2019a.app/toolbox/aeroblks/aeroblksutilities:/Applications/MATLAB_R2019a.app/toolbox/aeroblks/aerodemos:/Applications/MATLAB_R2019a.app/toolbox/aeroblks/aerodemos/texture:/Applications/MATLAB_R2019a.app/toolbox/shared/aeroblks/aerodemos/quadcopter:/Applications/MATLAB_R2019a.app/toolbox/aeroblks/flightcontrol:/Applications/MATLAB_R2019a.app/toolbox/aeroblks/flightcontrol/3DOFAirframe:/Applications/MATLAB_R2019a.app/toolbox/aeroblks/flightcontrol/6DOFAirframe:/Applications/MATLAB_R2019a.app/toolbox/aeroblks/aeroblks/hmi:/Applications/MATLAB_R2019a.app/toolbox/aeroblks/templates:/Applications/MATLAB_R2019a.app/toolbox/antenna/antenna:/Applications/MATLAB_R2019a.app/toolbox/antenna/antenna/antennautilities:/Applications/MATLAB_R2019a.app/toolbox/antenna/antenna/meshutilities:/Applications/MATLAB_R2019a.app/toolbox/antenna/antenna/cadsupport/gerber:/Applications/MATLAB_R2019a.app/toolbox/antenna/atexamples:/Applications/MATLAB_R2019a.app/toolbox/matlab/appcontainer/appcontainer:/Applications/MATLAB_R2019a.app/toolbox/matlab/appdesigner/appdesigner:/Applications/MATLAB_R2019a.app/toolbox/matlab/appdesigner/appdesigner/interface:/Applications/MATLAB_R2019a.app/toolbox/matlab/appdesigner/appdesigner/runtime:/Applications/MATLAB_R2019a.app/toolbox/matlab/apps:/Applications/MATLAB_R2019a.app/toolbox/audio/audio:/Applications/MATLAB_R2019a.app/toolbox/audio/samples:/Applications/MATLAB_R2019a.app/toolbox/audio/audioutilities:/Applications/MATLAB_R2019a.app/toolbox/audio/audioutilities/audioinit:/Applications/MATLAB_R2019a.app/toolbox/audio/audioutilities/audiomex:/Applications/MATLAB_R2019a.app/toolbox/audio/audio/compiled:/Applications/MATLAB_R2019a.app/toolbox/audio/audioexamples:/Applications/MATLAB_R2019a.app/toolbox/audio/templates:/Applications/MATLAB_R2019a.app/toolbox/matlab/audiovideo:/Applications/MATLAB_R2019a.app/toolbox/autoblks:/Applications/MATLAB_R2019a.app/toolbox/autoblks/autoblks:/Applications/MATLAB_R2019a.app/toolbox/autoblks/autoblksutilities:/Applications/MATLAB_R2019a.app/toolbox/autoblks/autoblksutilities/mbctemplates:/Applications/MATLAB_R2019a.app/toolbox/autoblks/autodemos:/Applications/MATLAB_R2019a.app/toolbox/autoblks/autoblksshared:/Applications/MATLAB_R2019a.app/toolbox/autoblks/autoblksshared/mbc:/Applications/MATLAB_R2019a.app/toolbox/autoblks/autoblksshared/mbctemplates:/Applications/MATLAB_R2019a.app/toolbox/autoblks_utils:/Applications/MATLAB_R2019a.app/toolbox/coder/autosar:/Applications/MATLAB_R2019a.app/toolbox/coder/autosar/blocks:/Applications/MATLAB_R2019a.app/toolbox/coder/autosar/demos:/Applications/MATLAB_R2019a.app/toolbox/coder/autosar/xrelexport:/Applications/MATLAB_R2019a.app/toolbox/rtw/targets/AUTOSAR/AUTOSAR/dataclasses:/Applications/MATLAB_R2019a.app/toolbox/rtw/targets/AUTOSAR/AUTOSAR:/Applications/MATLAB_R2019a.app/toolbox/coder/autosar_templates:/Applications/MATLAB_R2019a.app/toolbox/simulink/batchsim:/Applications/MATLAB_R2019a.app/toolbox/bioinfo/bioinfo:/Applications/MATLAB_R2019a.app/toolbox/bioinfo/biolearning:/Applications/MATLAB_R2019a.app/toolbox/bioinfo/cufflinks:/Applications/MATLAB_R2019a.app/toolbox/bioinfo/microarray:/Applications/MATLAB_R2019a.app/toolbox/bioinfo/mass_spec:/Applications/MATLAB_R2019a.app/toolbox/bioinfo/proteins:/Applications/MATLAB_R2019a.app/toolbox/bioinfo/biomatrices:/Applications/MATLAB_R2019a.app/toolbox/bioinfo/graphtheory:/Applications/MATLAB_R2019a.app/toolbox/bioinfo/bioinfodata:/Applications/MATLAB_R2019a.app/toolbox/bioinfo/biodemos:/Applications/MATLAB_R2019a.app/toolbox/matlab/cefclient:/Applications/MATLAB_R2019a.app/toolbox/clone_detection_app/m:/Applications/MATLAB_R2019a.app/toolbox/coder/codedescriptor_core:/Applications/MATLAB_R2019a.app/toolbox/coder/codegendemos:/Applications/MATLAB_R2019a.app/toolbox/coder/coder:/Applications/MATLAB_R2019a.app/toolbox/coder/connectivity:/Applications/MATLAB_R2019a.app/toolbox/rtw/targets/connectivity:/Applications/MATLAB_R2019a.app/toolbox/coder/coverage:/Applications/MATLAB_R2019a.app/toolbox/coder/cpptools:/Applications/MATLAB_R2019a.app/toolbox/rtw/rtw:/Applications/MATLAB_R2019a.app/toolbox/coder/foundation:/Applications/MATLAB_R2019a.app/toolbox/coder/foundation/build:/Applications/MATLAB_R2019a.app/toolbox/coder/foundation/build/tools/registry:/Applications/MATLAB_R2019a.app/toolbox/coder/foundation/tfl:/Applications/MATLAB_R2019a.app/toolbox/coder/foundation/tfl/AUTOSAR/AUTOSAR4p0/IFX:/Applications/MATLAB_R2019a.app/toolbox/coder/foundation/tfl/AUTOSAR/AUTOSAR4p0/IFL:/Applications/MATLAB_R2019a.app/toolbox/coder/foundation/tfl/gui:/Applications/MATLAB_R2019a.app/toolbox/coder/foundation/templates:/Applications/MATLAB_R2019a.app/toolbox/shared/simtargets:/Applications/MATLAB_R2019a.app/toolbox/coder/matlabcoder:/Applications/MATLAB_R2019a.app/toolbox/coder/matlabcoder/templates:/Applications/MATLAB_R2019a.app/toolbox/coder/profile:/Applications/MATLAB_R2019a.app/toolbox/coder/rtiostream:/Applications/MATLAB_R2019a.app/toolbox/coder/sltoolstrip_base_hw/m:/Applications/MATLAB_R2019a.app/toolbox/coder/trace:/Applications/MATLAB_R2019a.app/toolbox/coder/wizard:/Applications/MATLAB_R2019a.app/toolbox/coder/xcp:/Applications/MATLAB_R2019a.app/toolbox/coder/xrel:/Applications/MATLAB_R2019a.app/toolbox/coder/xrelimport:/Applications/MATLAB_R2019a.app/toolbox/comm/comm:/Applications/MATLAB_R2019a.app/toolbox/comm/commutilities/comminit:/Applications/MATLAB_R2019a.app/toolbox/comm/commutilities/commmex:/Applications/MATLAB_R2019a.app/toolbox/comm/commutilities:/Applications/MATLAB_R2019a.app/toolbox/comm/commdeprecated:/Applications/MATLAB_R2019a.app/toolbox/comm/comm/compiled:/Applications/MATLAB_R2019a.app/toolbox/comm/cdma2000:/Applications/MATLAB_R2019a.app/toolbox/comm/commhdloptimized:/Applications/MATLAB_R2019a.app/toolbox/comm/commhdloptimized/commutilities:/Applications/MATLAB_R2019a.app/toolbox/comm/commdemos:/Applications/MATLAB_R2019a.app/help/toolbox/comm/examples:/Applications/MATLAB_R2019a.app/toolbox/comm/templates:/Applications/MATLAB_R2019a.app/toolbox/shared/comparisons:/Applications/MATLAB_R2019a.app/toolbox/simulink/compiled_model_interface:/Applications/MATLAB_R2019a.app/toolbox/compiler:/Applications/MATLAB_R2019a.app/toolbox/compiler/compilerdemos:/Applications/MATLAB_R2019a.app/toolbox/compiler/java:/Applications/MATLAB_R2019a.app/toolbox/compiler_sdk:/Applications/MATLAB_R2019a.app/toolbox/compiler/mltall:/Applications/MATLAB_R2019a.app/toolbox/compiler_sdk/java:/Applications/MATLAB_R2019a.app/toolbox/matlab/configtools:/Applications/MATLAB_R2019a.app/toolbox/matlab/connector2/academy:/Applications/MATLAB_R2019a.app/toolbox/matlab/connector2/common:/Applications/MATLAB_R2019a.app/toolbox/matlab/connector2/configuration:/Applications/MATLAB_R2019a.app/toolbox/matlab/connector2/connector:/Applications/MATLAB_R2019a.app/toolbox/matlab/connector2/editor:/Applications/MATLAB_R2019a.app/toolbox/matlab/connector2/figures:/Applications/MATLAB_R2019a.app/toolbox/matlab/connector2/http:/Applications/MATLAB_R2019a.app/toolbox/matlab/connector2/interpreter:/Applications/MATLAB_R2019a.app/toolbox/matlab/connector2/logger:/Applications/MATLAB_R2019a.app/toolbox/matlab/connector2/messageservice:/Applications/MATLAB_R2019a.app/toolbox/matlab/connector2/mgg:/Applications/MATLAB_R2019a.app/toolbox/matlab/connector2/nativebridge:/Applications/MATLAB_R2019a.app/toolbox/matlab/connector2/restmatlab:/Applications/MATLAB_R2019a.app/toolbox/matlab/connector2/session:/Applications/MATLAB_R2019a.app/toolbox/matlab/connector2/shadowfiles:/Applications/MATLAB_R2019a.app/toolbox/matlab/connector2/visualization:/Applications/MATLAB_R2019a.app/toolbox/matlab/connector2/worker:/Applications/MATLAB_R2019a.app/toolbox/control/control:/Applications/MATLAB_R2019a.app/toolbox/control/ctrlmodels:/Applications/MATLAB_R2019a.app/toolbox/control/ctrlanalysis:/Applications/MATLAB_R2019a.app/toolbox/control/ctrldesign:/Applications/MATLAB_R2019a.app/toolbox/control/ctrlplots:/Applications/MATLAB_R2019a.app/toolbox/control/ctrlguis:/Applications/MATLAB_R2019a.app/toolbox/control/ctrlobsolete:/Applications/MATLAB_R2019a.app/toolbox/control/ctrlutil:/Applications/MATLAB_R2019a.app/toolbox/control/ctrldemos:/Applications/MATLAB_R2019a.app/help/toolbox/control/examples:/Applications/MATLAB_R2019a.app/toolbox/shared/cosimservice/ddg:/Applications/MATLAB_R2019a.app/toolbox/matlab/external/interfaces/cpp:/Applications/MATLAB_R2019a.app/toolbox/matlab/reports:/Applications/MATLAB_R2019a.app/toolbox/curvefit/curvefit:/Applications/MATLAB_R2019a.app/toolbox/curvefit/splines:/Applications/MATLAB_R2019a.app/toolbox/curvefit/sftoolgui:/Applications/MATLAB_R2019a.app/toolbox/curvefit/curvefitdemos:/Applications/MATLAB_R2019a.app/toolbox/database/database:/Applications/MATLAB_R2019a.app/toolbox/database/dbdemos:/Applications/MATLAB_R2019a.app/toolbox/datafeed/datafeed:/Applications/MATLAB_R2019a.app/toolbox/datafeed/datafeeddemos:/Applications/MATLAB_R2019a.app/toolbox/datafeed/dfgui:/Applications/MATLAB_R2019a.app/toolbox/matlab/datatools/datatoolsservices/matlab:/Applications/MATLAB_R2019a.app/toolbox/matlab/datatools/editorconverters/matlab:/Applications/MATLAB_R2019a.app/toolbox/matlab/datatools/importtool/matlab/peer:/Applications/MATLAB_R2019a.app/toolbox/matlab/datatools/importtool/matlab/server:/Applications/MATLAB_R2019a.app/toolbox/matlab/datatools/inspector/matlab:/Applications/MATLAB_R2019a.app/toolbox/matlab/datatools/inspector/registration:/Applications/MATLAB_R2019a.app/toolbox/matlab/datatools/peermodel_mcos/matlab:/Applications/MATLAB_R2019a.app/toolbox/matlab/datatools/plotstab/matlab:/Applications/MATLAB_R2019a.app/toolbox/matlab/datatools/variableeditor/matlab:/Applications/MATLAB_R2019a.app/toolbox/matlab/datatools/workspacebrowser/matlab:/Applications/MATLAB_R2019a.app/toolbox/dig/dig:/Applications/MATLAB_R2019a.app/toolbox/distcomp:/Applications/MATLAB_R2019a.app/toolbox/distcomp/distcomp:/Applications/MATLAB_R2019a.app/toolbox/distcomp/user:/Applications/MATLAB_R2019a.app/toolbox/distcomp/mpi:/Applications/MATLAB_R2019a.app/toolbox/distcomp/parallel:/Applications/MATLAB_R2019a.app/toolbox/distcomp/parallel/util:/Applications/MATLAB_R2019a.app/toolbox/distcomp/lang:/Applications/MATLAB_R2019a.app/toolbox/distcomp/cluster:/Applications/MATLAB_R2019a.app/toolbox/distcomp/gpu:/Applications/MATLAB_R2019a.app/toolbox/distcomp/array:/Applications/MATLAB_R2019a.app/toolbox/distcomp/pctdemos:/Applications/MATLAB_R2019a.app/toolbox/dnnfpga/dnnfpga:/Applications/MATLAB_R2019a.app/toolbox/dnnfpga/dnnfpga/src/apis:/Applications/MATLAB_R2019a.app/toolbox/dnnfpga/dnnfpga/src/shared/assembler:/Applications/MATLAB_R2019a.app/toolbox/dnnfpga/dnnfpga/src/shared/bitstreambase:/Applications/MATLAB_R2019a.app/toolbox/dnnfpga/dnnfpga/src/shared/compiler:/Applications/MATLAB_R2019a.app/toolbox/dnnfpga/dnnfpga/src/shared/convbase:/Applications/MATLAB_R2019a.app/toolbox/dnnfpga/dnnfpga/src/shared/convcontroller2:/Applications/MATLAB_R2019a.app/toolbox/dnnfpga/dnnfpga/src/shared/cosimbase:/Applications/MATLAB_R2019a.app/toolbox/dnnfpga/dnnfpga/src/shared/deployablenetwork:/Applications/MATLAB_R2019a.app/toolbox/dnnfpga/dnnfpga/src/shared/hwutils:/Applications/MATLAB_R2019a.app/toolbox/dnnfpga/dnnfpga/src/shared/processorbase:/Applications/MATLAB_R2019a.app/toolbox/dnnfpga/dnnfpga/src/shared/profiler:/Applications/MATLAB_R2019a.app/toolbox/dnnfpga/dnnfpga/src/shared/utilscripts:/Applications/MATLAB_R2019a.app/toolbox/shared/dastudio/dpvu/dpvu:/Applications/MATLAB_R2019a.app/toolbox/shared/dastudio/dpvu/dpvu/metamodel:/Applications/MATLAB_R2019a.app/toolbox/shared/dastudio/dpvu/dpvu/actions:/Applications/MATLAB_R2019a.app/toolbox/driving/driving:/Applications/MATLAB_R2019a.app/toolbox/driving/drivingdata:/Applications/MATLAB_R2019a.app/toolbox/driving/drivingutilities:/Applications/MATLAB_R2019a.app/toolbox/driving/drivingdemos:/Applications/MATLAB_R2019a.app/toolbox/shared/drivingscenario:/Applications/MATLAB_R2019a.app/toolbox/shared/drivingvisuals:/Applications/MATLAB_R2019a.app/toolbox/dsp/dsp:/Applications/MATLAB_R2019a.app/toolbox/dsp/dsputilities:/Applications/MATLAB_R2019a.app/toolbox/dsp/dsputilities/dspinit:/Applications/MATLAB_R2019a.app/toolbox/dsp/dsputilities/dspmex:/Applications/MATLAB_R2019a.app/toolbox/dsp/dsp/compiled:/Applications/MATLAB_R2019a.app/toolbox/dsp/dspdemos:/Applications/MATLAB_R2019a.app/help/toolbox/dsp/examples:/Applications/MATLAB_R2019a.app/toolbox/shared/spc/src_ml:/Applications/MATLAB_R2019a.app/toolbox/shared/dsp/simulink/dsp:/Applications/MATLAB_R2019a.app/toolbox/dsp/templates:/Applications/MATLAB_R2019a.app/toolbox/dsp/dsphdl:/Applications/MATLAB_R2019a.app/toolbox/dsp/dsphdl/compiled:/Applications/MATLAB_R2019a.app/toolbox/dsp/dsphdl/dsputilities:/Applications/MATLAB_R2019a.app/toolbox/rtw/targets/ecoder:/Applications/MATLAB_R2019a.app/toolbox/rtw/targets/mpt:/Applications/MATLAB_R2019a.app/toolbox/rtw/targets/mpt/mpt:/Applications/MATLAB_R2019a.app/toolbox/rtw/targets/mpt/user_specific:/Applications/MATLAB_R2019a.app/toolbox/coder/embeddedcoder:/Applications/MATLAB_R2019a.app/toolbox/rtw/targets/ecoder/ecoderdemos/dataclasses:/Applications/MATLAB_R2019a.app/toolbox/rtw/targets/ecoder/ecoderdemos:/Applications/MATLAB_R2019a.app/toolbox/econ/econ:/Applications/MATLAB_R2019a.app/toolbox/econ/econdata:/Applications/MATLAB_R2019a.app/toolbox/econ/econGUIs:/Applications/MATLAB_R2019a.app/toolbox/simulink/edittimeui:/Applications/MATLAB_R2019a.app/toolbox/coder/embeddedcoder_templates:/Applications/MATLAB_R2019a.app/toolbox/eml/eml:/Applications/MATLAB_R2019a.app/toolbox/matlab/external/engines/engine_api:/Applications/MATLAB_R2019a.app/examples/5g:/Applications/MATLAB_R2019a.app/examples/aero:/Applications/MATLAB_R2019a.app/examples/antenna:/Applications/MATLAB_R2019a.app/examples/antenna_phased:/Applications/MATLAB_R2019a.app/examples/audio:/Applications/MATLAB_R2019a.app/examples/audio_wavelet:/Applications/MATLAB_R2019a.app/examples/autoblks:/Applications/MATLAB_R2019a.app/examples/autosarblockset:/Applications/MATLAB_R2019a.app/examples/bioinfo:/Applications/MATLAB_R2019a.app/examples/bluetooth:/Applications/MATLAB_R2019a.app/examples/coder:/Applications/MATLAB_R2019a.app/examples/coder_compiler_dsp:/Applications/MATLAB_R2019a.app/examples/coder_fixedpoint_simulink:/Applications/MATLAB_R2019a.app/examples/comm:/Applications/MATLAB_R2019a.app/examples/comm_msblks:/Applications/MATLAB_R2019a.app/examples/comm_serdes:/Applications/MATLAB_R2019a.app/examples/comm_simrf:/Applications/MATLAB_R2019a.app/examples/control:/Applications/MATLAB_R2019a.app/examples/controls_id:/Applications/MATLAB_R2019a.app/examples/curvefit:/Applications/MATLAB_R2019a.app/examples/daq_stateflow:/Applications/MATLAB_R2019a.app/examples/database:/Applications/MATLAB_R2019a.app/examples/datafeed:/Applications/MATLAB_R2019a.app/examples/deeplearning_shared:/Applications/MATLAB_R2019a.app/examples/distcomp:/Applications/MATLAB_R2019a.app/examples/driving:/Applications/MATLAB_R2019a.app/examples/driving_fusion:/Applications/MATLAB_R2019a.app/examples/driving_fusion_vision:/Applications/MATLAB_R2019a.app/examples/dsp:/Applications/MATLAB_R2019a.app/examples/dsp_hdlcoder:/Applications/MATLAB_R2019a.app/examples/ecoder:/Applications/MATLAB_R2019a.app/examples/econ:/Applications/MATLAB_R2019a.app/examples/econ/helper:/Applications/MATLAB_R2019a.app/examples/finance:/Applications/MATLAB_R2019a.app/examples/fininst:/Applications/MATLAB_R2019a.app/examples/fixedpoint:/Applications/MATLAB_R2019a.app/examples/fuelsys_shared:/Applications/MATLAB_R2019a.app/examples/fusion:/Applications/MATLAB_R2019a.app/examples/fuzzy:/Applications/MATLAB_R2019a.app/examples/globaloptim:/Applications/MATLAB_R2019a.app/examples/graphics:/Applications/MATLAB_R2019a.app/examples/graphics2:/Applications/MATLAB_R2019a.app/examples/hdlcoder:/Applications/MATLAB_R2019a.app/examples/hdlfilter:/Applications/MATLAB_R2019a.app/examples/ident:/Applications/MATLAB_R2019a.app/examples/images:/Applications/MATLAB_R2019a.app/examples/imaq:/Applications/MATLAB_R2019a.app/examples/instrument:/Applications/MATLAB_R2019a.app/examples/lte:/Applications/MATLAB_R2019a.app/examples/ltehdl:/Applications/MATLAB_R2019a.app/examples/map:/Applications/MATLAB_R2019a.app/examples/matlab:/Applications/MATLAB_R2019a.app/examples/matlabmobile:/Applications/MATLAB_R2019a.app/examples/mpc:/Applications/MATLAB_R2019a.app/examples/msblks:/Applications/MATLAB_R2019a.app/examples/nnet:/Applications/MATLAB_R2019a.app/examples/optim:/Applications/MATLAB_R2019a.app/examples/pde:/Applications/MATLAB_R2019a.app/examples/phased:/Applications/MATLAB_R2019a.app/examples/phased_comm:/Applications/MATLAB_R2019a.app/examples/plantdeployment:/Applications/MATLAB_R2019a.app/examples/predmaint:/Applications/MATLAB_R2019a.app/examples/predmaint_shared:/Applications/MATLAB_R2019a.app/examples/rf:/Applications/MATLAB_R2019a.app/examples/rf_serdes:/Applications/MATLAB_R2019a.app/examples/risk:/Applications/MATLAB_R2019a.app/examples/rl:/Applications/MATLAB_R2019a.app/examples/rl/helper:/Applications/MATLAB_R2019a.app/examples/robotics:/Applications/MATLAB_R2019a.app/examples/robust:/Applications/MATLAB_R2019a.app/examples/rptgen:/Applications/MATLAB_R2019a.app/examples/rptgen/helper:/Applications/MATLAB_R2019a.app/examples/rptgenext:/Applications/MATLAB_R2019a.app/examples/serdes:/Applications/MATLAB_R2019a.app/examples/shared_rotations:/Applications/MATLAB_R2019a.app/examples/shared_tracking_fusion:/Applications/MATLAB_R2019a.app/examples/signal:/Applications/MATLAB_R2019a.app/examples/simbio:/Applications/MATLAB_R2019a.app/examples/simevents:/Applications/MATLAB_R2019a.app/examples/simrf:/Applications/MATLAB_R2019a.app/examples/simscape:/Applications/MATLAB_R2019a.app/examples/simulink:/Applications/MATLAB_R2019a.app/examples/simulinkcoder:/Applications/MATLAB_R2019a.app/examples/simulinktest:/Applications/MATLAB_R2019a.app/examples/sl3d:/Applications/MATLAB_R2019a.app/examples/slcheck:/Applications/MATLAB_R2019a.app/examples/slcontrol:/Applications/MATLAB_R2019a.app/examples/slcoverage:/Applications/MATLAB_R2019a.app/examples/sldo:/Applications/MATLAB_R2019a.app/examples/sldrt:/Applications/MATLAB_R2019a.app/examples/sldv:/Applications/MATLAB_R2019a.app/examples/slrequirements:/Applications/MATLAB_R2019a.app/examples/sps:/Applications/MATLAB_R2019a.app/examples/stateflow:/Applications/MATLAB_R2019a.app/examples/stateflow_hdlcoder_simulink:/Applications/MATLAB_R2019a.app/examples/stats:/Applications/MATLAB_R2019a.app/examples/symbolic:/Applications/MATLAB_R2019a.app/examples/textanalytics:/Applications/MATLAB_R2019a.app/examples/trading:/Applications/MATLAB_R2019a.app/examples/vdynblks:/Applications/MATLAB_R2019a.app/examples/vision:/Applications/MATLAB_R2019a.app/examples/visionhdl_hdlcoder:/Applications/MATLAB_R2019a.app/examples/vnt_driving:/Applications/MATLAB_R2019a.app/examples/wavelet:/Applications/MATLAB_R2019a.app/examples/wlan:/Applications/MATLAB_R2019a.app/examples/wlan_antenna:/Applications/MATLAB_R2019a.app/examples/wlan_phased:/Applications/MATLAB_R2019a.app/examples/xpc:/Applications/MATLAB_R2019a.app/toolbox/matlab/filebrowser:/Applications/MATLAB_R2019a.app/toolbox/dsp/filterdesign:/Applications/MATLAB_R2019a.app/toolbox/finance/calendar:/Applications/MATLAB_R2019a.app/toolbox/finance/finance:/Applications/MATLAB_R2019a.app/toolbox/finance/finsupport:/Applications/MATLAB_R2019a.app/toolbox/finance/ftseries:/Applications/MATLAB_R2019a.app/toolbox/finance/bigdata:/Applications/MATLAB_R2019a.app/toolbox/finance/findemos:/Applications/MATLAB_R2019a.app/toolbox/matlab/findfiles:/Applications/MATLAB_R2019a.app/toolbox/fininst/fininst:/Applications/MATLAB_R2019a.app/toolbox/fininst/fininstdemos:/Applications/MATLAB_R2019a.app/toolbox/fixedpoint/fidemos:/Applications/MATLAB_R2019a.app/toolbox/fixedpoint/embeddedlib:/Applications/MATLAB_R2019a.app/toolbox/fixedpoint/fixedpoint:/Applications/MATLAB_R2019a.app/toolbox/fixedpoint/fixedpointconverter:/Applications/MATLAB_R2019a.app/toolbox/fixedpoint/fixedpointtool:/Applications/MATLAB_R2019a.app/toolbox/fixpoint:/Applications/MATLAB_R2019a.app/toolbox/fixpoint/fpca:/Applications/MATLAB_R2019a.app/toolbox/fixpoint/fxptopo:/Applications/MATLAB_R2019a.app/toolbox/fixpoint/restorepoint:/Applications/MATLAB_R2019a.app/toolbox/simulink/fixedandfloat/fxpdemos:/Applications/MATLAB_R2019a.app/toolbox/coder/float2fixed:/Applications/MATLAB_R2019a.app/toolbox/coder/float2fixed/demos:/Applications/MATLAB_R2019a.app/toolbox/coder/float2fixed/dmm_emlauthoring:/Applications/MATLAB_R2019a.app/toolbox/coder/float2fixed/custom_logger:/Applications/MATLAB_R2019a.app/toolbox/coder/float2fixed/mathlib:/Applications/MATLAB_R2019a.app/toolbox/shared/fmu_block:/Applications/MATLAB_R2019a.app/toolbox/shared/fmu_share/fmuexport:/Applications/MATLAB_R2019a.app/toolbox/fusion/fusion:/Applications/MATLAB_R2019a.app/toolbox/fusion/fusiondata:/Applications/MATLAB_R2019a.app/toolbox/fuzzy/fuzzy:/Applications/MATLAB_R2019a.app/toolbox/fuzzy/fuzzyutil:/Applications/MATLAB_R2019a.app/toolbox/fuzzy/fuzdemos:/Applications/MATLAB_R2019a.app/toolbox/matlab/uitools/uicomponents/components:/Applications/MATLAB_R2019a.app/toolbox/geoweb/connector:/Applications/MATLAB_R2019a.app/toolbox/geoweb/geoweb:/Applications/MATLAB_R2019a.app/toolbox/globaloptim:/Applications/MATLAB_R2019a.app/toolbox/globaloptim/globaloptim:/Applications/MATLAB_R2019a.app/toolbox/globaloptim/globaloptimdemos:/Applications/MATLAB_R2019a.app/toolbox/gpucoder/gpucoder/checkgpuenv:/Applications/MATLAB_R2019a.app/toolbox/coder/half:/Applications/MATLAB_R2019a.app/toolbox/hdlcoder/hdlcoder:/Applications/MATLAB_R2019a.app/toolbox/hdlcoder/hdlcoder/hdlutils:/Applications/MATLAB_R2019a.app/toolbox/hdlcoder/hdlcoder/hdlwa:/Applications/MATLAB_R2019a.app/toolbox/hdlcoder/hdlssc/hdlsscworkflowadvisor:/Applications/MATLAB_R2019a.app/toolbox/hdlcoder/hdlssc:/Applications/MATLAB_R2019a.app/toolbox/hdlcoder/hdlcoderdemos:/Applications/MATLAB_R2019a.app/toolbox/hdlcoder/hdlcoderdemos/matlabhdlcoderdemos:/Applications/MATLAB_R2019a.app/toolbox/hdlcoder/hdlcoderdemos/simscapehdldemos:/Applications/MATLAB_R2019a.app/toolbox/hdlcoder/filters:/Applications/MATLAB_R2019a.app/toolbox/hdlcoder/hdlcommon:/Applications/MATLAB_R2019a.app/toolbox/hdlcoder/hdlcommon/modelcheckeradvisor:/Applications/MATLAB_R2019a.app/toolbox/hdlfilter/hdlfilter:/Applications/MATLAB_R2019a.app/toolbox/hdlfilter/hdlfiltdemos:/Applications/MATLAB_R2019a.app/toolbox/hdlcoder/hdllib/ml_lib:/Applications/MATLAB_R2019a.app/toolbox/hdlcoder/hdllib/sl_lib:/Applications/MATLAB_R2019a.app/toolbox/hdlcoder/hdlslrt:/Applications/MATLAB_R2019a.app/toolbox/shared/hadoopserializer:/Applications/MATLAB_R2019a.app/toolbox/shared/appdes/services:/Applications/MATLAB_R2019a.app/toolbox/shared/hwmanager/hwconnection:/Applications/MATLAB_R2019a.app/toolbox/shared/hwmanager/hwmanagerapp:/Applications/MATLAB_R2019a.app/toolbox/shared/hwmanager/hwmanagerapp/devices:/Applications/MATLAB_R2019a.app/toolbox/shared/hwmanager/hwmanagerapp/providers:/Applications/MATLAB_R2019a.app/toolbox/shared/hwmanager/hwmanagerapp/plugins:/Applications/MATLAB_R2019a.app/toolbox/shared/hwmanager/hwmanagerapp/framework:/Applications/MATLAB_R2019a.app/toolbox/shared/hwmanager/hwmanagerapp/framework/modules:/Applications/MATLAB_R2019a.app/toolbox/shared/hwmanager/hwmanagerapp/hwsetup:/Applications/MATLAB_R2019a.app/toolbox/shared/hwmanager/hwmanagerapp/devicedata:/Applications/MATLAB_R2019a.app/toolbox/shared/hwmanager/hwservices/hwinfo:/Applications/MATLAB_R2019a.app/toolbox/shared/hwmanager/hwsetup:/Applications/MATLAB_R2019a.app/toolbox/shared/hwmanager/hwsetup/hwwidgets:/Applications/MATLAB_R2019a.app/toolbox/shared/hwmanager/hwsetup/hwtemplates:/Applications/MATLAB_R2019a.app/toolbox/shared/hwmanager/hwsetup/launch:/Applications/MATLAB_R2019a.app/toolbox/shared/hwmanager/logger:/Applications/MATLAB_R2019a.app/toolbox/idelink/extensions/ticcs:/Applications/MATLAB_R2019a.app/toolbox/idelink/extensions/ticcs/ccsblks:/Applications/MATLAB_R2019a.app/toolbox/idelink/foundation/pjtgenerator:/Applications/MATLAB_R2019a.app/toolbox/idelink/foundation/pjtgenerator/rtw:/Applications/MATLAB_R2019a.app/toolbox/idelink/foundation/pjtgenerator/tgtpref2:/Applications/MATLAB_R2019a.app/toolbox/idelink/foundation/pjtgenerator/profiler:/Applications/MATLAB_R2019a.app/toolbox/idelink/foundation/pjtgenerator/mdlinfo:/Applications/MATLAB_R2019a.app/toolbox/idelink/foundation/pjtgenerator/blks:/Applications/MATLAB_R2019a.app/toolbox/idelink/foundation/pjtgenerator/blks/masks:/Applications/MATLAB_R2019a.app/toolbox/idelink/foundation/pjtgenerator/blks/tlc_c:/Applications/MATLAB_R2019a.app/toolbox/idelink/foundation:/Applications/MATLAB_R2019a.app/toolbox/idelink/foundation/util:/Applications/MATLAB_R2019a.app/toolbox/idelink/foundation/errorhandler:/Applications/MATLAB_R2019a.app/toolbox/idelink/foundation/xmakefile:/Applications/MATLAB_R2019a.app/toolbox/idelink/foundation/hookpoints:/Applications/MATLAB_R2019a.app/toolbox/idelink/idelinkdemos:/Applications/MATLAB_R2019a.app/toolbox/ident/ident:/Applications/MATLAB_R2019a.app/toolbox/ident/nlident:/Applications/MATLAB_R2019a.app/toolbox/ident/idobsolete:/Applications/MATLAB_R2019a.app/toolbox/ident/idguis:/Applications/MATLAB_R2019a.app/toolbox/ident/idutils:/Applications/MATLAB_R2019a.app/toolbox/ident/idrecursive:/Applications/MATLAB_R2019a.app/toolbox/ident/idhelp:/Applications/MATLAB_R2019a.app/toolbox/ident/iddemos:/Applications/MATLAB_R2019a.app/toolbox/ident/iddemos/examples:/Applications/MATLAB_R2019a.app/toolbox/images/colorspaces:/Applications/MATLAB_R2019a.app/toolbox/images/images:/Applications/MATLAB_R2019a.app/toolbox/images/imdata:/Applications/MATLAB_R2019a.app/toolbox/images/imuitools:/Applications/MATLAB_R2019a.app/toolbox/images/iptformats:/Applications/MATLAB_R2019a.app/toolbox/images/iptutils:/Applications/MATLAB_R2019a.app/toolbox/images/imdemos:/Applications/MATLAB_R2019a.app/toolbox/matlab/imagesci:/Applications/MATLAB_R2019a.app/toolbox/imaq/imaq:/Applications/MATLAB_R2019a.app/toolbox/imaq/imaqdemos:/Applications/MATLAB_R2019a.app/toolbox/imaq/imaqblks/imaqblks:/Applications/MATLAB_R2019a.app/toolbox/imaq/imaqblks/imaqmex:/Applications/MATLAB_R2019a.app/toolbox/imaq/imaqblks/imaqmasks:/Applications/MATLAB_R2019a.app/toolbox/instrument/instrument:/Applications/MATLAB_R2019a.app/toolbox/instrument/instrumentblks/instrumentblks:/Applications/MATLAB_R2019a.app/toolbox/instrument/instrumentblks/instrumentmex:/Applications/MATLAB_R2019a.app/toolbox/instrument/instrumentblks/instrumentmasks:/Applications/MATLAB_R2019a.app/toolbox/shared/instrument:/Applications/MATLAB_R2019a.app/toolbox/instrument/apps/modbusapplet:/Applications/MATLAB_R2019a.app/toolbox/instrument/apps/provider:/Applications/MATLAB_R2019a.app/toolbox/javabuilder/javabuilder:/Applications/MATLAB_R2019a.app/toolbox/learning/simulink/core/m:/Applications/MATLAB_R2019a.app/toolbox/simulink/libcodegen_harness/libcodegen_harness:/Applications/MATLAB_R2019a.app/toolbox/shared/spcuilib/logicanalyzer:/Applications/MATLAB_R2019a.app/toolbox/lte/lte:/Applications/MATLAB_R2019a.app/toolbox/ltehdl/ltehdl:/Applications/MATLAB_R2019a.app/toolbox/ltehdl/ltehdlutilities:/Applications/MATLAB_R2019a.app/toolbox/ltehdl/ltehdlutilities/ltehdlinit:/Applications/MATLAB_R2019a.app/toolbox/ltehdl/ltehdlexamples:/Applications/MATLAB_R2019a.app/toolbox/ltehdl/templates:/Applications/MATLAB_R2019a.app/toolbox/shared/m3i:/Applications/MATLAB_R2019a.app/toolbox/map/map:/Applications/MATLAB_R2019a.app/toolbox/map/mapgeodesy:/Applications/MATLAB_R2019a.app/toolbox/map/mapdisp:/Applications/MATLAB_R2019a.app/toolbox/map/mapformats:/Applications/MATLAB_R2019a.app/toolbox/map/mapproj:/Applications/MATLAB_R2019a.app/toolbox/map/mapobsolete:/Applications/MATLAB_R2019a.app/toolbox/map/mapdata:/Applications/MATLAB_R2019a.app/toolbox/map/mapdata/sdts:/Applications/MATLAB_R2019a.app/toolbox/simulink/mask/iconeditor:/Applications/MATLAB_R2019a.app/toolbox/shared/spcuilib/matrixviewer:/Applications/MATLAB_R2019a.app/toolbox/mps/discovery:/Applications/MATLAB_R2019a.app/toolbox/mps/json:/Applications/MATLAB_R2019a.app/toolbox/mps/persistence:/Applications/MATLAB_R2019a.app/toolbox/matlab/mex:/Applications/MATLAB_R2019a.app/toolbox/shared/mldatx:/Applications/MATLAB_R2019a.app/toolbox/compiler/mlhadoop:/Applications/MATLAB_R2019a.app/toolbox/compiler/mlspark:/Applications/MATLAB_R2019a.app/toolbox/mpc/mpc:/Applications/MATLAB_R2019a.app/toolbox/mpc/mpcguis:/Applications/MATLAB_R2019a.app/toolbox/mpc/mpcobsolete:/Applications/MATLAB_R2019a.app/toolbox/mpc/mpcutils:/Applications/MATLAB_R2019a.app/toolbox/mpc/mpcdemos:/Applications/MATLAB_R2019a.app/toolbox/msblks/msblks:/Applications/MATLAB_R2019a.app/toolbox/msblks/msblksutilities:/Applications/MATLAB_R2019a.app/toolbox/multisim:/Applications/MATLAB_R2019a.app/ui/mw-webwindow/mw-webwindow-m:/Applications/MATLAB_R2019a.app/toolbox/fixedpoint/ui/nedVisuals:/Applications/MATLAB_R2019a.app/toolbox/fixedpoint/ui/nedFunctionApproximationTool:/Applications/MATLAB_R2019a.app/toolbox/matlab/networklib:/Applications/MATLAB_R2019a.app/toolbox/nnet:/Applications/MATLAB_R2019a.app/toolbox/nnet/nncontrol:/Applications/MATLAB_R2019a.app/toolbox/nnet/nnet:/Applications/MATLAB_R2019a.app/toolbox/nnet/nnet/nnadapt:/Applications/MATLAB_R2019a.app/toolbox/nnet/nnet/nndatafun:/Applications/MATLAB_R2019a.app/toolbox/nnet/nnet/nnderivative:/Applications/MATLAB_R2019a.app/toolbox/nnet/nnet/nndistance:/Applications/MATLAB_R2019a.app/toolbox/nnet/nnet/nndivision:/Applications/MATLAB_R2019a.app/toolbox/nnet/nnet/nninitlayer:/Applications/MATLAB_R2019a.app/toolbox/nnet/nnet/nninitnetwork:/Applications/MATLAB_R2019a.app/toolbox/nnet/nnet/nninitweight:/Applications/MATLAB_R2019a.app/toolbox/nnet/nnet/nnlearn:/Applications/MATLAB_R2019a.app/toolbox/nnet/nnet/nnnetfun:/Applications/MATLAB_R2019a.app/toolbox/nnet/nnet/nnnetinput:/Applications/MATLAB_R2019a.app/toolbox/nnet/nnet/nnnetwork:/Applications/MATLAB_R2019a.app/toolbox/nnet/nnet/nnperformance:/Applications/MATLAB_R2019a.app/toolbox/nnet/nnet/nnplot:/Applications/MATLAB_R2019a.app/toolbox/nnet/nnet/nnprocess:/Applications/MATLAB_R2019a.app/toolbox/nnet/nnet/nnsearch:/Applications/MATLAB_R2019a.app/toolbox/nnet/nnet/nntopology:/Applications/MATLAB_R2019a.app/toolbox/nnet/nnet/nntrain:/Applications/MATLAB_R2019a.app/toolbox/nnet/nnet/nntransfer:/Applications/MATLAB_R2019a.app/toolbox/nnet/nnet/nnweight:/Applications/MATLAB_R2019a.app/toolbox/nnet/nnguis:/Applications/MATLAB_R2019a.app/toolbox/nnet/nnobsolete:/Applications/MATLAB_R2019a.app/toolbox/nnet/nnutils:/Applications/MATLAB_R2019a.app/toolbox/nnet/cnn:/Applications/MATLAB_R2019a.app/toolbox/nnet/cnn/spkgs:/Applications/MATLAB_R2019a.app/toolbox/nnet/deepapp:/Applications/MATLAB_R2019a.app/toolbox/nnet/nndemos:/Applications/MATLAB_R2019a.app/toolbox/nnet/nndemos/nndatasets:/Applications/MATLAB_R2019a.app/toolbox/optim/optim:/Applications/MATLAB_R2019a.app/toolbox/optim:/Applications/MATLAB_R2019a.app/toolbox/optim/optimdemos:/Applications/MATLAB_R2019a.app/toolbox/optim/problemdef:/Applications/MATLAB_R2019a.app/toolbox/distcomp/bigdata:/Applications/MATLAB_R2019a.app/toolbox/matlab/pathtool:/Applications/MATLAB_R2019a.app/toolbox/pde:/Applications/MATLAB_R2019a.app/toolbox/pde/pdedata:/Applications/MATLAB_R2019a.app/toolbox/pde/pdedemos:/Applications/MATLAB_R2019a.app/toolbox/phased/phased:/Applications/MATLAB_R2019a.app/toolbox/phased/phasedapps:/Applications/MATLAB_R2019a.app/toolbox/phased/phaseddemos:/Applications/MATLAB_R2019a.app/toolbox/physmod/common/data/mli/m:/Applications/MATLAB_R2019a.app/toolbox/physmod/common/dataservices/gui/m:/Applications/MATLAB_R2019a.app/toolbox/physmod/common/dataservices/mli/m:/Applications/MATLAB_R2019a.app/toolbox/physmod/common/dataservices/sli/m:/Applications/MATLAB_R2019a.app/toolbox/physmod/common/external/library/m:/Applications/MATLAB_R2019a.app/toolbox/physmod/common/external/mli/m:/Applications/MATLAB_R2019a.app/toolbox/physmod/common/foundation/mli/m:/Applications/MATLAB_R2019a.app/toolbox/physmod/common/gl/mli/m:/Applications/MATLAB_R2019a.app/toolbox/physmod/common/gl/sli/m:/Applications/MATLAB_R2019a.app/toolbox/physmod/common/gui/mli/m:/Applications/MATLAB_R2019a.app/toolbox/physmod/common/logging/mli/m:/Applications/MATLAB_R2019a.app/toolbox/physmod/common/logging/sli/m:/Applications/MATLAB_R2019a.app/toolbox/physmod/common/pi/sli/m:/Applications/MATLAB_R2019a.app/toolbox/physmod/common/units/mli/m:/Applications/MATLAB_R2019a.app/toolbox/physmod/elec/eedemos:/Applications/MATLAB_R2019a.app/toolbox/physmod/elec/eedemos/doc:/Applications/MATLAB_R2019a.app/toolbox/physmod/elec/fe:/Applications/MATLAB_R2019a.app/toolbox/physmod/elec/library/m:/Applications/MATLAB_R2019a.app/toolbox/physmod/elec/sli/m:/Applications/MATLAB_R2019a.app/toolbox/physmod/elec/sli/sfun:/Applications/MATLAB_R2019a.app/toolbox/physmod/elec/spice2ssc/m:/Applications/MATLAB_R2019a.app/toolbox/physmod/elec/stubs/elec/m:/Applications/MATLAB_R2019a.app/toolbox/physmod/elec/stubs/pe/m:/Applications/MATLAB_R2019a.app/toolbox/physmod/elec/stubs/pe/sli:/Applications/MATLAB_R2019a.app/toolbox/physmod/elec/templates:/Applications/MATLAB_R2019a.app/toolbox/physmod/elec/utils/m:/Applications/MATLAB_R2019a.app/toolbox/physmod/fluids/fluids:/Applications/MATLAB_R2019a.app/toolbox/physmod/fluids/utils:/Applications/MATLAB_R2019a.app/toolbox/physmod/gui/gfx/m:/Applications/MATLAB_R2019a.app/toolbox/physmod/mech/mech:/Applications/MATLAB_R2019a.app/toolbox/physmod/mech/importer:/Applications/MATLAB_R2019a.app/toolbox/physmod/mech/mechdemos:/Applications/MATLAB_R2019a.app/toolbox/physmod/mech/mechdemos/doc:/Applications/MATLAB_R2019a.app/toolbox/physmod/ne_sli/ne_sli:/Applications/MATLAB_R2019a.app/toolbox/physmod/network_engine/network_engine:/Applications/MATLAB_R2019a.app/toolbox/physmod/pm_sli/pm_sli:/Applications/MATLAB_R2019a.app/toolbox/physmod/pm_visimpl/pm_visimpl:/Applications/MATLAB_R2019a.app/toolbox/physmod/powersys/powerdemo:/Applications/MATLAB_R2019a.app/toolbox/physmod/powersys/powerdemo/meascontrol:/Applications/MATLAB_R2019a.app/toolbox/physmod/powersys/powerdemo/power_utility:/Applications/MATLAB_R2019a.app/toolbox/physmod/powersys/DR/DR:/Applications/MATLAB_R2019a.app/toolbox/physmod/powersys/DR/DRdemo:/Applications/MATLAB_R2019a.app/toolbox/physmod/powersys/drives/drives:/Applications/MATLAB_R2019a.app/toolbox/physmod/powersys/drives/drivesdemo:/Applications/MATLAB_R2019a.app/toolbox/physmod/powersys/facts/facts:/Applications/MATLAB_R2019a.app/toolbox/physmod/powersys/facts/factsdemo:/Applications/MATLAB_R2019a.app/toolbox/physmod/powersys/library:/Applications/MATLAB_R2019a.app/toolbox/physmod/powersys/powerdemo/machines:/Applications/MATLAB_R2019a.app/toolbox/physmod/powersys/powerdemo/power_electronics:/Applications/MATLAB_R2019a.app/toolbox/physmod/powersys/powersys:/Applications/MATLAB_R2019a.app/toolbox/physmod/powersys/powerdemo/simple:/Applications/MATLAB_R2019a.app/toolbox/physmod/powersys/templates:/Applications/MATLAB_R2019a.app/toolbox/physmod/sdl/sdl:/Applications/MATLAB_R2019a.app/toolbox/physmod/sdl/classic:/Applications/MATLAB_R2019a.app/toolbox/physmod/sdl/classic/blockIcons:/Applications/MATLAB_R2019a.app/toolbox/physmod/sdl/advisor/m:/Applications/MATLAB_R2019a.app/toolbox/physmod/sdl/sdldemos:/Applications/MATLAB_R2019a.app/toolbox/physmod/sdl/sdldemos/doc:/Applications/MATLAB_R2019a.app/toolbox/physmod/sh/sh:/Applications/MATLAB_R2019a.app/toolbox/physmod/sh/sh_legacy:/Applications/MATLAB_R2019a.app/toolbox/physmod/sh/advisor/m:/Applications/MATLAB_R2019a.app/toolbox/physmod/sh/shdemos:/Applications/MATLAB_R2019a.app/toolbox/physmod/sh/utils:/Applications/MATLAB_R2019a.app/toolbox/physmod/simrf/m:/Applications/MATLAB_R2019a.app/toolbox/physmod/simscape/advisor/m:/Applications/MATLAB_R2019a.app/toolbox/physmod/simscape/compiler/mli/m:/Applications/MATLAB_R2019a.app/toolbox/physmod/simscape/compiler/patterns/m:/Applications/MATLAB_R2019a.app/toolbox/physmod/simscape/compiler/sli/m:/Applications/MATLAB_R2019a.app/toolbox/physmod/simscape/simscapedemos:/Applications/MATLAB_R2019a.app/toolbox/physmod/simscape/simscapedemos/doc:/Applications/MATLAB_R2019a.app/toolbox/physmod/simscape/engine/library/m:/Applications/MATLAB_R2019a.app/toolbox/physmod/simscape/engine/mli/m:/Applications/MATLAB_R2019a.app/toolbox/physmod/simscape/engine/sli/m:/Applications/MATLAB_R2019a.app/toolbox/physmod/simscape/foundation/simscape:/Applications/MATLAB_R2019a.app/toolbox/physmod/simscape/gui/mli/m:/Applications/MATLAB_R2019a.app/toolbox/physmod/simscape/library/m:/Applications/MATLAB_R2019a.app/toolbox/physmod/simscape/library/m/physical_signal_legacy:/Applications/MATLAB_R2019a.app/toolbox/physmod/simscape/reg/m:/Applications/MATLAB_R2019a.app/toolbox/physmod/simscape/simscape/m:/Applications/MATLAB_R2019a.app/toolbox/physmod/simscape/solver/m:/Applications/MATLAB_R2019a.app/toolbox/physmod/simscape/templates:/Applications/MATLAB_R2019a.app/toolbox/physmod/simscape/utils/m:/Applications/MATLAB_R2019a.app/toolbox/physmod/sm/core/m:/Applications/MATLAB_R2019a.app/toolbox/physmod/sm/smdemos:/Applications/MATLAB_R2019a.app/toolbox/physmod/sm/smdemos/images:/Applications/MATLAB_R2019a.app/toolbox/physmod/sm/smdemos/wing_landing_gear:/Applications/MATLAB_R2019a.app/toolbox/physmod/sm/smdemos/wing_landing_gear/images:/Applications/MATLAB_R2019a.app/toolbox/physmod/sm/smdemos/cart_double_pendulum:/Applications/MATLAB_R2019a.app/toolbox/physmod/sm/smdemos/cart_double_pendulum/images:/Applications/MATLAB_R2019a.app/toolbox/physmod/sm/smdemos/stewart_platform:/Applications/MATLAB_R2019a.app/toolbox/physmod/sm/smdemos/stewart_platform/images:/Applications/MATLAB_R2019a.app/toolbox/physmod/sm/smdemos/double_crank_aiming:/Applications/MATLAB_R2019a.app/toolbox/physmod/sm/smdemos/double_crank_aiming/images:/Applications/MATLAB_R2019a.app/toolbox/physmod/sm/smdemos/bread_slicer:/Applications/MATLAB_R2019a.app/toolbox/physmod/sm/smdemos/bread_slicer/images:/Applications/MATLAB_R2019a.app/toolbox/physmod/sm/smdemos/import/stewart_platform:/Applications/MATLAB_R2019a.app/toolbox/physmod/sm/smdemos/import/four_bar:/Applications/MATLAB_R2019a.app/toolbox/physmod/sm/smdemos/radial_engine:/Applications/MATLAB_R2019a.app/toolbox/physmod/sm/smdemos/radial_engine/images:/Applications/MATLAB_R2019a.app/toolbox/physmod/sm/smdemos/double_wishbone_suspension:/Applications/MATLAB_R2019a.app/toolbox/physmod/sm/smdemos/double_wishbone_suspension/images:/Applications/MATLAB_R2019a.app/toolbox/physmod/sm/smdemos/import/robot:/Applications/MATLAB_R2019a.app/toolbox/physmod/sm/smdemos/cardan_gear:/Applications/MATLAB_R2019a.app/toolbox/physmod/sm/smdemos/cardan_gear/images:/Applications/MATLAB_R2019a.app/toolbox/physmod/sm/smdemos/windshield_wiper:/Applications/MATLAB_R2019a.app/toolbox/physmod/sm/smdemos/windshield_wiper/images:/Applications/MATLAB_R2019a.app/toolbox/physmod/sm/smdemos/backhoe:/Applications/MATLAB_R2019a.app/toolbox/physmod/sm/smdemos/robotic_wrist:/Applications/MATLAB_R2019a.app/toolbox/physmod/sm/smdemos/carousel:/Applications/MATLAB_R2019a.app/toolbox/physmod/sm/smdemos/welding_robot:/Applications/MATLAB_R2019a.app/toolbox/physmod/sm/smdemos/import/robot_stepfiles:/Applications/MATLAB_R2019a.app/toolbox/physmod/sm/smdemos/potters_wheel:/Applications/MATLAB_R2019a.app/toolbox/physmod/sm/smdemos/linear_actuator:/Applications/MATLAB_R2019a.app/toolbox/physmod/sm/smdemos/pto_shaft:/Applications/MATLAB_R2019a.app/toolbox/physmod/sm/smdemos/cam_flapping_wing:/Applications/MATLAB_R2019a.app/toolbox/physmod/sm/smdemos/vehicle_slalom:/Applications/MATLAB_R2019a.app/toolbox/physmod/sm/smdemos/dump_trailer:/Applications/MATLAB_R2019a.app/toolbox/physmod/sm/smdemos/interface_elements:/Applications/MATLAB_R2019a.app/toolbox/physmod/sm/smdemos/solar_tracker:/Applications/MATLAB_R2019a.app/toolbox/physmod/sm/smdemos/import/humanoid_urdf:/Applications/MATLAB_R2019a.app/toolbox/physmod/sm/smdemos/suspension_templates:/Applications/MATLAB_R2019a.app/toolbox/physmod/sm/smdemos/worm_jack:/Applications/MATLAB_R2019a.app/toolbox/physmod/sm/smdemos/cable_robot:/Applications/MATLAB_R2019a.app/toolbox/physmod/sm/smdemos/leadscrew_friction:/Applications/MATLAB_R2019a.app/toolbox/physmod/sm/smdemos/block_tackle:/Applications/MATLAB_R2019a.app/toolbox/physmod/sm/smdemos/block_tackle/images:/Applications/MATLAB_R2019a.app/toolbox/physmod/sm/smdemos/drive_right_angle:/Applications/MATLAB_R2019a.app/toolbox/physmod/sm/smdemos/drive_right_angle/images:/Applications/MATLAB_R2019a.app/toolbox/physmod/sm/smdemos/tower_crane:/Applications/MATLAB_R2019a.app/toolbox/physmod/sm/smdemos/tower_crane/images:/Applications/MATLAB_R2019a.app/toolbox/physmod/sm/smdemos/common_gear:/Applications/MATLAB_R2019a.app/toolbox/physmod/sm/smdemos/common_gear/images:/Applications/MATLAB_R2019a.app/toolbox/physmod/sm/smdemos/cable_xy_table:/Applications/MATLAB_R2019a.app/toolbox/physmod/sm/smdemos/cable_xy_table/images:/Applications/MATLAB_R2019a.app/toolbox/physmod/sm/smdemos/doc:/Applications/MATLAB_R2019a.app/toolbox/physmod/sm/smdemos/doc/beams:/Applications/MATLAB_R2019a.app/toolbox/physmod/sm/smdemos/doc/bevel_gear:/Applications/MATLAB_R2019a.app/toolbox/physmod/sm/smdemos/doc/common_gear_external:/Applications/MATLAB_R2019a.app/toolbox/physmod/sm/smdemos/doc/common_gear_internal:/Applications/MATLAB_R2019a.app/toolbox/physmod/sm/smdemos/doc/rack_and_pinion:/Applications/MATLAB_R2019a.app/toolbox/physmod/sm/smdemos/doc/worm_and_gear:/Applications/MATLAB_R2019a.app/toolbox/physmod/sm/smdemos/doc/poc_cam:/Applications/MATLAB_R2019a.app/toolbox/physmod/sm/smdemos/doc/poc_flap:/Applications/MATLAB_R2019a.app/toolbox/physmod/sm/smdemos/doc/inertias:/Applications/MATLAB_R2019a.app/toolbox/physmod/sm/smdemos/doc/pulleys:/Applications/MATLAB_R2019a.app/toolbox/physmod/sm/smdemos/doc/pulleys/images:/Applications/MATLAB_R2019a.app/toolbox/physmod/sm/foundation/mech:/Applications/MATLAB_R2019a.app/toolbox/physmod/sm/gui/m:/Applications/MATLAB_R2019a.app/toolbox/physmod/sm/import/m:/Applications/MATLAB_R2019a.app/toolbox/physmod/sm/local/m:/Applications/MATLAB_R2019a.app/toolbox/physmod/sm/mli/m:/Applications/MATLAB_R2019a.app/toolbox/physmod/sm/sli/m:/Applications/MATLAB_R2019a.app/toolbox/physmod/sm/sm/m:/Applications/MATLAB_R2019a.app/toolbox/physmod/sm/ssci/m:/Applications/MATLAB_R2019a.app/toolbox/physmod/sm/templates/m:/Applications/MATLAB_R2019a.app/toolbox/physmod/sps/sps:/Applications/MATLAB_R2019a.app/toolbox/shared/codeinstrum/codeinstrum:/Applications/MATLAB_R2019a.app/toolbox/shared/cxxfe_mi/cxxfe_mi:/Applications/MATLAB_R2019a.app/toolbox/shared/polyspace:/Applications/MATLAB_R2019a.app/toolbox/predmaint/predmaint:/Applications/MATLAB_R2019a.app/toolbox/predmaint/predmaintguis:/Applications/MATLAB_R2019a.app/toolbox/predmaint/predmaintdemos:/Applications/MATLAB_R2019a.app/toolbox/matlab/project:/Applications/MATLAB_R2019a.app/toolbox/matlab/project/example:/Applications/MATLAB_R2019a.app/toolbox/matlab/project/toolstrip:/Applications/MATLAB_R2019a.app/toolbox/simulink/simulink/slproject:/Applications/MATLAB_R2019a.app/toolbox/simulink/simulink/slproject/menu:/Applications/MATLAB_R2019a.app/toolbox/matlab/external/interfaces/python:/Applications/MATLAB_R2019a.app/toolbox/realtime:/Applications/MATLAB_R2019a.app/toolbox/realtime/realtime:/Applications/MATLAB_R2019a.app/toolbox/realtime/realtime/rtw:/Applications/MATLAB_R2019a.app/toolbox/matlab/resources_folder:/Applications/MATLAB_R2019a.app/toolbox/rf/rf:/Applications/MATLAB_R2019a.app/toolbox/rf/rfnetparamfiles:/Applications/MATLAB_R2019a.app/toolbox/rf/rftool:/Applications/MATLAB_R2019a.app/toolbox/rf/rfdemos:/Applications/MATLAB_R2019a.app/toolbox/rfblks/rfblks:/Applications/MATLAB_R2019a.app/toolbox/rfblks/rfblksmasks:/Applications/MATLAB_R2019a.app/toolbox/rfblks/rfblksmex:/Applications/MATLAB_R2019a.app/toolbox/rfblks/rfblksdemos:/Applications/MATLAB_R2019a.app/toolbox/antenna/rfprop:/Applications/MATLAB_R2019a.app/toolbox/risk/risk:/Applications/MATLAB_R2019a.app/toolbox/risk/riskdata:/Applications/MATLAB_R2019a.app/toolbox/rl/rl:/Applications/MATLAB_R2019a.app/toolbox/rl/rl/simulink:/Applications/MATLAB_R2019a.app/toolbox/rl/rl/simulink/libs:/Applications/MATLAB_R2019a.app/toolbox/rl/rl/simulink/models:/Applications/MATLAB_R2019a.app/toolbox/robotics/robotics:/Applications/MATLAB_R2019a.app/toolbox/robotics/robotalgs:/Applications/MATLAB_R2019a.app/toolbox/robotics/robotappscore:/Applications/MATLAB_R2019a.app/toolbox/robotics/robotcore:/Applications/MATLAB_R2019a.app/toolbox/robotics/robotcore/meshes:/Applications/MATLAB_R2019a.app/toolbox/robotics/robotexamples:/Applications/MATLAB_R2019a.app/toolbox/robotics/robotexamples/ros:/Applications/MATLAB_R2019a.app/toolbox/robotics/robotexamples/ros/data/bags:/Applications/MATLAB_R2019a.app/toolbox/robotics/robotexamples/ros/helpers:/Applications/MATLAB_R2019a.app/toolbox/robotics/robotexamples/robotalgs:/Applications/MATLAB_R2019a.app/toolbox/robotics/robotexamples/robotalgs/helpers:/Applications/MATLAB_R2019a.app/toolbox/robotics/robotexamples/robotcore:/Applications/MATLAB_R2019a.app/toolbox/robotics/robotexamples/robotcore/helpers:/Applications/MATLAB_R2019a.app/toolbox/robotics/robotexamples/robotmanip:/Applications/MATLAB_R2019a.app/toolbox/robotics/robotexamples/robotmanip/helpers:/Applications/MATLAB_R2019a.app/toolbox/robotics/robotexamples/robotmanip/data/iiwa_description/urdf:/Applications/MATLAB_R2019a.app/toolbox/robotics/robotexamples/robotmanip/data/sawyer_description/urdf:/Applications/MATLAB_R2019a.app/toolbox/robotics/robotexamples/robotsimulink:/Applications/MATLAB_R2019a.app/toolbox/robotics/robotexamples/robotsimulink/helpers:/Applications/MATLAB_R2019a.app/toolbox/robotics/robotmanip:/Applications/MATLAB_R2019a.app/toolbox/robotics/ros:/Applications/MATLAB_R2019a.app/toolbox/robotics/robotsimulink:/Applications/MATLAB_R2019a.app/toolbox/robotics/robotsimulink/robotslros:/Applications/MATLAB_R2019a.app/toolbox/robotics/robotsimulink/robotslros/tlc:/Applications/MATLAB_R2019a.app/toolbox/robotics/robotsimulink/robotslros/toolchain:/Applications/MATLAB_R2019a.app/toolbox/robotics/robotsimulink/robotslalgs:/Applications/MATLAB_R2019a.app/toolbox/robotics/robotsimulink/robotslcore:/Applications/MATLAB_R2019a.app/toolbox/robotics/robotsimulink/robotslmanip:/Applications/MATLAB_R2019a.app/toolbox/robotics/robotsimulink/robotsltoolstrip/m:/Applications/MATLAB_R2019a.app/toolbox/robotics/robotslamapp:/Applications/MATLAB_R2019a.app/toolbox/robust/robust:/Applications/MATLAB_R2019a.app/toolbox/robust/rctlmi:/Applications/MATLAB_R2019a.app/toolbox/robust/rctutil:/Applications/MATLAB_R2019a.app/toolbox/robust/rctobsolete/robust:/Applications/MATLAB_R2019a.app/toolbox/robust/rctobsolete/lmi:/Applications/MATLAB_R2019a.app/toolbox/robust/rctobsolete/mutools/commands:/Applications/MATLAB_R2019a.app/toolbox/robust/rctobsolete/mutools/subs:/Applications/MATLAB_R2019a.app/toolbox/robust/rctdemos:/Applications/MATLAB_R2019a.app/help/toolbox/robust/examples:/Applications/MATLAB_R2019a.app/toolbox/rptgen/rptgen:/Applications/MATLAB_R2019a.app/toolbox/rptgen/rptgendemos:/Applications/MATLAB_R2019a.app/toolbox/rptgen/rptgendemos/domapi:/Applications/MATLAB_R2019a.app/toolbox/rptgen/xmlcomp:/Applications/MATLAB_R2019a.app/toolbox/rptgenext/rptgenext:/Applications/MATLAB_R2019a.app/toolbox/rptgenext/rptgenextdemos:/Applications/MATLAB_R2019a.app/toolbox/rptgenext/rptgenextdemos/flutter_suppression:/Applications/MATLAB_R2019a.app/toolbox/rptgenext/rptgenextdemos/sdd:/Applications/MATLAB_R2019a.app/toolbox/rptgenext/slxmlcomp:/Applications/MATLAB_R2019a.app/toolbox/rptgenext/rptgenextdemos/slxmlcomp:/Applications/MATLAB_R2019a.app/toolbox/matlab/serial:/Applications/MATLAB_R2019a.app/toolbox/simulink/blocks/sb2sl:/Applications/MATLAB_R2019a.app/toolbox/shared/sdi_matlabunit:/Applications/MATLAB_R2019a.app/toolbox/serdes/serdes:/Applications/MATLAB_R2019a.app/toolbox/serdes/amicodegen:/Applications/MATLAB_R2019a.app/toolbox/serdes/amicodegen/registry:/Applications/MATLAB_R2019a.app/toolbox/serdes/helperfiles:/Applications/MATLAB_R2019a.app/toolbox/shared/advisor:/Applications/MATLAB_R2019a.app/toolbox/shared/aeroblks:/Applications/MATLAB_R2019a.app/toolbox/shared/aeroblks/aeroblksutilities:/Applications/MATLAB_R2019a.app/toolbox/shared/asam/mdf:/Applications/MATLAB_R2019a.app/toolbox/shared/asynciolib:/Applications/MATLAB_R2019a.app/toolbox/shared/autonomous/autonomouslib:/Applications/MATLAB_R2019a.app/toolbox/shared/basemaps:/Applications/MATLAB_R2019a.app/toolbox/shared/bigdata:/Applications/MATLAB_R2019a.app/toolbox/shared/can:/Applications/MATLAB_R2019a.app/toolbox/shared/can/canblks:/Applications/MATLAB_R2019a.app/toolbox/shared/can/canmasks:/Applications/MATLAB_R2019a.app/toolbox/shared/can/canmex:/Applications/MATLAB_R2019a.app/toolbox/shared/cgir_fe:/Applications/MATLAB_R2019a.app/toolbox/shared/cgxe/cgxe:/Applications/MATLAB_R2019a.app/toolbox/shared/channel/terrain:/Applications/MATLAB_R2019a.app/toolbox/shared/cmlink/api:/Applications/MATLAB_R2019a.app/toolbox/shared/coder/coder:/Applications/MATLAB_R2019a.app/toolbox/shared/coder/coder/gpucoder:/Applications/MATLAB_R2019a.app/toolbox/shared/coder/reportinfo:/Applications/MATLAB_R2019a.app/toolbox/shared/codergui/codergui:/Applications/MATLAB_R2019a.app/toolbox/shared/comm_msblks_serdes/comm_msblks_serdes:/Applications/MATLAB_R2019a.app/toolbox/shared/comm_msblks_serdes/scopes:/Applications/MATLAB_R2019a.app/toolbox/shared/comm_msblks_serdes/utilities:/Applications/MATLAB_R2019a.app/toolbox/shared/channel:/Applications/MATLAB_R2019a.app/toolbox/shared/commRFexamples:/Applications/MATLAB_R2019a.app/toolbox/shared/commhdl:/Applications/MATLAB_R2019a.app/toolbox/shared/configset:/Applications/MATLAB_R2019a.app/toolbox/shared/configset_view/m:/Applications/MATLAB_R2019a.app/toolbox/shared/controllib/engine:/Applications/MATLAB_R2019a.app/toolbox/shared/controllib/engine/numerics:/Applications/MATLAB_R2019a.app/toolbox/shared/controllib/engine/options:/Applications/MATLAB_R2019a.app/toolbox/shared/controllib/engine/optim:/Applications/MATLAB_R2019a.app/toolbox/shared/controllib/engine/blocks:/Applications/MATLAB_R2019a.app/toolbox/shared/controllib/estimation:/Applications/MATLAB_R2019a.app/toolbox/shared/controllib/general:/Applications/MATLAB_R2019a.app/toolbox/shared/controllib/graphics:/Applications/MATLAB_R2019a.app/toolbox/shared/controllib/graphics/utils:/Applications/MATLAB_R2019a.app/toolbox/shared/controllib/graphics/plotoptions:/Applications/MATLAB_R2019a.app/toolbox/shared/controllib/requirements:/Applications/MATLAB_R2019a.app/toolbox/shared/curvefitlib:/Applications/MATLAB_R2019a.app/toolbox/shared/cxxfe/parser_mi/parser_mi:/Applications/MATLAB_R2019a.app/toolbox/shared/dastudio:/Applications/MATLAB_R2019a.app/toolbox/shared/dataflow:/Applications/MATLAB_R2019a.app/toolbox/shared/dataflow/dataflowmex/dataflow_mex:/Applications/MATLAB_R2019a.app/toolbox/shared/deviceplugindetection:/Applications/MATLAB_R2019a.app/toolbox/shared/dlcoder_base/dlcoder_base:/Applications/MATLAB_R2019a.app/toolbox/shared/dnnshared:/Applications/MATLAB_R2019a.app/toolbox/shared/dspblks/dspblks:/Applications/MATLAB_R2019a.app/toolbox/shared/dspblks/dspmex:/Applications/MATLAB_R2019a.app/toolbox/shared/dsp/dialog:/Applications/MATLAB_R2019a.app/toolbox/shared/dsp/float2fixed:/Applications/MATLAB_R2019a.app/toolbox/shared/dsp/hdl:/Applications/MATLAB_R2019a.app/toolbox/shared/dsp/scopes:/Applications/MATLAB_R2019a.app/toolbox/shared/dsp/vision/matlab/utilities:/Applications/MATLAB_R2019a.app/toolbox/shared/dsp/vision/simulink/utilities:/Applications/MATLAB_R2019a.app/toolbox/shared/dsp/vision/matlab/utilities/mex:/Applications/MATLAB_R2019a.app/toolbox/shared/dsp/vision/simulink/utilities/mex:/Applications/MATLAB_R2019a.app/toolbox/shared/dsp/vision/matlab/utilities/init:/Applications/MATLAB_R2019a.app/toolbox/shared/dsp/vision/matlab/vision:/Applications/MATLAB_R2019a.app/toolbox/shared/dsp/vision/simulink/vision:/Applications/MATLAB_R2019a.app/toolbox/shared/dsp/webscopes:/Applications/MATLAB_R2019a.app/toolbox/shared/eda/board:/Applications/MATLAB_R2019a.app/toolbox/shared/eda/edagraph:/Applications/MATLAB_R2019a.app/toolbox/shared/eda/fil:/Applications/MATLAB_R2019a.app/toolbox/shared/eda/fil/filmapi:/Applications/MATLAB_R2019a.app/toolbox/shared/eda/fpgaautomation:/Applications/MATLAB_R2019a.app/toolbox/shared/eda/fpgaautomation/obsolete:/Applications/MATLAB_R2019a.app/toolbox/shared/eda/fpgabase:/Applications/MATLAB_R2019a.app/toolbox/shared/eda/hdlparser:/Applications/MATLAB_R2019a.app/toolbox/shared/filterdesignlib:/Applications/MATLAB_R2019a.app/toolbox/shared/filterdesignlib/filterbuilder:/Applications/MATLAB_R2019a.app/toolbox/shared/fusion/utils:/Applications/MATLAB_R2019a.app/toolbox/shared/hdlshared:/Applications/MATLAB_R2019a.app/toolbox/shared/hdlshared/hdlshared_gui:/Applications/MATLAB_R2019a.app/toolbox/shared/hdlshared/hdlshared_soc:/Applications/MATLAB_R2019a.app/toolbox/shared/hotpluglib:/Applications/MATLAB_R2019a.app/toolbox/shared/hwconnectinstaller:/Applications/MATLAB_R2019a.app/toolbox/shared/hwconnectinstaller/common:/Applications/MATLAB_R2019a.app/toolbox/shared/imageio:/Applications/MATLAB_R2019a.app/toolbox/shared/imageslib:/Applications/MATLAB_R2019a.app/toolbox/shared/imaqlib:/Applications/MATLAB_R2019a.app/toolbox/shared/io:/Applications/MATLAB_R2019a.app/toolbox/shared/mapgeodesy:/Applications/MATLAB_R2019a.app/toolbox/shared/maputils:/Applications/MATLAB_R2019a.app/toolbox/shared/measure:/Applications/MATLAB_R2019a.app/toolbox/shared/mlarrow:/Applications/MATLAB_R2019a.app/toolbox/shared/mlearnlib:/Applications/MATLAB_R2019a.app/toolbox/shared/mlreportgen/dom:/Applications/MATLAB_R2019a.app/toolbox/shared/mlreportgen/dom/dom:/Applications/MATLAB_R2019a.app/toolbox/shared/mlreportgen/dom/dom/help:/Applications/MATLAB_R2019a.app/toolbox/shared/mlreportgen/ppt:/Applications/MATLAB_R2019a.app/toolbox/shared/mlreportgen/ppt/ppt:/Applications/MATLAB_R2019a.app/toolbox/shared/mlreportgen/ppt/ppt/help:/Applications/MATLAB_R2019a.app/toolbox/shared/mlreportgen/rpt:/Applications/MATLAB_R2019a.app/toolbox/shared/mlreportgen/rpt/rpt:/Applications/MATLAB_R2019a.app/toolbox/shared/mlreportgen/utils:/Applications/MATLAB_R2019a.app/toolbox/shared/multibody/multibodylib:/Applications/MATLAB_R2019a.app/toolbox/shared/multimedia:/Applications/MATLAB_R2019a.app/toolbox/shared/networklib:/Applications/MATLAB_R2019a.app/toolbox/shared/optimlib:/Applications/MATLAB_R2019a.app/toolbox/shared/pdelib:/Applications/MATLAB_R2019a.app/toolbox/shared/phasedfusion:/Applications/MATLAB_R2019a.app/toolbox/shared/pointclouds:/Applications/MATLAB_R2019a.app/toolbox/shared/reqmgt:/Applications/MATLAB_R2019a.app/toolbox/shared/reqmgt/mmutils:/Applications/MATLAB_R2019a.app/toolbox/shared/rffit:/Applications/MATLAB_R2019a.app/toolbox/shared/rflib:/Applications/MATLAB_R2019a.app/toolbox/shared/rotations/rotationslib:/Applications/MATLAB_R2019a.app/toolbox/shared/rptgen:/Applications/MATLAB_R2019a.app/toolbox/shared/sdi:/Applications/MATLAB_R2019a.app/toolbox/shared/sdi_visuals:/Applications/MATLAB_R2019a.app/toolbox/shared/seriallib:/Applications/MATLAB_R2019a.app/toolbox/shared/sigbldr:/Applications/MATLAB_R2019a.app/toolbox/shared/siglib:/Applications/MATLAB_R2019a.app/toolbox/shared/signalwavelet/signalwavelet:/Applications/MATLAB_R2019a.app/toolbox/shared/sim3d:/Applications/MATLAB_R2019a.app/toolbox/shared/sim3d/sim3d:/Applications/MATLAB_R2019a.app/toolbox/shared/sim3dblks/sim3dblks:/Applications/MATLAB_R2019a.app/toolbox/shared/system/simulink_block:/Applications/MATLAB_R2019a.app/toolbox/shared/simulink/sysarch/sysarch:/Applications/MATLAB_R2019a.app/toolbox/shared/sl_async_streaming:/Applications/MATLAB_R2019a.app/toolbox/shared/sl_web_widgets:/Applications/MATLAB_R2019a.app/toolbox/shared/slcc/slcc:/Applications/MATLAB_R2019a.app/toolbox/shared/slcc_cov/slcc_cov:/Applications/MATLAB_R2019a.app/toolbox/shared/slci/slci:/Applications/MATLAB_R2019a.app/toolbox/shared/slcontrollib:/Applications/MATLAB_R2019a.app/toolbox/shared/sl_coverage_configset:/Applications/MATLAB_R2019a.app/toolbox/shared/sldv:/Applications/MATLAB_R2019a.app/toolbox/shared/sldv_cc/sldv_cc:/Applications/MATLAB_R2019a.app/toolbox/shared/sl_multicore/dfs:/Applications/MATLAB_R2019a.app/toolbox/shared/slreportgen/reportexplorer:/Applications/MATLAB_R2019a.app/toolbox/shared/slreportgen/rpt:/Applications/MATLAB_R2019a.app/toolbox/shared/slreportgen/rpt/rpt:/Applications/MATLAB_R2019a.app/toolbox/shared/slreportgen/utils:/Applications/MATLAB_R2019a.app/toolbox/shared/spcuilib/slscopes:/Applications/MATLAB_R2019a.app/toolbox/shared/slvnv:/Applications/MATLAB_R2019a.app/toolbox/slvnv/slvnv:/Applications/MATLAB_R2019a.app/toolbox/shared/spcuilib/applications:/Applications/MATLAB_R2019a.app/toolbox/shared/spreadsheet:/Applications/MATLAB_R2019a.app/toolbox/shared/statslib:/Applications/MATLAB_R2019a.app/toolbox/shared/statslib/sensitivity:/Applications/MATLAB_R2019a.app/toolbox/shared/supportpkgservices/legacysupportpkginfo:/Applications/MATLAB_R2019a.app/toolbox/shared/supportpkgservices/installservices:/Applications/MATLAB_R2019a.app/toolbox/shared/supportpkgservices/supportpackageroot:/Applications/MATLAB_R2019a.app/toolbox/shared/supportpkgservices/installedapi:/Applications/MATLAB_R2019a.app/toolbox/shared/supportsoftware/launcher:/Applications/MATLAB_R2019a.app/toolbox/shared/supportsoftware/services:/Applications/MATLAB_R2019a.app/toolbox/shared/supportsoftware/upgrade:/Applications/MATLAB_R2019a.app/toolbox/shared/system/coder:/Applications/MATLAB_R2019a.app/toolbox/shared/system/coreblocks:/Applications/MATLAB_R2019a.app/toolbox/shared/system/sfun:/Applications/MATLAB_R2019a.app/toolbox/shared/system/simulink:/Applications/MATLAB_R2019a.app/toolbox/shared/testconsole:/Applications/MATLAB_R2019a.app/toolbox/shared/testmeaslib/general:/Applications/MATLAB_R2019a.app/toolbox/shared/testmeaslib/graphics:/Applications/MATLAB_R2019a.app/toolbox/shared/testmeaslib/simulink:/Applications/MATLAB_R2019a.app/toolbox/shared/tracking/trackinglib:/Applications/MATLAB_R2019a.app/toolbox/shared/tracking/trackinglib/blocks:/Applications/MATLAB_R2019a.app/toolbox/shared/tracking/fusionlib:/Applications/MATLAB_R2019a.app/toolbox/shared/transportclients:/Applications/MATLAB_R2019a.app/toolbox/shared/transportlib:/Applications/MATLAB_R2019a.app/toolbox/shared/virtualfileio:/Applications/MATLAB_R2019a.app/toolbox/shared/wireless:/Applications/MATLAB_R2019a.app/toolbox/signal/signal:/Applications/MATLAB_R2019a.app/toolbox/signal/sigtools:/Applications/MATLAB_R2019a.app/toolbox/signal/sptoolgui:/Applications/MATLAB_R2019a.app/toolbox/signal/sigdemos:/Applications/MATLAB_R2019a.app/toolbox/signal/signalanalyzer:/Applications/MATLAB_R2019a.app/toolbox/simbio/simbio:/Applications/MATLAB_R2019a.app/toolbox/simbio/simbiodemos:/Applications/MATLAB_R2019a.app/toolbox/simevents/simevents:/Applications/MATLAB_R2019a.app/toolbox/simevents/simevents/icons:/Applications/MATLAB_R2019a.app/toolbox/simevents/examples:/Applications/MATLAB_R2019a.app/toolbox/slde/templates:/Applications/MATLAB_R2019a.app/toolbox/simrf/simrf:/Applications/MATLAB_R2019a.app/toolbox/simrf/simrfV2:/Applications/MATLAB_R2019a.app/toolbox/simrf/simrfV2masks:/Applications/MATLAB_R2019a.app/help/toolbox/simrf/examples:/Applications/MATLAB_R2019a.app/toolbox/simrf/simrf_top:/Applications/MATLAB_R2019a.app/toolbox/simrf/simrfV2demos:/Applications/MATLAB_R2019a.app/toolbox/shared/simulink:/Applications/MATLAB_R2019a.app/toolbox/shared/simulation_data_repository:/Applications/MATLAB_R2019a.app/toolbox/sl3d/sl3d:/Applications/MATLAB_R2019a.app/toolbox/sl3d/sl3ddemos:/Applications/MATLAB_R2019a.app/toolbox/simulink/sl_async_streaming:/Applications/MATLAB_R2019a.app/toolbox/simulink/fixedandfloat:/Applications/MATLAB_R2019a.app/toolbox/simulink/fixedandfloat/obsolete:/Applications/MATLAB_R2019a.app/toolbox/simulink/sl_graphics_services/tools:/Applications/MATLAB_R2019a.app/toolbox/simulink/simulink/iodata/iomap:/Applications/MATLAB_R2019a.app/toolbox/simulink/sta/sourceBlocks:/Applications/MATLAB_R2019a.app/toolbox/simulink/simulink/iodata/ioformat:/Applications/MATLAB_R2019a.app/toolbox/shared/sl_messages:/Applications/MATLAB_R2019a.app/toolbox/slcheck/slmetrics/ml:/Applications/MATLAB_R2019a.app/toolbox/simulink/simulink/performance:/Applications/MATLAB_R2019a.app/toolbox/simulink/simulink/performance/performancea:/Applications/MATLAB_R2019a.app/toolbox/sl_pir_cap:/Applications/MATLAB_R2019a.app/toolbox/shared/slpir:/Applications/MATLAB_R2019a.app/toolbox/shared/dastudio/seqdiagram:/Applications/MATLAB_R2019a.app/toolbox/shared/diagnostic:/Applications/MATLAB_R2019a.app/toolbox/simulink/sta/scenarioconnector:/Applications/MATLAB_R2019a.app/toolbox/simulink/sta/scenarioconnector/ui:/Applications/MATLAB_R2019a.app/toolbox/simulink/sta/scenarioconnector/ui/toolstrip/modelsection:/Applications/MATLAB_R2019a.app/toolbox/simulink/sta/scenarioconnector/ui/toolstrip/filesection:/Applications/MATLAB_R2019a.app/toolbox/simulink/sta/editor:/Applications/MATLAB_R2019a.app/toolbox/simulink/sta/editor/ui:/Applications/MATLAB_R2019a.app/toolbox/simulink/sta/ui:/Applications/MATLAB_R2019a.app/toolbox/simulink/sta/ui/comparisontool:/Applications/MATLAB_R2019a.app/toolbox/simulink/sta/ui/mapping:/Applications/MATLAB_R2019a.app/toolbox/simulink/sta/ui/mapping/callbacks:/Applications/MATLAB_R2019a.app/toolbox/simulink/sta/ui/mapping/util:/Applications/MATLAB_R2019a.app/toolbox/simulink/sta/ui/toolstrip:/Applications/MATLAB_R2019a.app/toolbox/simulink/sta/ui/toolstrip/open/streaming:/Applications/MATLAB_R2019a.app/toolbox/simulink/sta/ui/toolstrip/help:/Applications/MATLAB_R2019a.app/toolbox/simulink/sta/ui/toolstrip/open:/Applications/MATLAB_R2019a.app/toolbox/simulink/sta/ui/toolstrip/session:/Applications/MATLAB_R2019a.app/toolbox/simulink/sta/ui/toolstrip/report:/Applications/MATLAB_R2019a.app/toolbox/simulink/sta/ui/preferences/mapper:/Applications/MATLAB_R2019a.app/toolbox/simulink/sta/derivedSignals:/Applications/MATLAB_R2019a.app/toolbox/simulink/sta/sl_sta_editor_block:/Applications/MATLAB_R2019a.app/toolbox/simulink/sta/repository:/Applications/MATLAB_R2019a.app/toolbox/simulink/sta/repository/util:/Applications/MATLAB_R2019a.app/toolbox/simulink/ui/sl_studio/sl_studio:/Applications/MATLAB_R2019a.app/toolbox/shared/sl_units_mldatx:/Applications/MATLAB_R2019a.app/toolbox/simulink/simulink/upgradeadvisor:/Applications/MATLAB_R2019a.app/toolbox/sl_xls:/Applications/MATLAB_R2019a.app/toolbox/coder/foundation/passmanager:/Applications/MATLAB_R2019a.app/toolbox/slcheck:/Applications/MATLAB_R2019a.app/toolbox/slcheck/slcheckdemos:/Applications/MATLAB_R2019a.app/toolbox/slcheck/slcheckdemos/slicerdemos:/Applications/MATLAB_R2019a.app/toolbox/slcheck/highintegrity:/Applications/MATLAB_R2019a.app/toolbox/slcheck/mametrics:/Applications/MATLAB_R2019a.app/toolbox/slcheck/slmetrics_mmt/ml:/Applications/MATLAB_R2019a.app/toolbox/shared/simulink/slcheck_services:/Applications/MATLAB_R2019a.app/toolbox/slcontrol/slcontrol:/Applications/MATLAB_R2019a.app/toolbox/slcontrol/slctrlguis:/Applications/MATLAB_R2019a.app/toolbox/slcontrol/slctrlutil:/Applications/MATLAB_R2019a.app/toolbox/slcontrol/slctrlobsolete:/Applications/MATLAB_R2019a.app/toolbox/slcontrol/slctrldemos:/Applications/MATLAB_R2019a.app/help/toolbox/slcontrol/examples:/Applications/MATLAB_R2019a.app/toolbox/slcoverage:/Applications/MATLAB_R2019a.app/toolbox/slcoverage/slcovdemos:/Applications/MATLAB_R2019a.app/toolbox/slcoverage/sltoolstrip/m:/Applications/MATLAB_R2019a.app/toolbox/simulink/simulink_data_dictionary/sldd:/Applications/MATLAB_R2019a.app/toolbox/sldo/sldo:/Applications/MATLAB_R2019a.app/toolbox/sldo/sldoguis:/Applications/MATLAB_R2019a.app/toolbox/sldo/sloptim/sloptim:/Applications/MATLAB_R2019a.app/toolbox/sldo/sloptim/sloptguis:/Applications/MATLAB_R2019a.app/toolbox/sldo/sloptim/sloptobsolete:/Applications/MATLAB_R2019a.app/toolbox/sldo/slestim/slestguis:/Applications/MATLAB_R2019a.app/toolbox/sldo/slestim/slestim:/Applications/MATLAB_R2019a.app/toolbox/sldo/slestim/slestmex:/Applications/MATLAB_R2019a.app/toolbox/sldo/slestim/slestutil:/Applications/MATLAB_R2019a.app/toolbox/sldo/sldodemos:/Applications/MATLAB_R2019a.app/toolbox/sldo/sldodemos/optim:/Applications/MATLAB_R2019a.app/toolbox/sldo/sldodemos/estim:/Applications/MATLAB_R2019a.app/toolbox/sldo/sldodemos/estim/docexamples/adaptive:/Applications/MATLAB_R2019a.app/toolbox/sldo/sldodemos/estim/docexamples/lookuptable:/Applications/MATLAB_R2019a.app/help/toolbox/sldo/examples:/Applications/MATLAB_R2019a.app/toolbox/sldrt/coder:/Applications/MATLAB_R2019a.app/toolbox/sldrt/rtw:/Applications/MATLAB_R2019a.app/toolbox/sldrt/sldrt:/Applications/MATLAB_R2019a.app/toolbox/sldrt/toolstrip/m:/Applications/MATLAB_R2019a.app/toolbox/sldrt/sldrtexamples:/Applications/MATLAB_R2019a.app/toolbox/sldv/sldv:/Applications/MATLAB_R2019a.app/toolbox/sldv/sldvdemos:/Applications/MATLAB_R2019a.app/toolbox/simulink/slexportprevious:/Applications/MATLAB_R2019a.app/toolbox/hdlcoder/slhdltemplates:/Applications/MATLAB_R2019a.app/toolbox/simulink/slhistory:/Applications/MATLAB_R2019a.app/toolbox/simulink/simulink/slproject/simulink:/Applications/MATLAB_R2019a.app/toolbox/simulink/simulink/slproject/examples:/Applications/MATLAB_R2019a.app/toolbox/simulink/simulink/slproject/templates:/Applications/MATLAB_R2019a.app/toolbox/slreportgen/webview:/Applications/MATLAB_R2019a.app/toolbox/slrequirements/slrequirements:/Applications/MATLAB_R2019a.app/toolbox/slrequirements/slrequirementsdemos:/Applications/MATLAB_R2019a.app/toolbox/slvnv/rmidemos:/Applications/MATLAB_R2019a.app/toolbox/slsim/design:/Applications/MATLAB_R2019a.app/toolbox/sldv/slicer:/Applications/MATLAB_R2019a.app/toolbox/sldv/slicer/gui:/Applications/MATLAB_R2019a.app/toolbox/simulink/sltemplate:/Applications/MATLAB_R2019a.app/toolbox/simulink/simulink/sltopo:/Applications/MATLAB_R2019a.app/toolbox/sltp/m:/Applications/MATLAB_R2019a.app/toolbox/slcheck/do178b:/Applications/MATLAB_R2019a.app/toolbox/slcheck/iec61508:/Applications/MATLAB_R2019a.app/toolbox/slcheck/styleguide:/Applications/MATLAB_R2019a.app/toolbox/stats/bayesoptim:/Applications/MATLAB_R2019a.app/toolbox/stats/bigdata:/Applications/MATLAB_R2019a.app/toolbox/stats/classreg:/Applications/MATLAB_R2019a.app/toolbox/stats/clustering:/Applications/MATLAB_R2019a.app/toolbox/stats/featlearn:/Applications/MATLAB_R2019a.app/toolbox/stats/stats:/Applications/MATLAB_R2019a.app/toolbox/stats/statsdemos:/Applications/MATLAB_R2019a.app/toolbox/stats/distributed:/Applications/MATLAB_R2019a.app/toolbox/stats/gpu:/Applications/MATLAB_R2019a.app/toolbox/stats/mlearnapp:/Applications/MATLAB_R2019a.app/toolbox/stm/stm:/Applications/MATLAB_R2019a.app/toolbox/matlab/storage/matlabdrive:/Applications/MATLAB_R2019a.app/toolbox/matlab/storage/mldrivedesktop:/Applications/MATLAB_R2019a.app/toolbox/symbolic/symbolic:/Applications/MATLAB_R2019a.app/toolbox/symbolic/graphics:/Applications/MATLAB_R2019a.app/toolbox/symbolic/symbolicdemos:/Applications/MATLAB_R2019a.app/toolbox/sysarch/sysarch:/Applications/MATLAB_R2019a.app/toolbox/matlab/system:/Applications/MATLAB_R2019a.app/toolbox/matlab/system/editor:/Applications/MATLAB_R2019a.app/toolbox/systemcomposer/activitydiagramblockset/activitydiagramblockset:/Applications/MATLAB_R2019a.app/toolbox/systemcomposer/activitydiagramblockset/activitydiagramblockset/icons:/Applications/MATLAB_R2019a.app/toolbox/systemcomposer/analysis/analysis:/Applications/MATLAB_R2019a.app/toolbox/systemcomposer/examples:/Applications/MATLAB_R2019a.app/toolbox/systemcomposer/interfaces/interfaces:/Applications/MATLAB_R2019a.app/toolbox/systemcomposer/systemcomposer:/Applications/MATLAB_R2019a.app/toolbox/systemcomposer/sequencediagram/sequencediagram:/Applications/MATLAB_R2019a.app/toolbox/systemcomposer/templates:/Applications/MATLAB_R2019a.app/toolbox/target/shared/armcortexabase:/Applications/MATLAB_R2019a.app/toolbox/target/shared/armcortexabase/utils:/Applications/MATLAB_R2019a.app/toolbox/target/codertarget:/Applications/MATLAB_R2019a.app/toolbox/target/codertarget/rtw:/Applications/MATLAB_R2019a.app/toolbox/target/codertarget/matlabcoder:/Applications/MATLAB_R2019a.app/toolbox/target/codertarget/sltoolstrip/m:/Applications/MATLAB_R2019a.app/toolbox/target/shared/targetauthoring:/Applications/MATLAB_R2019a.app/toolbox/target/extensions/processor/intelhost/tfl:/Applications/MATLAB_R2019a.app/toolbox/target:/Applications/MATLAB_R2019a.app/toolbox/target/foundation:/Applications/MATLAB_R2019a.app/toolbox/target/foundation/utils:/Applications/MATLAB_R2019a.app/toolbox/target/foundation/utils/resource_config:/Applications/MATLAB_R2019a.app/toolbox/target/foundation/blks:/Applications/MATLAB_R2019a.app/toolbox/target/foundation/blks/mex:/Applications/MATLAB_R2019a.app/toolbox/target/foundation/blks/masks:/Applications/MATLAB_R2019a.app/toolbox/target/extensions/processor/shared:/Applications/MATLAB_R2019a.app/toolbox/target/extensions/processor/shared/ti:/Applications/MATLAB_R2019a.app/toolbox/target/extensions/processor/shared/ti/mdlinfo:/Applications/MATLAB_R2019a.app/toolbox/target/extensions/processor/shared/ti/utils:/Applications/MATLAB_R2019a.app/toolbox/target/extensions/processor/shared/ti/blks:/Applications/MATLAB_R2019a.app/toolbox/target/extensions/processor/shared/ti/blks/mex:/Applications/MATLAB_R2019a.app/toolbox/target/extensions/processor/shared/ti/blks/masks:/Applications/MATLAB_R2019a.app/toolbox/target/extensions/processor/ARM/tfl:/Applications/MATLAB_R2019a.app/toolbox/shared/etargets/etargets:/Applications/MATLAB_R2019a.app/toolbox/shared/etargets/etargets/demoutils:/Applications/MATLAB_R2019a.app/toolbox/target/extensions/processor/tic2000:/Applications/MATLAB_R2019a.app/toolbox/target/extensions/processor/tic2000/rtw:/Applications/MATLAB_R2019a.app/toolbox/target/extensions/processor/tic2000/utils:/Applications/MATLAB_R2019a.app/toolbox/target/extensions/operatingsystem/linux/blks:/Applications/MATLAB_R2019a.app/toolbox/target/extensions/operatingsystem/linux/blks/masks:/Applications/MATLAB_R2019a.app/toolbox/target/extensions/operatingsystem/linux/blks/mex:/Applications/MATLAB_R2019a.app/toolbox/target/extensions/operatingsystem/linux/src:/Applications/MATLAB_R2019a.app/toolbox/target/extensions/operatingsystem/windows/blks:/Applications/MATLAB_R2019a.app/toolbox/target/extensions/operatingsystem/windows/blks/masks:/Applications/MATLAB_R2019a.app/toolbox/target/extensions/operatingsystem/windows/blks/mex:/Applications/MATLAB_R2019a.app/toolbox/targetdefinition/targetsdk/targetpackage:/Applications/MATLAB_R2019a.app/toolbox/shared/template_core:/Applications/MATLAB_R2019a.app/toolbox/textanalytics/textanalytics:/Applications/MATLAB_R2019a.app/toolbox/matlab/timeseries:/Applications/MATLAB_R2019a.app/toolbox/matlab/toolbox_packaging:/Applications/MATLAB_R2019a.app/toolbox/matlab/toolboxmanagement/matlab_api:/Applications/MATLAB_R2019a.app/toolbox/matlab/toolstrip:/Applications/MATLAB_R2019a.app/toolbox/trading/trading:/Applications/MATLAB_R2019a.app/toolbox/trading/tradingdemos:/Applications/MATLAB_R2019a.app/toolbox/matlab/uicomponents/uicomponents/plugin/appdesigner:/Applications/MATLAB_R2019a.app/toolbox/matlab/uicomponents/uicomponents:/Applications/MATLAB_R2019a.app/toolbox/matlab/uicomponents/uicomponents/graphics:/Applications/MATLAB_R2019a.app/toolbox/lte/umts:/Applications/MATLAB_R2019a.app/toolbox/shared/spcuilib/unifiedscopes:/Applications/MATLAB_R2019a.app/toolbox/vdynblks:/Applications/MATLAB_R2019a.app/toolbox/vdynblks/vdynblks:/Applications/MATLAB_R2019a.app/toolbox/vdynblks/vdynblksutilities:/Applications/MATLAB_R2019a.app/toolbox/vdynblks/vdyndemos:/Applications/MATLAB_R2019a.app/toolbox/vision/vision:/Applications/MATLAB_R2019a.app/toolbox/vision/visiondata:/Applications/MATLAB_R2019a.app/toolbox/vision/visionutilities:/Applications/MATLAB_R2019a.app/toolbox/vision/visionutilities/visioninit:/Applications/MATLAB_R2019a.app/toolbox/vision/visionutilities/visionmex:/Applications/MATLAB_R2019a.app/toolbox/vision/visiondemos:/Applications/MATLAB_R2019a.app/help/toolbox/vision/examples:/Applications/MATLAB_R2019a.app/toolbox/simulink/vmgr/datamodel/web/UI:/Applications/MATLAB_R2019a.app/toolbox/simulink/vmgr/plugin/m:/Applications/MATLAB_R2019a.app/toolbox/wavelet/wavelet:/Applications/MATLAB_R2019a.app/toolbox/wavelet/wmultisig1d:/Applications/MATLAB_R2019a.app/toolbox/wavelet/compression:/Applications/MATLAB_R2019a.app/toolbox/wavelet/wavedemo:/Applications/MATLAB_R2019a.app/toolbox/matlab/webcam:/Applications/MATLAB_R2019a.app/toolbox/shared/spcuilib/webscopes:/Applications/MATLAB_R2019a.app/toolbox/wlan/wlan:/Applications/MATLAB_R2019a.app/toolbox/matlab/external/interfaces/webservices/http:/Applications/MATLAB_R2019a.app/toolbox/matlab/external/interfaces/json:/Applications/MATLAB_R2019a.app/toolbox/matlab/external/interfaces/webservices/restful:/Applications/MATLAB_R2019a.app/toolbox/matlab/external/interfaces/webservices:/Applications/MATLAB_R2019a.app/toolbox/matlab/external/interfaces/webservices/wsdl'"
      ]
     },
     "execution_count": 2,
     "metadata": {},
     "output_type": "execute_result"
    }
   ],
   "source": [
    "eng = matlab.engine.start_matlab()\n",
    "\n",
    "matpath = eng.genpath('/Users/yufei/Documents/2-CMU/DebiasingCvxConstrained/Code/Library/TFOCS')\n",
    "eng.addpath(matpath)"
   ]
  },
  {
   "cell_type": "code",
   "execution_count": 3,
   "metadata": {},
   "outputs": [],
   "source": [
    "def solve_beta_slope(X, Y, param_set):\n",
    "    \"\"\"\n",
    "    Solve the SLOPE by calling a matlab function in TFOCS package.\n",
    "    \n",
    "    @param X np.array(n, p): the data matrix.\n",
    "    @param Y np.array(n, ): the response vector.\n",
    "    @param param_set list[np.array(p, )]: contains an array of tuning param according to the 'slope meets lasso' paper\n",
    "    \n",
    "    @return np.array(p, ): the coefficient got by SLOPE.\n",
    "    \"\"\"\n",
    "    Y_t = eng.transpose(matlab.double(Y.tolist()))\n",
    "    lbd_t = eng.transpose(matlab.double(param_set[0].tolist()))\n",
    "    beta_hat = eng.solver_SLOPE(matlab.double(X.tolist()), Y_t, lbd_t)\n",
    "    return np.asarray(beta_hat).squeeze()"
   ]
  },
  {
   "cell_type": "code",
   "execution_count": 4,
   "metadata": {},
   "outputs": [],
   "source": [
    "Params = namedtuple('Params', ['step1', 'step2', 'step3'])"
   ]
  },
  {
   "cell_type": "markdown",
   "metadata": {},
   "source": [
    "### <span style=\"color:purple\">1) Cov(X) = I</span>"
   ]
  },
  {
   "cell_type": "code",
   "execution_count": 87,
   "metadata": {},
   "outputs": [],
   "source": [
    "N = 100\n",
    "n = 1000\n",
    "p = 1000\n",
    "Sigma_sqrt = np.eye(p)\n",
    "noise_sd = 2\n",
    "debias_idx = p - 1\n",
    "\n",
    "cardi = 0.005   # number of non-zero coordinates\n",
    "su = int(p * cardi)        # upper bound of number of non-zero coordinates\n",
    "\n",
    "# construct lambda vector\n",
    "A = (80) * 2*(4+2**0.5)                # the constant used to form lambda in constraint. Tuned. Don't touch! The estimation of sigma is super sensitive about this.\n",
    "lbd_vec = A * noise_sd * (np.log(2*p/np.arange(1,p+1))/n)**0.5\n",
    "\n",
    "C = (su * log(exp(1)*p/su) / n**0.5)**(-1/3)   # the constant in the bound of L2 error\n",
    "\n",
    "param_set = Params([lbd_vec], \n",
    "                   [C, su], \n",
    "                   [gw_l1, proj_l1_tan_cone, proj_l1_neg_tan_cone])"
   ]
  },
  {
   "cell_type": "code",
   "execution_count": 88,
   "metadata": {
    "scrolled": true
   },
   "outputs": [
    {
     "name": "stdout",
     "output_type": "stream",
     "text": [
      "('iter:', 0)\n",
      "('The L2 error: ', 0.7034854163371727)\n",
      "('iter:', 1)\n",
      "('The L2 error: ', 0.5449491746694153)\n",
      "('iter:', 2)\n",
      "('The L2 error: ', 0.6379773362803635)\n",
      "('iter:', 3)\n",
      "('The L2 error: ', 0.5942290366852483)\n",
      "('iter:', 4)\n",
      "('The L2 error: ', 0.5644181353613701)\n",
      "('iter:', 5)\n",
      "('The L2 error: ', 0.653874971798808)\n",
      "('iter:', 6)\n",
      "('The L2 error: ', 0.7166011127487477)\n",
      "('iter:', 7)\n",
      "('The L2 error: ', 0.7596390120278274)\n",
      "('iter:', 8)\n",
      "('The L2 error: ', 0.6446911135197673)\n",
      "('iter:', 9)\n",
      "('The L2 error: ', 0.5827467088021657)\n",
      "('iter:', 10)\n",
      "('The L2 error: ', 0.637655099390062)\n",
      "('iter:', 11)\n",
      "('The L2 error: ', 0.5634368276846595)\n",
      "('iter:', 12)\n",
      "('The L2 error: ', 0.8002506198997914)\n",
      "('iter:', 13)\n",
      "('The L2 error: ', 0.5715872100011637)\n",
      "('iter:', 14)\n",
      "('The L2 error: ', 0.6663760801974378)\n",
      "('iter:', 15)\n",
      "('The L2 error: ', 0.6913263378055698)\n",
      "('iter:', 16)\n",
      "('The L2 error: ', 0.7348315992828509)\n",
      "('iter:', 17)\n",
      "('The L2 error: ', 0.6644304414280302)\n",
      "('iter:', 18)\n",
      "('The L2 error: ', 0.7626381926489672)\n",
      "('iter:', 19)\n",
      "('The L2 error: ', 0.611876858437008)\n",
      "('iter:', 20)\n",
      "('The L2 error: ', 0.5387429301158396)\n",
      "('iter:', 21)\n",
      "('The L2 error: ', 0.8479398257596176)\n",
      "('iter:', 22)\n",
      "('The L2 error: ', 0.7041668897631282)\n",
      "('iter:', 23)\n",
      "('The L2 error: ', 0.6985761480636784)\n",
      "('iter:', 24)\n",
      "('The L2 error: ', 0.6043317816366344)\n",
      "('iter:', 25)\n",
      "('The L2 error: ', 0.6665734271103733)\n",
      "('iter:', 26)\n",
      "('The L2 error: ', 0.6736428668421099)\n",
      "('iter:', 27)\n",
      "('The L2 error: ', 0.6597096299827861)\n",
      "('iter:', 28)\n",
      "('The L2 error: ', 0.6883894564444177)\n",
      "('iter:', 29)\n",
      "('The L2 error: ', 0.5516745711190021)\n",
      "('iter:', 30)\n",
      "('The L2 error: ', 0.923611029325384)\n",
      "('iter:', 31)\n",
      "('The L2 error: ', 0.7505758137954458)\n",
      "('iter:', 32)\n",
      "('The L2 error: ', 0.6461179609383981)\n",
      "('iter:', 33)\n",
      "('The L2 error: ', 0.5547975844217308)\n",
      "('iter:', 34)\n",
      "('The L2 error: ', 0.6916211142842211)\n",
      "('iter:', 35)\n",
      "('The L2 error: ', 0.6145009824473522)\n",
      "('iter:', 36)\n",
      "('The L2 error: ', 0.7678691159813978)\n",
      "('iter:', 37)\n",
      "('The L2 error: ', 0.5994798862156054)\n",
      "('iter:', 38)\n",
      "('The L2 error: ', 0.6210084629052466)\n",
      "('iter:', 39)\n",
      "('The L2 error: ', 0.7237880427169242)\n",
      "('iter:', 40)\n",
      "('The L2 error: ', 0.6018546752016266)\n",
      "('iter:', 41)\n",
      "('The L2 error: ', 0.6865022867867385)\n",
      "('iter:', 42)\n",
      "('The L2 error: ', 0.6659752210833523)\n",
      "('iter:', 43)\n",
      "('The L2 error: ', 0.6503788919670571)\n",
      "('iter:', 44)\n",
      "('The L2 error: ', 0.6117340426731901)\n",
      "('iter:', 45)\n",
      "('The L2 error: ', 0.8579085001060289)\n",
      "('iter:', 46)\n",
      "('The L2 error: ', 0.5826842555798396)\n",
      "('iter:', 47)\n",
      "('The L2 error: ', 0.7140525990008679)\n",
      "('iter:', 48)\n",
      "('The L2 error: ', 0.7992591354827985)\n",
      "('iter:', 49)\n",
      "('The L2 error: ', 0.5599041242240063)\n",
      "('iter:', 50)\n",
      "('The L2 error: ', 0.7776972301162158)\n",
      "('iter:', 51)\n",
      "('The L2 error: ', 0.7928125009232748)\n",
      "('iter:', 52)\n",
      "('The L2 error: ', 0.6354232868798828)\n",
      "('iter:', 53)\n",
      "('The L2 error: ', 0.5262068823862736)\n",
      "('iter:', 54)\n",
      "('The L2 error: ', 0.7707396960876366)\n",
      "('iter:', 55)\n",
      "('The L2 error: ', 0.7208729013668114)\n",
      "('iter:', 56)\n",
      "('The L2 error: ', 0.4692070906276181)\n",
      "('iter:', 57)\n",
      "('The L2 error: ', 0.8482679162357372)\n",
      "('iter:', 58)\n",
      "('The L2 error: ', 0.6068369196620087)\n",
      "('iter:', 59)\n",
      "('The L2 error: ', 0.6597146163705856)\n",
      "('iter:', 60)\n",
      "('The L2 error: ', 0.8041062811004546)\n",
      "('iter:', 61)\n",
      "('The L2 error: ', 0.7536670435096327)\n",
      "('iter:', 62)\n",
      "('The L2 error: ', 0.6981426833510653)\n",
      "('iter:', 63)\n",
      "('The L2 error: ', 0.605171075743292)\n",
      "('iter:', 64)\n",
      "('The L2 error: ', 0.6440043100217966)\n",
      "('iter:', 65)\n",
      "('The L2 error: ', 0.5353039831924795)\n",
      "('iter:', 66)\n",
      "('The L2 error: ', 0.5203927582568297)\n",
      "('iter:', 67)\n",
      "('The L2 error: ', 0.7659329226081233)\n",
      "('iter:', 68)\n",
      "('The L2 error: ', 0.565273440518534)\n",
      "('iter:', 69)\n",
      "('The L2 error: ', 0.749108488607242)\n",
      "('iter:', 70)\n",
      "('The L2 error: ', 0.7282283812080772)\n",
      "('iter:', 71)\n",
      "('The L2 error: ', 0.6711215266526622)\n",
      "('iter:', 72)\n",
      "('The L2 error: ', 0.815419393219208)\n",
      "('iter:', 73)\n",
      "('The L2 error: ', 0.5169215296548687)\n",
      "('iter:', 74)\n",
      "('The L2 error: ', 0.5676768591171325)\n",
      "('iter:', 75)\n",
      "('The L2 error: ', 0.613949559749317)\n",
      "('iter:', 76)\n",
      "('The L2 error: ', 0.6214250456591758)\n",
      "('iter:', 77)\n",
      "('The L2 error: ', 0.7540081097213057)\n",
      "('iter:', 78)\n",
      "('The L2 error: ', 0.704796674312267)\n",
      "('iter:', 79)\n",
      "('The L2 error: ', 0.6737241313915785)\n",
      "('iter:', 80)\n",
      "('The L2 error: ', 0.35941492115884244)\n",
      "('iter:', 81)\n",
      "('The L2 error: ', 0.6748648515975217)\n",
      "('iter:', 82)\n",
      "('The L2 error: ', 0.5466747741499334)\n",
      "('iter:', 83)\n",
      "('The L2 error: ', 0.6648867619023019)\n",
      "('iter:', 84)\n",
      "('The L2 error: ', 0.6908149939180153)\n",
      "('iter:', 85)\n",
      "('The L2 error: ', 0.6685714017651868)\n",
      "('iter:', 86)\n",
      "('The L2 error: ', 0.7046603598012566)\n",
      "('iter:', 87)\n",
      "('The L2 error: ', 0.9162387448139339)\n",
      "('iter:', 88)\n",
      "('The L2 error: ', 0.6920161210249011)\n",
      "('iter:', 89)\n",
      "('The L2 error: ', 0.7884116115237917)\n",
      "('iter:', 90)\n",
      "('The L2 error: ', 0.6563595203991386)\n",
      "('iter:', 91)\n",
      "('The L2 error: ', 0.5402175720653688)\n",
      "('iter:', 92)\n",
      "('The L2 error: ', 0.4590535635529163)\n",
      "('iter:', 93)\n",
      "('The L2 error: ', 0.7769632298848168)\n",
      "('iter:', 94)\n",
      "('The L2 error: ', 0.6174762111787571)\n",
      "('iter:', 95)\n",
      "('The L2 error: ', 0.6736095207744727)\n",
      "('iter:', 96)\n",
      "('The L2 error: ', 0.7831469757657259)\n",
      "('iter:', 97)\n",
      "('The L2 error: ', 0.4186929078980777)\n",
      "('iter:', 98)\n",
      "('The L2 error: ', 0.74267939433362)\n",
      "('iter:', 99)\n",
      "('The L2 error: ', 0.6530057897742036)\n"
     ]
    }
   ],
   "source": [
    "z2, z_biased2 = exp_func(N,\n",
    "             n,\n",
    "             p, \n",
    "             Sigma_sqrt, \n",
    "             noise_sd, \n",
    "             debias_idx,\n",
    "             param_set, \n",
    "             beta_gen_slope, \n",
    "             solve_beta_slope, \n",
    "             find_v_slope, \n",
    "             solve_omega)"
   ]
  },
  {
   "cell_type": "markdown",
   "metadata": {},
   "source": [
    "#### Compare the mean of the (debiased_beta - beta) and (non-debiased_beta - beta)"
   ]
  },
  {
   "cell_type": "code",
   "execution_count": 89,
   "metadata": {},
   "outputs": [
    {
     "name": "stdout",
     "output_type": "stream",
     "text": [
      "('The mean of (non_debiased_beta - beta) is: ', 3.732388464794405)\n"
     ]
    }
   ],
   "source": [
    "mean_non_debiased = np.mean(z_biased2)\n",
    "print(\"The mean of (non_debiased_beta - beta) is: \", mean_non_debiased)"
   ]
  },
  {
   "cell_type": "code",
   "execution_count": 90,
   "metadata": {},
   "outputs": [
    {
     "name": "stdout",
     "output_type": "stream",
     "text": [
      "('The mean of (debiased_beta - beta) is: ', -0.3417278451923971)\n"
     ]
    }
   ],
   "source": [
    "mean_debiased = np.mean(np.array(z2))\n",
    "print(\"The mean of (debiased_beta - beta) is: \", mean_debiased)"
   ]
  },
  {
   "cell_type": "markdown",
   "metadata": {},
   "source": [
    "#### Save the simulation results"
   ]
  },
  {
   "cell_type": "code",
   "execution_count": 91,
   "metadata": {},
   "outputs": [],
   "source": [
    "np.save('/Users/yufei/Documents/2-CMU/DebiasingCvxConstrained/ExpResults/identity_z_biased.npy', z_biased2)\n",
    "np.save('/Users/yufei/Documents/2-CMU/DebiasingCvxConstrained/ExpResults/identity_z.npy', z2)"
   ]
  },
  {
   "cell_type": "markdown",
   "metadata": {},
   "source": [
    "###  <span style=\"color:purple\">2) Cov(X) with bounded eigenvalues</span>"
   ]
  },
  {
   "cell_type": "code",
   "execution_count": 82,
   "metadata": {},
   "outputs": [],
   "source": [
    "# other parameters are the same as cov=I case\n",
    "\n",
    "# Generate a cov matrix with bounded eigenvalues\n",
    "# generate eigenvalues\n",
    "cov_eigv = np.random.uniform(low = 0.5, high = 3.0, size = (p,))\n",
    "D_sqrt = np.diag(cov_eigv**0.5)\n",
    "# generate an orthonormal matrix\n",
    "a = np.random.normal(size = (p,p))\n",
    "u, s, vh = np.linalg.svd(np.matmul(a.T,a), full_matrices=True)\n",
    "# generate the square root of cov matrix \n",
    "Sigma_sqrt = np.matmul(D_sqrt,u.T)"
   ]
  },
  {
   "cell_type": "code",
   "execution_count": 83,
   "metadata": {
    "scrolled": true
   },
   "outputs": [
    {
     "name": "stdout",
     "output_type": "stream",
     "text": [
      "('iter:', 0)\n",
      "('The L2 error: ', 0.37506717438600556)\n",
      "('iter:', 1)\n",
      "('The L2 error: ', 0.5244401712664486)\n",
      "('iter:', 2)\n",
      "('The L2 error: ', 0.45920989215292224)\n",
      "('iter:', 3)\n",
      "('The L2 error: ', 0.4803370440441076)\n",
      "('iter:', 4)\n",
      "('The L2 error: ', 0.5003708999361449)\n",
      "('iter:', 5)\n",
      "('The L2 error: ', 0.5105583328656228)\n",
      "('iter:', 6)\n",
      "('The L2 error: ', 0.47511712066508593)\n",
      "('iter:', 7)\n",
      "('The L2 error: ', 0.48753951840646903)\n",
      "('iter:', 8)\n",
      "('The L2 error: ', 0.4486124728050898)\n",
      "('iter:', 9)\n",
      "('The L2 error: ', 0.38264897288319466)\n",
      "('iter:', 10)\n",
      "('The L2 error: ', 0.325415741566226)\n",
      "('iter:', 11)\n",
      "('The L2 error: ', 0.3466547682192231)\n",
      "('iter:', 12)\n",
      "('The L2 error: ', 0.38624111223685803)\n",
      "('iter:', 13)\n",
      "('The L2 error: ', 0.4409238246380599)\n",
      "('iter:', 14)\n",
      "('The L2 error: ', 0.4188091720119363)\n",
      "('iter:', 15)\n",
      "('The L2 error: ', 0.3702878298543199)\n",
      "('iter:', 16)\n",
      "('The L2 error: ', 0.3273596405883521)\n",
      "('iter:', 17)\n",
      "('The L2 error: ', 0.4869083324688285)\n",
      "('iter:', 18)\n",
      "('The L2 error: ', 0.46936276012770345)\n",
      "('iter:', 19)\n",
      "('The L2 error: ', 0.38718421121936014)\n",
      "('iter:', 20)\n",
      "('The L2 error: ', 0.5795838950192256)\n",
      "('iter:', 21)\n",
      "('The L2 error: ', 0.5204102084534865)\n",
      "('iter:', 22)\n",
      "('The L2 error: ', 0.45619297168036654)\n",
      "('iter:', 23)\n",
      "('The L2 error: ', 0.5127667935184304)\n",
      "('iter:', 24)\n",
      "('The L2 error: ', 0.5263909055778737)\n",
      "('iter:', 25)\n",
      "('The L2 error: ', 0.4501884760389721)\n",
      "('iter:', 26)\n",
      "('The L2 error: ', 0.458879293372819)\n",
      "('iter:', 27)\n",
      "('The L2 error: ', 0.4708047045478525)\n",
      "('iter:', 28)\n",
      "('The L2 error: ', 0.471128507362805)\n",
      "('iter:', 29)\n",
      "('The L2 error: ', 0.47563121094149474)\n",
      "('iter:', 30)\n",
      "('The L2 error: ', 0.36482395478008994)\n",
      "('iter:', 31)\n",
      "('The L2 error: ', 0.45435004708337245)\n",
      "('iter:', 32)\n",
      "('The L2 error: ', 0.4969673745150435)\n",
      "('iter:', 33)\n",
      "('The L2 error: ', 0.6126504042344633)\n",
      "('iter:', 34)\n",
      "('The L2 error: ', 0.5026419649357075)\n",
      "('iter:', 35)\n",
      "('The L2 error: ', 0.47301371460803054)\n",
      "('iter:', 36)\n",
      "('The L2 error: ', 0.46524072392805343)\n",
      "('iter:', 37)\n",
      "('The L2 error: ', 0.44336408767868335)\n",
      "('iter:', 38)\n",
      "('The L2 error: ', 0.49628193124596615)\n",
      "('iter:', 39)\n",
      "('The L2 error: ', 0.45482515201786866)\n",
      "('iter:', 40)\n",
      "('The L2 error: ', 0.451244436812765)\n",
      "('iter:', 41)\n",
      "('The L2 error: ', 0.4383745929259714)\n",
      "('iter:', 42)\n",
      "('The L2 error: ', 0.49871933948596303)\n",
      "('iter:', 43)\n",
      "('The L2 error: ', 0.42113327224700636)\n",
      "('iter:', 44)\n",
      "('The L2 error: ', 0.4149868967934617)\n",
      "('iter:', 45)\n",
      "('The L2 error: ', 0.4412045871675478)\n",
      "('iter:', 46)\n",
      "('The L2 error: ', 0.5591096441999743)\n",
      "('iter:', 47)\n",
      "('The L2 error: ', 0.3554784906029124)\n",
      "('iter:', 48)\n",
      "('The L2 error: ', 0.5757089716596364)\n",
      "('iter:', 49)\n",
      "('The L2 error: ', 0.46761241561439526)\n"
     ]
    }
   ],
   "source": [
    "z, z_biased = exp_func(N,\n",
    "             n,\n",
    "             p, \n",
    "             Sigma_sqrt, \n",
    "             noise_sd, \n",
    "             debias_idx,\n",
    "             param_set, \n",
    "             beta_gen_slope, \n",
    "             solve_beta_slope, \n",
    "             find_v_slope, \n",
    "             solve_omega)"
   ]
  },
  {
   "cell_type": "markdown",
   "metadata": {},
   "source": [
    "#### Compare the mean of the (debiased_beta - beta) and (non-debiased_beta - beta)"
   ]
  },
  {
   "cell_type": "code",
   "execution_count": 84,
   "metadata": {},
   "outputs": [
    {
     "name": "stdout",
     "output_type": "stream",
     "text": [
      "('The mean of (non_debiased_beta - beta) is: ', 2.397840295825244)\n"
     ]
    }
   ],
   "source": [
    "mean_non_debiased = np.mean(z_biased)\n",
    "print(\"The mean of (non_debiased_beta - beta) is: \", mean_non_debiased)"
   ]
  },
  {
   "cell_type": "code",
   "execution_count": 85,
   "metadata": {},
   "outputs": [
    {
     "name": "stdout",
     "output_type": "stream",
     "text": [
      "('The mean of (debiased_beta - beta) is: ', -0.4166391229398444)\n"
     ]
    }
   ],
   "source": [
    "mean_debiased = np.mean(np.array(z))\n",
    "print(\"The mean of (debiased_beta - beta) is: \", mean_debiased)"
   ]
  },
  {
   "cell_type": "markdown",
   "metadata": {},
   "source": [
    "#### Save the simulation results"
   ]
  },
  {
   "cell_type": "code",
   "execution_count": 86,
   "metadata": {},
   "outputs": [],
   "source": [
    "np.save('/Users/yufei/Documents/2-CMU/DebiasingCvxConstrained/ExpResults/bddeig_z_biased2.npy', z_biased)\n",
    "np.save('/Users/yufei/Documents/2-CMU/DebiasingCvxConstrained/ExpResults/bddeig_z2.npy', z)"
   ]
  },
  {
   "cell_type": "markdown",
   "metadata": {},
   "source": [
    "### <span style = 'color:purple'>3) Cov(X) is the Cov of AR(1) Process</span>"
   ]
  },
  {
   "cell_type": "code",
   "execution_count": 13,
   "metadata": {},
   "outputs": [],
   "source": [
    "# other parameters are the same as cov=I case\n",
    "\n",
    "# Generate the squar root of cov matrix\n",
    "rho = 0.4\n",
    "rho_vec = []\n",
    "for i in range(p):\n",
    "    rho_vec.append(rho**i)\n",
    "rho_vec = np.array(rho_vec)\n",
    "# The cholesky decomposition of cov == the squar root of cov\n",
    "Sigma_sqrt = [rho_vec]\n",
    "for i in range(1, p):\n",
    "    rho_vec_shifted = np.concatenate((np.zeros(i), rho_vec[:-i]))\n",
    "#     print(rho_vec_shifted)\n",
    "    Sigma_sqrt.append(rho_vec_shifted * (1-rho**2)**0.5)\n",
    "Sigma_sqrt = np.array(Sigma_sqrt)"
   ]
  },
  {
   "cell_type": "code",
   "execution_count": 14,
   "metadata": {
    "scrolled": true
   },
   "outputs": [
    {
     "name": "stdout",
     "output_type": "stream",
     "text": [
      "('iter:', 0)\n",
      "('The L2 error: ', 0.37521731620156656)\n",
      "('iter:', 1)\n",
      "('The L2 error: ', 0.48114001582503996)\n",
      "('iter:', 2)\n",
      "('The L2 error: ', 0.4691941443173258)\n",
      "('iter:', 3)\n",
      "('The L2 error: ', 0.35211669262391304)\n",
      "('iter:', 4)\n",
      "('The L2 error: ', 0.2651915113477123)\n",
      "('iter:', 5)\n",
      "('The L2 error: ', 0.4364546980499729)\n",
      "('iter:', 6)\n",
      "('The L2 error: ', 0.4532847153097186)\n",
      "('iter:', 7)\n",
      "('The L2 error: ', 0.4569740959547278)\n",
      "('iter:', 8)\n",
      "('The L2 error: ', 0.4929651598275676)\n",
      "('iter:', 9)\n",
      "('The L2 error: ', 0.34487936594143825)\n",
      "('iter:', 10)\n",
      "('The L2 error: ', 0.41290913332436174)\n",
      "('iter:', 11)\n",
      "('The L2 error: ', 0.4816492322970049)\n",
      "('iter:', 12)\n",
      "('The L2 error: ', 0.38105705098498444)\n",
      "('iter:', 13)\n",
      "('The L2 error: ', 0.4594848092349639)\n",
      "('iter:', 14)\n",
      "('The L2 error: ', 0.4604461570775178)\n",
      "('iter:', 15)\n",
      "('The L2 error: ', 0.561344622761566)\n",
      "('iter:', 16)\n",
      "('The L2 error: ', 0.2796083130586663)\n",
      "('iter:', 17)\n",
      "('The L2 error: ', 0.39935323619646457)\n",
      "('iter:', 18)\n",
      "('The L2 error: ', 0.4225852478982235)\n",
      "('iter:', 19)\n",
      "('The L2 error: ', 0.45209540571460405)\n",
      "('iter:', 20)\n",
      "('The L2 error: ', 0.42034201743868055)\n",
      "('iter:', 21)\n",
      "('The L2 error: ', 0.5604982205400054)\n",
      "('iter:', 22)\n",
      "('The L2 error: ', 0.47996093880000495)\n",
      "('iter:', 23)\n",
      "('The L2 error: ', 0.35445557979851694)\n",
      "('iter:', 24)\n",
      "('The L2 error: ', 0.3385652054052405)\n",
      "('iter:', 25)\n",
      "('The L2 error: ', 0.32911176027255445)\n",
      "('iter:', 26)\n",
      "('The L2 error: ', 0.4615639350412155)\n",
      "('iter:', 27)\n",
      "('The L2 error: ', 0.5185640517558788)\n",
      "('iter:', 28)\n",
      "('The L2 error: ', 0.5855610481015784)\n",
      "('iter:', 29)\n",
      "('The L2 error: ', 0.4488882986383279)\n",
      "('iter:', 30)\n",
      "('The L2 error: ', 0.47055375026067586)\n",
      "('iter:', 31)\n",
      "('The L2 error: ', 0.41012343566883297)\n",
      "('iter:', 32)\n",
      "('The L2 error: ', 0.3595499706902164)\n",
      "('iter:', 33)\n",
      "('The L2 error: ', 0.38915660089928017)\n",
      "('iter:', 34)\n",
      "('The L2 error: ', 0.46596477024234606)\n",
      "('iter:', 35)\n",
      "('The L2 error: ', 0.3418669575410573)\n",
      "('iter:', 36)\n",
      "('The L2 error: ', 0.3873794644197109)\n",
      "('iter:', 37)\n",
      "('The L2 error: ', 0.3871139266165414)\n",
      "('iter:', 38)\n",
      "('The L2 error: ', 0.3422797695900846)\n",
      "('iter:', 39)\n",
      "('The L2 error: ', 0.5486497831727941)\n",
      "('iter:', 40)\n",
      "('The L2 error: ', 0.5207555192872384)\n",
      "('iter:', 41)\n",
      "('The L2 error: ', 0.2978552365456763)\n",
      "('iter:', 42)\n",
      "('The L2 error: ', 0.4483506848244876)\n",
      "('iter:', 43)\n",
      "('The L2 error: ', 0.46866309511231824)\n",
      "('iter:', 44)\n",
      "('The L2 error: ', 0.5447024213623057)\n",
      "('iter:', 45)\n",
      "('The L2 error: ', 0.4510256815594386)\n",
      "('iter:', 46)\n",
      "('The L2 error: ', 0.43927987121858175)\n",
      "('iter:', 47)\n",
      "('The L2 error: ', 0.3444637731653017)\n",
      "('iter:', 48)\n",
      "('The L2 error: ', 0.4484111606379475)\n",
      "('iter:', 49)\n",
      "('The L2 error: ', 0.2636262227073796)\n",
      "('iter:', 50)\n",
      "('The L2 error: ', 0.37690694353492993)\n",
      "('iter:', 51)\n",
      "('The L2 error: ', 0.4485826965951049)\n",
      "('iter:', 52)\n",
      "('The L2 error: ', 0.49107517922556043)\n",
      "('iter:', 53)\n",
      "('The L2 error: ', 0.4334987413163745)\n",
      "('iter:', 54)\n",
      "('The L2 error: ', 0.45800064324652145)\n",
      "('iter:', 55)\n",
      "('The L2 error: ', 0.48994627670942115)\n",
      "('iter:', 56)\n",
      "('The L2 error: ', 0.30047120105985514)\n",
      "('iter:', 57)\n",
      "('The L2 error: ', 0.4002994591180044)\n",
      "('iter:', 58)\n",
      "('The L2 error: ', 0.3863815645529739)\n",
      "('iter:', 59)\n",
      "('The L2 error: ', 0.5246086355138863)\n",
      "('iter:', 60)\n",
      "('The L2 error: ', 0.4005296384597647)\n",
      "('iter:', 61)\n",
      "('The L2 error: ', 0.34249456463942823)\n",
      "('iter:', 62)\n",
      "('The L2 error: ', 0.44346708972602594)\n",
      "('iter:', 63)\n",
      "('The L2 error: ', 0.3937198290419124)\n",
      "('iter:', 64)\n",
      "('The L2 error: ', 0.4078410554015711)\n",
      "('iter:', 65)\n",
      "('The L2 error: ', 0.5419186423019314)\n",
      "('iter:', 66)\n",
      "('The L2 error: ', 0.4239471365225332)\n",
      "('iter:', 67)\n",
      "('The L2 error: ', 0.3785019363712431)\n",
      "('iter:', 68)\n",
      "('The L2 error: ', 0.3599129178661133)\n",
      "('iter:', 69)\n",
      "('The L2 error: ', 0.5249564404956597)\n",
      "('iter:', 70)\n",
      "('The L2 error: ', 0.4219966324729729)\n",
      "('iter:', 71)\n",
      "('The L2 error: ', 0.33018839669571654)\n",
      "('iter:', 72)\n",
      "('The L2 error: ', 0.4548700809888755)\n",
      "('iter:', 73)\n",
      "('The L2 error: ', 0.3024324968700607)\n",
      "('iter:', 74)\n",
      "('The L2 error: ', 0.6384142232252046)\n",
      "('iter:', 75)\n",
      "('The L2 error: ', 0.40059106047633186)\n",
      "('iter:', 76)\n",
      "('The L2 error: ', 0.46067039682965943)\n",
      "('iter:', 77)\n",
      "('The L2 error: ', 0.3641889327196359)\n",
      "('iter:', 78)\n",
      "('The L2 error: ', 0.3762171111608704)\n",
      "('iter:', 79)\n",
      "('The L2 error: ', 0.6461324716922456)\n",
      "('iter:', 80)\n",
      "('The L2 error: ', 0.33326343593047236)\n",
      "('iter:', 81)\n",
      "('The L2 error: ', 0.532453733063058)\n",
      "('iter:', 82)\n",
      "('The L2 error: ', 0.49227614480773446)\n",
      "('iter:', 83)\n",
      "('The L2 error: ', 0.32434043760577486)\n",
      "('iter:', 84)\n",
      "('The L2 error: ', 0.36117427581279843)\n",
      "('iter:', 85)\n",
      "('The L2 error: ', 0.3091292083229907)\n",
      "('iter:', 86)\n",
      "('The L2 error: ', 0.4653129369192248)\n",
      "('iter:', 87)\n",
      "('The L2 error: ', 0.3681457623234154)\n",
      "('iter:', 88)\n",
      "('The L2 error: ', 0.40095949090256583)\n",
      "('iter:', 89)\n",
      "('The L2 error: ', 0.4806312583711078)\n",
      "('iter:', 90)\n",
      "('The L2 error: ', 0.4414820244750476)\n",
      "('iter:', 91)\n",
      "('The L2 error: ', 0.3314530499018725)\n",
      "('iter:', 92)\n",
      "('The L2 error: ', 0.39464053488871287)\n",
      "('iter:', 93)\n",
      "('The L2 error: ', 0.4001711664598848)\n",
      "('iter:', 94)\n",
      "('The L2 error: ', 0.4723300379399333)\n",
      "('iter:', 95)\n",
      "('The L2 error: ', 0.3668804547553943)\n",
      "('iter:', 96)\n",
      "('The L2 error: ', 0.37437736170891883)\n",
      "('iter:', 97)\n",
      "('The L2 error: ', 0.4099514388550963)\n",
      "('iter:', 98)\n",
      "('The L2 error: ', 0.5115552493398582)\n",
      "('iter:', 99)\n",
      "('The L2 error: ', 0.4165518093753163)\n"
     ]
    }
   ],
   "source": [
    "z, z_biased = exp_func(N,\n",
    "             n,\n",
    "             p, \n",
    "             Sigma_sqrt, \n",
    "             noise_sd, \n",
    "             debias_idx,\n",
    "             param_set, \n",
    "             beta_gen_slope, \n",
    "             solve_beta_slope, \n",
    "             find_v_slope, \n",
    "             solve_omega)"
   ]
  },
  {
   "cell_type": "markdown",
   "metadata": {},
   "source": [
    "#### Compare the mean of the (debiased_beta - beta) and (non-debiased_beta - beta)"
   ]
  },
  {
   "cell_type": "code",
   "execution_count": 15,
   "metadata": {},
   "outputs": [
    {
     "name": "stdout",
     "output_type": "stream",
     "text": [
      "('The mean of (non_debiased_beta - beta) is: ', 1.9587003912087362)\n"
     ]
    }
   ],
   "source": [
    "mean_non_debiased = np.mean(z_biased)\n",
    "print(\"The mean of (non_debiased_beta - beta) is: \", mean_non_debiased)"
   ]
  },
  {
   "cell_type": "code",
   "execution_count": 16,
   "metadata": {},
   "outputs": [
    {
     "name": "stdout",
     "output_type": "stream",
     "text": [
      "('The mean of (debiased_beta - beta) is: ', -0.3192269374492944)\n"
     ]
    }
   ],
   "source": [
    "mean_debiased = np.mean(np.array(z))\n",
    "print(\"The mean of (debiased_beta - beta) is: \", mean_debiased)"
   ]
  },
  {
   "cell_type": "markdown",
   "metadata": {},
   "source": [
    "#### Save the simulation results"
   ]
  },
  {
   "cell_type": "code",
   "execution_count": 17,
   "metadata": {},
   "outputs": [],
   "source": [
    "np.save('/Users/yufei/Documents/2-CMU/DebiasingCvxConstrained/ExpResults/SLOPE/ar1_z_biased.npy', z_biased)\n",
    "np.save('/Users/yufei/Documents/2-CMU/DebiasingCvxConstrained/ExpResults/SLOPE/ar1_z.npy', z)"
   ]
  }
 ],
 "metadata": {
  "kernelspec": {
   "display_name": "Python 2",
   "language": "python",
   "name": "python2"
  },
  "language_info": {
   "codemirror_mode": {
    "name": "ipython",
    "version": 2
   },
   "file_extension": ".py",
   "mimetype": "text/x-python",
   "name": "python",
   "nbconvert_exporter": "python",
   "pygments_lexer": "ipython2",
   "version": "2.7.16"
  }
 },
 "nbformat": 4,
 "nbformat_minor": 4
}
