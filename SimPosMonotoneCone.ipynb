{
 "cells": [
  {
   "cell_type": "code",
   "execution_count": 1,
   "metadata": {},
   "outputs": [],
   "source": [
    "import os\n",
    "os.chdir('/Users/yufei/Documents/2-CMU/DebiasingCvxConstrained/Code/Library')\n",
    "\n",
    "from ExperimentFunc import exp_func, beta_gen_posmnt\n",
    "from Step1 import solve_beta_mnt\n",
    "from Step2 import find_v_mnt\n",
    "from Step3 import solve_omega, gw_mnt, proj_posmnt_tan_cone, proj_posmnt_neg_tan_cone\n",
    "\n",
    "from math import log\n",
    "import numpy as np\n",
    "\n",
    "from sklearn.isotonic import IsotonicRegression\n",
    "\n",
    "from scipy import linalg\n",
    "from scipy import stats\n",
    "\n",
    "from collections import namedtuple\n",
    "\n",
    "from copy import deepcopy\n",
    "\n",
    "import matplotlib.pyplot as plt"
   ]
  },
  {
   "cell_type": "code",
   "execution_count": 2,
   "metadata": {},
   "outputs": [],
   "source": [
    "Params = namedtuple('Params', ['step1', 'step2', 'step3'])"
   ]
  },
  {
   "cell_type": "markdown",
   "metadata": {},
   "source": [
    "### <span style=\"color:purple\">1) Cov(X) = I</span>"
   ]
  },
  {
   "cell_type": "code",
   "execution_count": 3,
   "metadata": {},
   "outputs": [],
   "source": [
    "N = 100\n",
    "n = 100\n",
    "p = 100\n",
    "Sigma_sqrt = np.eye(p)\n",
    "noise_sd = 2\n",
    "debias_idx = p - 1\n",
    "param_set = Params([True],  # True if is pos mnt cone\n",
    "                   [], \n",
    "                   [gw_mnt, proj_posmnt_tan_cone, proj_posmnt_neg_tan_cone])"
   ]
  },
  {
   "cell_type": "code",
   "execution_count": 4,
   "metadata": {
    "scrolled": true
   },
   "outputs": [
    {
     "name": "stdout",
     "output_type": "stream",
     "text": [
      "iter: 0\n",
      "The L2 error:  1.0007342527005554\n",
      "iter: 1\n",
      "The L2 error:  0.9059728374489876\n",
      "iter: 2\n",
      "The L2 error:  0.4186078322993372\n",
      "iter: 3\n",
      "The L2 error:  0.6267346243075801\n",
      "iter: 4\n",
      "The L2 error:  0.5193504387875049\n",
      "iter: 5\n",
      "The L2 error:  1.0374641234664905\n",
      "iter: 6\n",
      "The L2 error:  1.0058916620256775\n",
      "iter: 7\n",
      "The L2 error:  1.1700302289972324\n",
      "iter: 8\n",
      "The L2 error:  0.32894537883640657\n",
      "iter: 9\n",
      "The L2 error:  1.091023719714151\n",
      "iter: 10\n",
      "The L2 error:  0.9281946926160469\n",
      "iter: 11\n",
      "The L2 error:  0.7148541744525488\n",
      "iter: 12\n",
      "The L2 error:  1.1037579921652176\n",
      "iter: 13\n",
      "The L2 error:  0.5912653959679044\n",
      "iter: 14\n",
      "The L2 error:  0.6387672089699306\n",
      "iter: 15\n",
      "The L2 error:  0.3534074796460376\n",
      "iter: 16\n",
      "The L2 error:  0.6096334814836307\n",
      "iter: 17\n",
      "The L2 error:  0.6447225641608458\n",
      "iter: 18\n",
      "The L2 error:  0.8269506538331212\n",
      "iter: 19\n",
      "The L2 error:  1.1355438755784193\n",
      "iter: 20\n",
      "The L2 error:  0.6629229421012849\n",
      "iter: 21\n",
      "The L2 error:  0.7175441919717694\n",
      "iter: 22\n",
      "The L2 error:  0.9566680879948072\n",
      "iter: 23\n",
      "The L2 error:  0.6450149491075152\n",
      "iter: 24\n",
      "The L2 error:  0.552541176218316\n",
      "iter: 25\n",
      "The L2 error:  0.9970899656347705\n",
      "iter: 26\n",
      "The L2 error:  0.7152369205932808\n",
      "iter: 27\n",
      "The L2 error:  0.5729784039072928\n",
      "iter: 28\n",
      "The L2 error:  0.9419740576692267\n",
      "iter: 29\n",
      "The L2 error:  0.9405291773076659\n",
      "iter: 30\n",
      "The L2 error:  0.4779706937528338\n",
      "iter: 31\n",
      "The L2 error:  1.0752083516030015\n",
      "iter: 32\n",
      "The L2 error:  0.2856475559426707\n",
      "iter: 33\n",
      "The L2 error:  0.49295533444711626\n",
      "iter: 34\n",
      "The L2 error:  0.7150883961476422\n",
      "iter: 35\n",
      "The L2 error:  0.7182131177066172\n",
      "iter: 36\n",
      "The L2 error:  0.6392457220413631\n",
      "iter: 37\n",
      "The L2 error:  1.0360806452819264\n",
      "iter: 38\n",
      "The L2 error:  0.7298873064566055\n",
      "iter: 39\n",
      "The L2 error:  0.8625909516685799\n",
      "iter: 40\n",
      "The L2 error:  0.9934441326527323\n",
      "iter: 41\n",
      "The L2 error:  0.8289627120267982\n",
      "iter: 42\n",
      "The L2 error:  0.7768417482765547\n",
      "iter: 43\n",
      "The L2 error:  1.4612657149867476\n",
      "iter: 44\n",
      "The L2 error:  0.7978014929487385\n",
      "iter: 45\n",
      "The L2 error:  0.8072301768284386\n",
      "iter: 46\n",
      "The L2 error:  0.6221000710254602\n",
      "iter: 47\n",
      "The L2 error:  0.7522490571517126\n",
      "iter: 48\n",
      "The L2 error:  1.1839754096033004\n",
      "iter: 49\n",
      "The L2 error:  1.036646878448788\n",
      "iter: 50\n",
      "The L2 error:  0.6432945360871146\n",
      "iter: 51\n",
      "The L2 error:  0.6973539861261252\n",
      "iter: 52\n",
      "The L2 error:  0.7912066053674617\n",
      "iter: 53\n",
      "The L2 error:  0.7059280430018705\n",
      "iter: 54\n",
      "The L2 error:  0.5249483937131721\n",
      "iter: 55\n",
      "The L2 error:  1.212711243676422\n",
      "iter: 56\n",
      "The L2 error:  0.8312118176745967\n",
      "iter: 57\n",
      "The L2 error:  0.7037623898092863\n",
      "iter: 58\n",
      "The L2 error:  0.9704514646639021\n",
      "iter: 59\n",
      "The L2 error:  1.1005668541359879\n",
      "iter: 60\n",
      "The L2 error:  0.6294134180643257\n",
      "iter: 61\n",
      "The L2 error:  0.5049469286322918\n",
      "iter: 62\n",
      "The L2 error:  0.8204714806670176\n",
      "iter: 63\n",
      "The L2 error:  0.837210474099506\n",
      "iter: 64\n",
      "The L2 error:  1.2970245763352903\n",
      "iter: 65\n",
      "The L2 error:  0.41174208202363816\n",
      "iter: 66\n",
      "The L2 error:  0.458712552364936\n",
      "iter: 67\n",
      "The L2 error:  1.1064021215669215\n",
      "iter: 68\n",
      "The L2 error:  0.9718091360423202\n",
      "iter: 69\n",
      "The L2 error:  0.8589999154252834\n",
      "iter: 70\n",
      "The L2 error:  0.6325075256785039\n",
      "iter: 71\n",
      "The L2 error:  0.7582752777347092\n",
      "iter: 72\n",
      "The L2 error:  0.6501638433423962\n",
      "iter: 73\n",
      "The L2 error:  0.5718737820785601\n",
      "iter: 74\n",
      "The L2 error:  0.5015128432712563\n",
      "iter: 75\n",
      "The L2 error:  1.39636054300894\n",
      "iter: 76\n",
      "The L2 error:  0.7640152273662583\n",
      "iter: 77\n",
      "The L2 error:  1.1548135040207537\n",
      "iter: 78\n",
      "The L2 error:  0.8500439149613035\n",
      "iter: 79\n",
      "The L2 error:  0.7778875928748332\n",
      "iter: 80\n",
      "The L2 error:  0.8396764664898112\n",
      "iter: 81\n",
      "The L2 error:  0.8801279417911255\n",
      "iter: 82\n",
      "The L2 error:  0.6983524071118072\n",
      "iter: 83\n",
      "The L2 error:  1.1472542525179124\n",
      "iter: 84\n",
      "The L2 error:  1.2267375757317793\n",
      "iter: 85\n",
      "The L2 error:  0.9098134686272146\n",
      "iter: 86\n",
      "The L2 error:  0.9764717569911419\n",
      "iter: 87\n",
      "The L2 error:  0.936759365685621\n",
      "iter: 88\n",
      "The L2 error:  0.7211770149044203\n",
      "iter: 89\n",
      "The L2 error:  0.5935402084603766\n",
      "iter: 90\n",
      "The L2 error:  0.854476499489486\n",
      "iter: 91\n",
      "The L2 error:  0.4738940196501355\n",
      "iter: 92\n",
      "The L2 error:  0.9782896655161054\n",
      "iter: 93\n",
      "The L2 error:  0.6290909770298244\n",
      "iter: 94\n",
      "The L2 error:  0.7401580325085394\n",
      "iter: 95\n",
      "The L2 error:  0.7835851353014729\n",
      "iter: 96\n",
      "The L2 error:  0.7757845953812331\n",
      "iter: 97\n",
      "The L2 error:  0.5561171313138626\n",
      "iter: 98\n",
      "The L2 error:  0.9194356906332507\n",
      "iter: 99\n",
      "The L2 error:  0.6351018399592947\n"
     ]
    }
   ],
   "source": [
    "z, z_biased = exp_func(N,\n",
    "             n,\n",
    "             p, \n",
    "             Sigma_sqrt, \n",
    "             noise_sd, \n",
    "             debias_idx,\n",
    "             param_set, \n",
    "             beta_gen_posmnt, \n",
    "             solve_beta_mnt, \n",
    "             find_v_mnt, \n",
    "             solve_omega)"
   ]
  },
  {
   "cell_type": "markdown",
   "metadata": {},
   "source": [
    "#### Compare the mean of the (debiased_beta - beta) and (non-debiased_beta - beta)"
   ]
  },
  {
   "cell_type": "code",
   "execution_count": 5,
   "metadata": {},
   "outputs": [
    {
     "name": "stdout",
     "output_type": "stream",
     "text": [
      "The mean of (non_debiased_beta - beta) is:  -1.1676554960113796\n"
     ]
    }
   ],
   "source": [
    "mean_non_debiased = np.mean(z_biased)\n",
    "print(\"The mean of (non_debiased_beta - beta) is: \", mean_non_debiased)"
   ]
  },
  {
   "cell_type": "code",
   "execution_count": 6,
   "metadata": {},
   "outputs": [
    {
     "name": "stdout",
     "output_type": "stream",
     "text": [
      "The mean of (debiased_beta - beta) is:  -0.027117105858041342\n"
     ]
    }
   ],
   "source": [
    "mean_debiased = np.mean(np.array(z))\n",
    "print(\"The mean of (debiased_beta - beta) is: \", mean_debiased)"
   ]
  },
  {
   "cell_type": "markdown",
   "metadata": {},
   "source": [
    "#### Check if the (debiased_beta - beta) and (non-debiased_beta - beta) is standard normal"
   ]
  },
  {
   "cell_type": "code",
   "execution_count": 7,
   "metadata": {},
   "outputs": [
    {
     "data": {
      "image/png": "[encoded data removed]",
      "text/plain": [
       "<Figure size 432x288 with 1 Axes>"
      ]
     },
     "metadata": {
      "needs_background": "light"
     },
     "output_type": "display_data"
    }
   ],
   "source": [
    "# non-debiased\n",
    "fig = plt.figure()\n",
    "ax = fig.add_subplot()\n",
    "res = stats.probplot(z_biased, plot=ax)\n",
    "plt.show()"
   ]
  },
  {
   "cell_type": "code",
   "execution_count": 8,
   "metadata": {
    "scrolled": true
   },
   "outputs": [
    {
     "data": {
      "image/png": "[encoded data removed]",
      "text/plain": [
       "<Figure size 432x288 with 1 Axes>"
      ]
     },
     "metadata": {
      "needs_background": "light"
     },
     "output_type": "display_data"
    }
   ],
   "source": [
    "# debiased\n",
    "fig = plt.figure()\n",
    "ax = fig.add_subplot()\n",
    "res = stats.probplot(z, plot=ax)\n",
    "plt.show()"
   ]
  },
  {
   "cell_type": "markdown",
   "metadata": {},
   "source": [
    "#### Save the simulation results"
   ]
  },
  {
   "cell_type": "code",
   "execution_count": 9,
   "metadata": {},
   "outputs": [],
   "source": [
    "np.save('/Users/yufei/Documents/2-CMU/DebiasingCvxConstrained/ExpResults/PosMonotoneCone/identity_z_biased.npy', z_biased)\n",
    "np.save('/Users/yufei/Documents/2-CMU/DebiasingCvxConstrained/ExpResults/PosMonotoneCone/identity_z.npy', z)"
   ]
  },
  {
   "cell_type": "markdown",
   "metadata": {},
   "source": [
    "###  <span style=\"color:purple\">2) Cov(X) with bounded eigenvalues</span>"
   ]
  },
  {
   "cell_type": "code",
   "execution_count": 11,
   "metadata": {},
   "outputs": [],
   "source": [
    "N = 100\n",
    "n = 100\n",
    "p = 100\n",
    "\n",
    "# Generate a cov matrix with bounded eigenvalues\n",
    "# generate eigenvalues\n",
    "cov_eigv = np.random.uniform(low = 0.3, high = 3.0, size = (p,))\n",
    "D_sqrt = np.diag(cov_eigv**0.5)\n",
    "# generate an orthonormal matrix\n",
    "a = np.random.normal(size = (p,p))\n",
    "u, s, vh = np.linalg.svd(a.T@a, full_matrices=True)\n",
    "# generate the square root of cov matrix \n",
    "Sigma_sqrt = D_sqrt @ u.T\n",
    "\n",
    "noise_sd = 2\n",
    "debias_idx = p - 1\n",
    "param_set = Params([True],  # True if is pos mnt cone\n",
    "                   [], \n",
    "                   [gw_mnt, proj_posmnt_tan_cone, proj_posmnt_neg_tan_cone])"
   ]
  },
  {
   "cell_type": "code",
   "execution_count": 12,
   "metadata": {
    "scrolled": true
   },
   "outputs": [
    {
     "name": "stdout",
     "output_type": "stream",
     "text": [
      "iter: 0\n",
      "The L2 error:  0.7984664977304422\n",
      "iter: 1\n",
      "The L2 error:  0.922176428884025\n",
      "iter: 2\n",
      "The L2 error:  0.6018542742844106\n",
      "iter: 3\n",
      "The L2 error:  0.3493829766281264\n",
      "iter: 4\n",
      "The L2 error:  1.1569432714631092\n",
      "iter: 5\n",
      "The L2 error:  0.6217668491179466\n",
      "iter: 6\n",
      "The L2 error:  0.34157583341446324\n",
      "iter: 7\n",
      "The L2 error:  0.5285897415416432\n",
      "iter: 8\n",
      "The L2 error:  0.34107373379799755\n",
      "iter: 9\n",
      "The L2 error:  0.4524226830164171\n",
      "iter: 10\n",
      "The L2 error:  0.4504365750664247\n",
      "iter: 11\n",
      "The L2 error:  0.6052750407402682\n",
      "iter: 12\n",
      "The L2 error:  0.662960877843573\n",
      "iter: 13\n",
      "The L2 error:  0.5600971244194474\n",
      "iter: 14\n",
      "The L2 error:  0.7081015345729955\n",
      "iter: 15\n",
      "The L2 error:  0.6794252040134885\n",
      "iter: 16\n",
      "The L2 error:  0.6159628441742772\n",
      "iter: 17\n",
      "The L2 error:  0.2064700286976315\n",
      "iter: 18\n",
      "The L2 error:  0.6221166900116428\n",
      "iter: 19\n",
      "The L2 error:  0.6691905077599692\n",
      "iter: 20\n",
      "The L2 error:  0.6133721718588437\n",
      "iter: 21\n",
      "The L2 error:  0.732993124125732\n",
      "iter: 22\n",
      "The L2 error:  0.6996420637903674\n",
      "iter: 23\n",
      "The L2 error:  0.5946225743850345\n",
      "iter: 24\n",
      "The L2 error:  0.4675598778547292\n",
      "iter: 25\n",
      "The L2 error:  0.8334661810784069\n",
      "iter: 26\n",
      "The L2 error:  0.8558000961273904\n",
      "iter: 27\n",
      "The L2 error:  0.4859740356367843\n",
      "iter: 28\n",
      "The L2 error:  0.3508438793180993\n",
      "iter: 29\n",
      "The L2 error:  0.4127328054612121\n",
      "iter: 30\n",
      "The L2 error:  0.4376766805171947\n",
      "iter: 31\n",
      "The L2 error:  0.5028032037431424\n",
      "iter: 32\n",
      "The L2 error:  0.46737040196785123\n",
      "iter: 33\n",
      "The L2 error:  0.8008195884468842\n",
      "iter: 34\n",
      "The L2 error:  0.3295813868752082\n",
      "iter: 35\n",
      "The L2 error:  0.6912370248414579\n",
      "iter: 36\n",
      "The L2 error:  0.643309536795488\n",
      "iter: 37\n",
      "The L2 error:  0.3446936017464606\n",
      "iter: 38\n",
      "The L2 error:  0.92883251671748\n",
      "iter: 39\n",
      "The L2 error:  1.0680840596739374\n",
      "iter: 40\n",
      "The L2 error:  0.26255576980641665\n",
      "iter: 41\n",
      "The L2 error:  0.5812343896732555\n",
      "iter: 42\n",
      "The L2 error:  0.5149922237578743\n",
      "iter: 43\n",
      "The L2 error:  0.7987850528660907\n",
      "iter: 44\n",
      "The L2 error:  0.9868442266786271\n",
      "iter: 45\n",
      "The L2 error:  0.8007672994435006\n",
      "iter: 46\n",
      "The L2 error:  0.5945489237064044\n",
      "iter: 47\n",
      "The L2 error:  0.5208736273061849\n",
      "iter: 48\n",
      "The L2 error:  0.7178830617259349\n",
      "iter: 49\n",
      "The L2 error:  0.5951876123153881\n",
      "iter: 50\n",
      "The L2 error:  0.10597820041412183\n",
      "iter: 51\n",
      "The L2 error:  1.0324722186699307\n",
      "iter: 52\n",
      "The L2 error:  0.6612220718492272\n",
      "iter: 53\n",
      "The L2 error:  0.14781294407927498\n",
      "iter: 54\n",
      "The L2 error:  0.8544334065701702\n",
      "iter: 55\n",
      "The L2 error:  0.33185742222540604\n",
      "iter: 56\n",
      "The L2 error:  0.3354740992904709\n",
      "iter: 57\n",
      "The L2 error:  0.3921092456416258\n",
      "iter: 58\n",
      "The L2 error:  0.16695811469354022\n",
      "iter: 59\n",
      "The L2 error:  1.0490935261972858\n",
      "iter: 60\n",
      "The L2 error:  0.7037476389558333\n",
      "iter: 61\n",
      "The L2 error:  0.6173074136599385\n",
      "iter: 62\n",
      "The L2 error:  0.7064843916384561\n",
      "iter: 63\n",
      "The L2 error:  0.5726101115748947\n",
      "iter: 64\n",
      "The L2 error:  0.6000210336145182\n",
      "iter: 65\n",
      "The L2 error:  0.5749361765082986\n",
      "iter: 66\n",
      "The L2 error:  0.8029334182782477\n",
      "iter: 67\n",
      "The L2 error:  0.4746211158994537\n",
      "iter: 68\n",
      "The L2 error:  0.19224789847850068\n",
      "iter: 69\n",
      "The L2 error:  0.8916935156888152\n",
      "iter: 70\n",
      "The L2 error:  0.5635334516226909\n",
      "iter: 71\n",
      "The L2 error:  0.6000177637798697\n",
      "iter: 72\n",
      "The L2 error:  0.5127901045751306\n",
      "iter: 73\n",
      "The L2 error:  1.1988209662192093\n",
      "iter: 74\n",
      "The L2 error:  0.39926236821100264\n",
      "iter: 75\n",
      "The L2 error:  0.5932862380025253\n",
      "iter: 76\n",
      "The L2 error:  0.6265806057899928\n",
      "iter: 77\n",
      "The L2 error:  0.642458496217352\n",
      "iter: 78\n",
      "The L2 error:  0.2687060660863099\n",
      "iter: 79\n",
      "The L2 error:  0.49598107102511096\n",
      "iter: 80\n",
      "The L2 error:  1.188707786077385\n",
      "iter: 81\n",
      "The L2 error:  0.4255455476718152\n",
      "iter: 82\n",
      "The L2 error:  0.523806628869373\n",
      "iter: 83\n",
      "The L2 error:  0.5815103183026281\n",
      "iter: 84\n",
      "The L2 error:  0.36680284692967163\n",
      "iter: 85\n",
      "The L2 error:  0.9024499297778957\n",
      "iter: 86\n",
      "The L2 error:  0.6745133541274791\n",
      "iter: 87\n",
      "The L2 error:  0.7233520307298816\n",
      "iter: 88\n",
      "The L2 error:  1.1772777714348994\n",
      "iter: 89\n",
      "The L2 error:  0.5285464024334191\n",
      "iter: 90\n",
      "The L2 error:  0.22876700200101366\n",
      "iter: 91\n",
      "The L2 error:  0.5445185152854001\n",
      "iter: 92\n",
      "The L2 error:  0.2560417213742078\n",
      "iter: 93\n",
      "The L2 error:  0.8398689067404725\n",
      "iter: 94\n",
      "The L2 error:  0.7149440566144191\n",
      "iter: 95\n",
      "The L2 error:  0.6116528663266535\n",
      "iter: 96\n",
      "The L2 error:  0.6579213785131541\n",
      "iter: 97\n",
      "The L2 error:  0.8916805623291638\n",
      "iter: 98\n",
      "The L2 error:  0.7095806551527644\n",
      "iter: 99\n",
      "The L2 error:  0.7204615162844684\n"
     ]
    }
   ],
   "source": [
    "z, z_biased = exp_func(N,\n",
    "             n,\n",
    "             p, \n",
    "             Sigma_sqrt, \n",
    "             noise_sd, \n",
    "             debias_idx,\n",
    "             param_set, \n",
    "             beta_gen_posmnt, \n",
    "             solve_beta_mnt, \n",
    "             find_v_mnt, \n",
    "             solve_omega)"
   ]
  },
  {
   "cell_type": "markdown",
   "metadata": {},
   "source": [
    "#### Compare the mean of the (debiased_beta - beta) and (non-debiased_beta - beta)"
   ]
  },
  {
   "cell_type": "code",
   "execution_count": 13,
   "metadata": {},
   "outputs": [
    {
     "name": "stdout",
     "output_type": "stream",
     "text": [
      "The mean of (non_debiased_beta - beta) is:  -1.1164952614704973\n"
     ]
    }
   ],
   "source": [
    "mean_non_debiased = np.mean(z_biased)\n",
    "print(\"The mean of (non_debiased_beta - beta) is: \", mean_non_debiased)"
   ]
  },
  {
   "cell_type": "code",
   "execution_count": 14,
   "metadata": {},
   "outputs": [
    {
     "name": "stdout",
     "output_type": "stream",
     "text": [
      "The mean of (debiased_beta - beta) is:  -0.02813559429755643\n"
     ]
    }
   ],
   "source": [
    "mean_debiased = np.mean(np.array(z))\n",
    "print(\"The mean of (debiased_beta - beta) is: \", mean_debiased)"
   ]
  },
  {
   "cell_type": "markdown",
   "metadata": {},
   "source": [
    "#### Check if the (debiased_beta - beta) and (non-debiased_beta - beta) is standard normal"
   ]
  },
  {
   "cell_type": "code",
   "execution_count": 15,
   "metadata": {},
   "outputs": [
    {
     "data": {
      "image/png": "[encoded data removed]",
      "text/plain": [
       "<Figure size 432x288 with 1 Axes>"
      ]
     },
     "metadata": {
      "needs_background": "light"
     },
     "output_type": "display_data"
    }
   ],
   "source": [
    "# non-debiased\n",
    "fig = plt.figure()\n",
    "ax = fig.add_subplot()\n",
    "res = stats.probplot(z_biased, plot=ax)\n",
    "plt.show()"
   ]
  },
  {
   "cell_type": "code",
   "execution_count": 16,
   "metadata": {},
   "outputs": [
    {
     "data": {
      "image/png": "[encoded data removed]",
      "text/plain": [
       "<Figure size 432x288 with 1 Axes>"
      ]
     },
     "metadata": {
      "needs_background": "light"
     },
     "output_type": "display_data"
    }
   ],
   "source": [
    "# debiased\n",
    "fig = plt.figure()\n",
    "ax = fig.add_subplot()\n",
    "res = stats.probplot(z, plot=ax)\n",
    "plt.show()"
   ]
  },
  {
   "cell_type": "markdown",
   "metadata": {},
   "source": [
    "#### Save the simulation results"
   ]
  },
  {
   "cell_type": "code",
   "execution_count": 17,
   "metadata": {},
   "outputs": [],
   "source": [
    "np.save('/Users/yufei/Documents/2-CMU/DebiasingCvxConstrained/ExpResults/PosMonotoneCone/bddeig_z_biased.npy', z_biased)\n",
    "np.save('/Users/yufei/Documents/2-CMU/DebiasingCvxConstrained/ExpResults/PosMonotoneCone/bddeig_z.npy', z)"
   ]
  },
  {
   "cell_type": "markdown",
   "metadata": {},
   "source": [
    "### <span style = 'color:purple'>3) Cov(X) is the Cov of AR(1) Process</span>"
   ]
  },
  {
   "cell_type": "code",
   "execution_count": 18,
   "metadata": {},
   "outputs": [],
   "source": [
    "N = 100\n",
    "n = 100\n",
    "p = 100\n",
    "\n",
    "# Generate the squar root of cov matrix\n",
    "rho = 0.4\n",
    "rho_vec = []\n",
    "for i in range(p):\n",
    "    rho_vec.append(rho**i)\n",
    "rho_vec = np.array(rho_vec)\n",
    "# The cholesky decomposition of cov == the squar root of cov\n",
    "Sigma_sqrt = [rho_vec]\n",
    "for i in range(1, p):\n",
    "    rho_vec_shifted = np.concatenate((np.zeros(i), rho_vec[:-i]))\n",
    "#     print(rho_vec_shifted)\n",
    "    Sigma_sqrt.append(rho_vec_shifted * (1-rho**2)**0.5)\n",
    "Sigma_sqrt = np.array(Sigma_sqrt)\n",
    "\n",
    "noise_sd = 2\n",
    "debias_idx = p - 1\n",
    "param_set = Params([True],  # True if is pos mnt cone\n",
    "                   [], \n",
    "                   [gw_mnt, proj_posmnt_tan_cone, proj_posmnt_neg_tan_cone])"
   ]
  },
  {
   "cell_type": "code",
   "execution_count": 19,
   "metadata": {
    "scrolled": true
   },
   "outputs": [
    {
     "name": "stdout",
     "output_type": "stream",
     "text": [
      "iter: 0\n",
      "The L2 error:  0.328555077540863\n",
      "iter: 1\n",
      "The L2 error:  0.8829786144224991\n",
      "iter: 2\n",
      "The L2 error:  0.178274702756116\n",
      "iter: 3\n",
      "The L2 error:  0.4847372042737507\n",
      "iter: 4\n",
      "The L2 error:  0.9824867049288513\n",
      "iter: 5\n",
      "The L2 error:  0.9115719899654974\n",
      "iter: 6\n",
      "The L2 error:  0.7060756737327896\n",
      "iter: 7\n",
      "The L2 error:  0.4054649044491799\n",
      "iter: 8\n",
      "The L2 error:  0.52249970117643\n",
      "iter: 9\n",
      "The L2 error:  0.6477856310623241\n",
      "iter: 10\n",
      "The L2 error:  1.1141912660126725\n",
      "iter: 11\n",
      "The L2 error:  0.5988546952666761\n",
      "iter: 12\n",
      "The L2 error:  0.3744798840679724\n",
      "iter: 13\n",
      "The L2 error:  0.7151752155698915\n",
      "iter: 14\n",
      "The L2 error:  0.5864931980477665\n",
      "iter: 15\n",
      "The L2 error:  0.5288625773449304\n",
      "iter: 16\n",
      "The L2 error:  0.7090506229011284\n",
      "iter: 17\n",
      "The L2 error:  0.7495173916353063\n",
      "iter: 18\n",
      "The L2 error:  0.6926483274798061\n",
      "iter: 19\n",
      "The L2 error:  0.26298555725458167\n",
      "iter: 20\n",
      "The L2 error:  0.37135136921801193\n",
      "iter: 21\n",
      "The L2 error:  0.5829600391587855\n",
      "iter: 22\n",
      "The L2 error:  0.8410524798145735\n",
      "iter: 23\n",
      "The L2 error:  0.44295620233059835\n",
      "iter: 24\n",
      "The L2 error:  0.9243878705404757\n",
      "iter: 25\n",
      "The L2 error:  0.5766028374495539\n",
      "iter: 26\n",
      "The L2 error:  0.4999031150468096\n",
      "iter: 27\n",
      "The L2 error:  0.6810699891024838\n",
      "iter: 28\n",
      "The L2 error:  0.5593464691974535\n",
      "iter: 29\n",
      "The L2 error:  0.38503625967632177\n",
      "iter: 30\n",
      "The L2 error:  0.5073060086805286\n",
      "iter: 31\n",
      "The L2 error:  0.9806977902038985\n",
      "iter: 32\n",
      "The L2 error:  0.49302445848547105\n",
      "iter: 33\n",
      "The L2 error:  0.3328318743832022\n",
      "iter: 34\n",
      "The L2 error:  0.7510558446746955\n",
      "iter: 35\n",
      "The L2 error:  0.8057322142966462\n",
      "iter: 36\n",
      "The L2 error:  0.9309244865847559\n",
      "iter: 37\n",
      "The L2 error:  0.43170056929772654\n",
      "iter: 38\n",
      "The L2 error:  0.5904298991292857\n",
      "iter: 39\n",
      "The L2 error:  0.5474302128644628\n",
      "iter: 40\n",
      "The L2 error:  0.531927009760571\n",
      "iter: 41\n",
      "The L2 error:  0.3000007565508643\n",
      "iter: 42\n",
      "The L2 error:  0.674339294984567\n",
      "iter: 43\n",
      "The L2 error:  0.6331766016187592\n",
      "iter: 44\n",
      "The L2 error:  0.6443678420402308\n",
      "iter: 45\n",
      "The L2 error:  0.4293317115291679\n",
      "iter: 46\n",
      "The L2 error:  0.6878126670285887\n",
      "iter: 47\n",
      "The L2 error:  0.37787984181342726\n",
      "iter: 48\n",
      "The L2 error:  0.4910308414703537\n",
      "iter: 49\n",
      "The L2 error:  0.6184067569289433\n",
      "iter: 50\n",
      "The L2 error:  0.4361228888358156\n",
      "iter: 51\n",
      "The L2 error:  0.4551869661502413\n",
      "iter: 52\n",
      "The L2 error:  0.7655433257432459\n",
      "iter: 53\n",
      "The L2 error:  0.8381334574795177\n",
      "iter: 54\n",
      "The L2 error:  0.9518188170074903\n",
      "iter: 55\n",
      "The L2 error:  0.9286270327540002\n",
      "iter: 56\n",
      "The L2 error:  0.5228562619262137\n",
      "iter: 57\n",
      "The L2 error:  0.5703952561421005\n",
      "iter: 58\n",
      "The L2 error:  0.5091856069404747\n",
      "iter: 59\n",
      "The L2 error:  0.2628496802579448\n",
      "iter: 60\n",
      "The L2 error:  0.8932012112844158\n",
      "iter: 61\n",
      "The L2 error:  0.8197194374248832\n",
      "iter: 62\n",
      "The L2 error:  0.7319182510739038\n",
      "iter: 63\n",
      "The L2 error:  0.40191864632684704\n",
      "iter: 64\n",
      "The L2 error:  0.5009449567417564\n",
      "iter: 65\n",
      "The L2 error:  0.44019001568390986\n",
      "iter: 66\n",
      "The L2 error:  0.7414013125886313\n",
      "iter: 67\n",
      "The L2 error:  0.7137953428639471\n",
      "iter: 68\n",
      "The L2 error:  0.28348901103586355\n",
      "iter: 69\n",
      "The L2 error:  1.1381912750938152\n",
      "iter: 70\n",
      "The L2 error:  0.7787681913287169\n",
      "iter: 71\n",
      "The L2 error:  0.9426085540276014\n",
      "iter: 72\n",
      "The L2 error:  0.9471028468242131\n",
      "iter: 73\n",
      "The L2 error:  0.646202704952069\n",
      "iter: 74\n",
      "The L2 error:  0.3000102144645609\n",
      "iter: 75\n",
      "The L2 error:  0.25524726477655857\n",
      "iter: 76\n",
      "The L2 error:  0.5721828542562272\n",
      "iter: 77\n",
      "The L2 error:  0.4362984216263833\n",
      "iter: 78\n",
      "The L2 error:  0.9217328794439842\n",
      "iter: 79\n",
      "The L2 error:  0.6435580488348273\n",
      "iter: 80\n",
      "The L2 error:  0.505691247760675\n",
      "iter: 81\n",
      "The L2 error:  0.5486755543279234\n",
      "iter: 82\n",
      "The L2 error:  0.35989416388731055\n",
      "iter: 83\n",
      "The L2 error:  0.4603656890861703\n",
      "iter: 84\n",
      "The L2 error:  0.7931597848050236\n",
      "iter: 85\n",
      "The L2 error:  0.2893155749893752\n",
      "iter: 86\n",
      "The L2 error:  0.7091634313431237\n",
      "iter: 87\n",
      "The L2 error:  0.44791832600068077\n",
      "iter: 88\n",
      "The L2 error:  0.7784046561283859\n",
      "iter: 89\n",
      "The L2 error:  0.9752756758908466\n",
      "iter: 90\n",
      "The L2 error:  0.3297219536447262\n",
      "iter: 91\n",
      "The L2 error:  0.42123016150493786\n",
      "iter: 92\n",
      "The L2 error:  0.5289163122556471\n",
      "iter: 93\n",
      "The L2 error:  0.5200752753004674\n",
      "iter: 94\n",
      "The L2 error:  0.8667970490618715\n",
      "iter: 95\n",
      "The L2 error:  0.48375551815564094\n",
      "iter: 96\n",
      "The L2 error:  0.3319347142630526\n",
      "iter: 97\n",
      "The L2 error:  0.9883949883971064\n",
      "iter: 98\n",
      "The L2 error:  0.9925061329904553\n",
      "iter: 99\n",
      "The L2 error:  0.36370886398976643\n"
     ]
    }
   ],
   "source": [
    "z, z_biased = exp_func(N,\n",
    "             n,\n",
    "             p, \n",
    "             Sigma_sqrt, \n",
    "             noise_sd, \n",
    "             debias_idx,\n",
    "             param_set, \n",
    "             beta_gen_posmnt, \n",
    "             solve_beta_mnt, \n",
    "             find_v_mnt, \n",
    "             solve_omega)"
   ]
  },
  {
   "cell_type": "markdown",
   "metadata": {},
   "source": [
    "#### Compare the mean of the (debiased_beta - beta) and (non-debiased_beta - beta)"
   ]
  },
  {
   "cell_type": "code",
   "execution_count": 20,
   "metadata": {},
   "outputs": [
    {
     "name": "stdout",
     "output_type": "stream",
     "text": [
      "The mean of (non_debiased_beta - beta) is:  -0.8425743590026111\n"
     ]
    }
   ],
   "source": [
    "mean_non_debiased = np.mean(z_biased)\n",
    "print(\"The mean of (non_debiased_beta - beta) is: \", mean_non_debiased)"
   ]
  },
  {
   "cell_type": "code",
   "execution_count": 21,
   "metadata": {},
   "outputs": [
    {
     "name": "stdout",
     "output_type": "stream",
     "text": [
      "The mean of (debiased_beta - beta) is:  -0.09664852872592448\n"
     ]
    }
   ],
   "source": [
    "mean_debiased = np.mean(np.array(z))\n",
    "print(\"The mean of (debiased_beta - beta) is: \", mean_debiased)"
   ]
  },
  {
   "cell_type": "markdown",
   "metadata": {},
   "source": [
    "#### Check if the (debiased_beta - beta) and (non-debiased_beta - beta) is standard normal"
   ]
  },
  {
   "cell_type": "code",
   "execution_count": 22,
   "metadata": {},
   "outputs": [
    {
     "data": {
      "image/png": "[encoded data removed]",
      "text/plain": [
       "<Figure size 432x288 with 1 Axes>"
      ]
     },
     "metadata": {
      "needs_background": "light"
     },
     "output_type": "display_data"
    }
   ],
   "source": [
    "# non-debiased\n",
    "fig = plt.figure()\n",
    "ax = fig.add_subplot()\n",
    "res = stats.probplot(z_biased, plot=ax)\n",
    "plt.show()"
   ]
  },
  {
   "cell_type": "code",
   "execution_count": 23,
   "metadata": {},
   "outputs": [
    {
     "data": {
      "image/png": "[encoded data removed]",
      "text/plain": [
       "<Figure size 432x288 with 1 Axes>"
      ]
     },
     "metadata": {
      "needs_background": "light"
     },
     "output_type": "display_data"
    }
   ],
   "source": [
    "# debiased\n",
    "fig = plt.figure()\n",
    "ax = fig.add_subplot()\n",
    "res = stats.probplot(z, plot=ax)\n",
    "plt.show()"
   ]
  },
  {
   "cell_type": "markdown",
   "metadata": {},
   "source": [
    "#### Save the simulation results"
   ]
  },
  {
   "cell_type": "code",
   "execution_count": 24,
   "metadata": {},
   "outputs": [],
   "source": [
    "np.save('/Users/yufei/Documents/2-CMU/DebiasingCvxConstrained/ExpResults/PosMonotoneCone/ar1_z_biased.npy', z_biased)\n",
    "np.save('/Users/yufei/Documents/2-CMU/DebiasingCvxConstrained/ExpResults/PosMonotoneCone/ar1_z.npy', z)"
   ]
  },
  {
   "cell_type": "code",
   "execution_count": null,
   "metadata": {},
   "outputs": [],
   "source": []
  }
 ],
 "metadata": {
  "kernelspec": {
   "display_name": "Python 3",
   "language": "python",
   "name": "python3"
  },
  "language_info": {
   "codemirror_mode": {
    "name": "ipython",
    "version": 3
   },
   "file_extension": ".py",
   "mimetype": "text/x-python",
   "name": "python",
   "nbconvert_exporter": "python",
   "pygments_lexer": "ipython3",
   "version": "3.8.6"
  }
 },
 "nbformat": 4,
 "nbformat_minor": 4
}
