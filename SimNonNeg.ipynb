{
 "cells": [
  {
   "cell_type": "code",
   "execution_count": 1,
   "metadata": {},
   "outputs": [],
   "source": [
    "import os\n",
    "os.chdir('/Users/yufei/Documents/2-CMU/DebiasingCvxConstrained/Code/Library')\n",
    "\n",
    "from ExperimentFunc import exp_func, beta_gen_nonneg\n",
    "from Step1 import solve_beta_nonneg\n",
    "from Step2 import find_v_nonneg\n",
    "from Step3 import solve_omega, gw_nonneg, proj_nonneg_tan_cone, proj_nonneg_neg_tan_cone\n",
    "\n",
    "from math import log\n",
    "import numpy as np\n",
    "\n",
    "from sklearn.isotonic import IsotonicRegression\n",
    "\n",
    "from scipy import linalg\n",
    "from scipy import stats\n",
    "\n",
    "from collections import namedtuple\n",
    "\n",
    "from copy import deepcopy\n",
    "\n",
    "import matplotlib.pyplot as plt"
   ]
  },
  {
   "cell_type": "code",
   "execution_count": 2,
   "metadata": {},
   "outputs": [],
   "source": [
    "Params = namedtuple('Params', ['step1', 'step2', 'step3'])"
   ]
  },
  {
   "cell_type": "markdown",
   "metadata": {},
   "source": [
    "### <span style=\"color:purple\">1) Cov(X) = I</span>"
   ]
  },
  {
   "cell_type": "code",
   "execution_count": 5,
   "metadata": {},
   "outputs": [],
   "source": [
    "N = 100\n",
    "n = 10000\n",
    "p = 50\n",
    "\n",
    "Sigma_sqrt = np.eye(p)\n",
    "noise_sd = 2\n",
    "debias_idx = p - 1\n",
    "param_set = Params([], \n",
    "                   [], \n",
    "                   [gw_nonneg, proj_nonneg_tan_cone, proj_nonneg_neg_tan_cone])"
   ]
  },
  {
   "cell_type": "code",
   "execution_count": 6,
   "metadata": {
    "scrolled": true
   },
   "outputs": [
    {
     "name": "stdout",
     "output_type": "stream",
     "text": [
      "iter: 0\n",
      "The L2 error:  0.1768834153257002\n",
      "iter: 1\n",
      "The L2 error:  0.16333977888584086\n",
      "iter: 2\n",
      "The L2 error:  0.16124442086318302\n",
      "iter: 3\n",
      "The L2 error:  0.17712382035549584\n",
      "iter: 4\n",
      "The L2 error:  0.18457380711985666\n",
      "iter: 5\n",
      "The L2 error:  0.18945671105032177\n",
      "iter: 6\n",
      "The L2 error:  0.14343681649210688\n",
      "iter: 7\n",
      "The L2 error:  0.18066760187463138\n",
      "iter: 8\n",
      "The L2 error:  0.18658897771307317\n",
      "iter: 9\n",
      "The L2 error:  0.17105639122292304\n",
      "iter: 10\n",
      "The L2 error:  0.14280497194322353\n",
      "iter: 11\n",
      "The L2 error:  0.19601647104156508\n",
      "iter: 12\n",
      "The L2 error:  0.18149007642695034\n",
      "iter: 13\n",
      "The L2 error:  0.1556115917395364\n",
      "iter: 14\n",
      "The L2 error:  0.17178551485181107\n",
      "iter: 15\n",
      "The L2 error:  0.18072234737071294\n",
      "iter: 16\n",
      "The L2 error:  0.2027804725187716\n",
      "iter: 17\n",
      "The L2 error:  0.14619421792378934\n",
      "iter: 18\n",
      "The L2 error:  0.178644089029094\n",
      "iter: 19\n",
      "The L2 error:  0.1953096818009005\n",
      "iter: 20\n",
      "The L2 error:  0.1572221635837464\n",
      "iter: 21\n",
      "The L2 error:  0.15845972824272073\n",
      "iter: 22\n",
      "The L2 error:  0.1822372877873379\n",
      "iter: 23\n",
      "The L2 error:  0.15941160974359025\n",
      "iter: 24\n",
      "The L2 error:  0.16385877243500677\n",
      "iter: 25\n",
      "The L2 error:  0.16861442608042698\n",
      "iter: 26\n",
      "The L2 error:  0.16830037474002046\n",
      "iter: 27\n",
      "The L2 error:  0.18049764523349593\n",
      "iter: 28\n",
      "The L2 error:  0.20608928861257841\n",
      "iter: 29\n",
      "The L2 error:  0.17494299472800015\n",
      "iter: 30\n",
      "The L2 error:  0.16300094218061262\n",
      "iter: 31\n",
      "The L2 error:  0.1791455120242617\n",
      "iter: 32\n",
      "The L2 error:  0.1552133692832333\n",
      "iter: 33\n",
      "The L2 error:  0.1801016051738974\n",
      "iter: 34\n",
      "The L2 error:  0.18894272290458794\n",
      "iter: 35\n",
      "The L2 error:  0.19519829202772565\n",
      "iter: 36\n",
      "The L2 error:  0.1869187394245142\n",
      "iter: 37\n",
      "The L2 error:  0.22104641723766114\n",
      "iter: 38\n",
      "The L2 error:  0.1549685512300154\n",
      "iter: 39\n",
      "The L2 error:  0.19327372435206822\n",
      "iter: 40\n",
      "The L2 error:  0.141095922830712\n",
      "iter: 41\n",
      "The L2 error:  0.15269994451222788\n",
      "iter: 42\n",
      "The L2 error:  0.15758009466709366\n",
      "iter: 43\n",
      "The L2 error:  0.16992116267519822\n",
      "iter: 44\n",
      "The L2 error:  0.16286015884181415\n",
      "iter: 45\n",
      "The L2 error:  0.16828021835646823\n",
      "iter: 46\n",
      "The L2 error:  0.17722299457687093\n",
      "iter: 47\n",
      "The L2 error:  0.14208740859941174\n",
      "iter: 48\n",
      "The L2 error:  0.1701876266353301\n",
      "iter: 49\n",
      "The L2 error:  0.17387542005316428\n",
      "iter: 50\n",
      "The L2 error:  0.15562371779159562\n",
      "iter: 51\n",
      "The L2 error:  0.15055705772531405\n",
      "iter: 52\n",
      "The L2 error:  0.1726689770782782\n",
      "iter: 53\n",
      "The L2 error:  0.1990480790466513\n",
      "iter: 54\n",
      "The L2 error:  0.17501689420573743\n",
      "iter: 55\n",
      "The L2 error:  0.1563611867372367\n",
      "iter: 56\n",
      "The L2 error:  0.19568328624186695\n",
      "iter: 57\n",
      "The L2 error:  0.20895137916877776\n",
      "iter: 58\n",
      "The L2 error:  0.1705860080454045\n",
      "iter: 59\n",
      "The L2 error:  0.18298635611092953\n",
      "iter: 60\n",
      "The L2 error:  0.19699748865608488\n",
      "iter: 61\n",
      "The L2 error:  0.1964861174346416\n",
      "iter: 62\n",
      "The L2 error:  0.16976676145098285\n",
      "iter: 63\n",
      "The L2 error:  0.20286953117160986\n",
      "iter: 64\n",
      "The L2 error:  0.20824970495449366\n",
      "iter: 65\n",
      "The L2 error:  0.17300074020175216\n",
      "iter: 66\n",
      "The L2 error:  0.2088693082087649\n",
      "iter: 67\n",
      "The L2 error:  0.17174575964620034\n",
      "iter: 68\n",
      "The L2 error:  0.19434486351400007\n",
      "iter: 69\n",
      "The L2 error:  0.2004254978929095\n",
      "iter: 70\n",
      "The L2 error:  0.14198224587195135\n",
      "iter: 71\n",
      "The L2 error:  0.16233601470969108\n",
      "iter: 72\n",
      "The L2 error:  0.1889518448550123\n",
      "iter: 73\n",
      "The L2 error:  0.1790475359790258\n",
      "iter: 74\n",
      "The L2 error:  0.17029848890184363\n",
      "iter: 75\n",
      "The L2 error:  0.17972250722480074\n",
      "iter: 76\n",
      "The L2 error:  0.17345187535769568\n",
      "iter: 77\n",
      "The L2 error:  0.16465508658788314\n",
      "iter: 78\n",
      "The L2 error:  0.1605511204684908\n",
      "iter: 79\n",
      "The L2 error:  0.18195100166426206\n",
      "iter: 80\n",
      "The L2 error:  0.1535270117015486\n",
      "iter: 81\n",
      "The L2 error:  0.18662155122912777\n",
      "iter: 82\n",
      "The L2 error:  0.17684496389052115\n",
      "iter: 83\n",
      "The L2 error:  0.13730378536690843\n",
      "iter: 84\n",
      "The L2 error:  0.17105459676859597\n",
      "iter: 85\n",
      "The L2 error:  0.18782671722502725\n",
      "iter: 86\n",
      "The L2 error:  0.17200770024673198\n",
      "iter: 87\n",
      "The L2 error:  0.19910578971881004\n",
      "iter: 88\n",
      "The L2 error:  0.18102278413276046\n",
      "iter: 89\n",
      "The L2 error:  0.14241554618880023\n",
      "iter: 90\n",
      "The L2 error:  0.17580816163254503\n",
      "iter: 91\n",
      "The L2 error:  0.16252387939074198\n",
      "iter: 92\n",
      "The L2 error:  0.18194948292043317\n",
      "iter: 93\n",
      "The L2 error:  0.1738293594849875\n",
      "iter: 94\n",
      "The L2 error:  0.18462926124071657\n",
      "iter: 95\n",
      "The L2 error:  0.16903917809814312\n",
      "iter: 96\n",
      "The L2 error:  0.2150376509884668\n",
      "iter: 97\n",
      "The L2 error:  0.17322544106285512\n",
      "iter: 98\n",
      "The L2 error:  0.1632282747038934\n",
      "iter: 99\n",
      "The L2 error:  0.18586935289967535\n"
     ]
    }
   ],
   "source": [
    "z, z_biased = exp_func(N,\n",
    "             n,\n",
    "             p, \n",
    "             Sigma_sqrt, \n",
    "             noise_sd, \n",
    "             debias_idx,\n",
    "             param_set, \n",
    "             beta_gen_nonneg, \n",
    "             solve_beta_nonneg, \n",
    "             find_v_nonneg, \n",
    "             solve_omega)"
   ]
  },
  {
   "cell_type": "markdown",
   "metadata": {},
   "source": [
    "#### Compare the mean of the (debiased_beta - beta) and (non-debiased_beta - beta)"
   ]
  },
  {
   "cell_type": "code",
   "execution_count": 7,
   "metadata": {},
   "outputs": [
    {
     "name": "stdout",
     "output_type": "stream",
     "text": [
      "The mean of (non_debiased_beta - beta) is:  -0.4338481950391158\n"
     ]
    }
   ],
   "source": [
    "mean_non_debiased = np.mean(z_biased)\n",
    "print(\"The mean of (non_debiased_beta - beta) is: \", mean_non_debiased)"
   ]
  },
  {
   "cell_type": "code",
   "execution_count": 8,
   "metadata": {},
   "outputs": [
    {
     "name": "stdout",
     "output_type": "stream",
     "text": [
      "The mean of (debiased_beta - beta) is:  -0.15922223416776896\n"
     ]
    }
   ],
   "source": [
    "mean_debiased = np.mean(np.array(z))\n",
    "print(\"The mean of (debiased_beta - beta) is: \", mean_debiased)"
   ]
  },
  {
   "cell_type": "markdown",
   "metadata": {},
   "source": [
    "#### Check if the (debiased_beta - beta) and (non-debiased_beta - beta) is standard normal"
   ]
  },
  {
   "cell_type": "code",
   "execution_count": 9,
   "metadata": {},
   "outputs": [
    {
     "data": {
      "image/png": "[encoded data removed]",
      "text/plain": [
       "<Figure size 432x288 with 1 Axes>"
      ]
     },
     "metadata": {
      "needs_background": "light"
     },
     "output_type": "display_data"
    }
   ],
   "source": [
    "# non-debiased\n",
    "fig = plt.figure()\n",
    "ax = fig.add_subplot()\n",
    "res = stats.probplot(z_biased, plot=ax)\n",
    "plt.show()"
   ]
  },
  {
   "cell_type": "code",
   "execution_count": 10,
   "metadata": {},
   "outputs": [
    {
     "data": {
      "image/png": "[encoded data removed]",
      "text/plain": [
       "<Figure size 432x288 with 1 Axes>"
      ]
     },
     "metadata": {
      "needs_background": "light"
     },
     "output_type": "display_data"
    }
   ],
   "source": [
    "# debiased\n",
    "fig = plt.figure()\n",
    "ax = fig.add_subplot()\n",
    "res = stats.probplot(z, plot=ax)\n",
    "plt.show()"
   ]
  },
  {
   "cell_type": "markdown",
   "metadata": {},
   "source": [
    "#### Save the simulation results"
   ]
  },
  {
   "cell_type": "code",
   "execution_count": 11,
   "metadata": {},
   "outputs": [],
   "source": [
    "np.save('/Users/yufei/Documents/2-CMU/DebiasingCvxConstrained/ExpResults/NonNeg/identity_z_biased.npy', z_biased)\n",
    "np.save('/Users/yufei/Documents/2-CMU/DebiasingCvxConstrained/ExpResults/NonNeg/identity_z.npy', z)"
   ]
  },
  {
   "cell_type": "markdown",
   "metadata": {},
   "source": [
    "### <span style=\"color:purple\">2) Cov(X) with bounded eigenvalues</span>"
   ]
  },
  {
   "cell_type": "code",
   "execution_count": 11,
   "metadata": {},
   "outputs": [],
   "source": [
    "# other parameters are the same as the cov=I case\n",
    "\n",
    "# Generate a cov matrix with bounded eigenvalues\n",
    "# generate eigenvalues\n",
    "cov_eigv = np.random.uniform(low = 0.3, high = 3.0, size = (p,))\n",
    "D_sqrt = np.diag(cov_eigv**0.5)\n",
    "# generate an orthonormal matrix\n",
    "a = np.random.normal(size = (p,p))\n",
    "u, s, vh = np.linalg.svd(a.T@a, full_matrices=True)\n",
    "# generate the square root of cov matrix \n",
    "Sigma_sqrt = D_sqrt @ u.T"
   ]
  },
  {
   "cell_type": "code",
   "execution_count": 12,
   "metadata": {
    "scrolled": true
   },
   "outputs": [
    {
     "name": "stdout",
     "output_type": "stream",
     "text": [
      "iter: 0\n",
      "The L2 error:  0.14730121769728635\n",
      "iter: 1\n",
      "The L2 error:  0.13936983385032262\n",
      "iter: 2\n",
      "The L2 error:  0.12688433816499448\n",
      "iter: 3\n",
      "The L2 error:  0.1361615677753378\n",
      "iter: 4\n",
      "The L2 error:  0.14998166832712365\n",
      "iter: 5\n",
      "The L2 error:  0.13667596072688695\n",
      "iter: 6\n",
      "The L2 error:  0.1644177196774536\n",
      "iter: 7\n",
      "The L2 error:  0.1364217457378052\n",
      "iter: 8\n",
      "The L2 error:  0.13442847403320904\n",
      "iter: 9\n",
      "The L2 error:  0.14755399747203599\n",
      "iter: 10\n",
      "The L2 error:  0.13010807106211056\n",
      "iter: 11\n",
      "The L2 error:  0.153107379373344\n",
      "iter: 12\n",
      "The L2 error:  0.1294617524368603\n",
      "iter: 13\n",
      "The L2 error:  0.12051305499381344\n",
      "iter: 14\n",
      "The L2 error:  0.1399529780000115\n",
      "iter: 15\n",
      "The L2 error:  0.14009296320213818\n",
      "iter: 16\n",
      "The L2 error:  0.14707099776385998\n",
      "iter: 17\n",
      "The L2 error:  0.1753894695019914\n",
      "iter: 18\n",
      "The L2 error:  0.18598539115381732\n",
      "iter: 19\n",
      "The L2 error:  0.17072026080626532\n",
      "iter: 20\n",
      "The L2 error:  0.13649086391629897\n",
      "iter: 21\n",
      "The L2 error:  0.16281271571684322\n",
      "iter: 22\n",
      "The L2 error:  0.1538779764533839\n",
      "iter: 23\n",
      "The L2 error:  0.13491850375316927\n",
      "iter: 24\n",
      "The L2 error:  0.1404437733901654\n",
      "iter: 25\n",
      "The L2 error:  0.1448166125274687\n",
      "iter: 26\n",
      "The L2 error:  0.18912647137112265\n",
      "iter: 27\n",
      "The L2 error:  0.16160703188037162\n",
      "iter: 28\n",
      "The L2 error:  0.11842839306010718\n",
      "iter: 29\n",
      "The L2 error:  0.16400971700968908\n",
      "iter: 30\n",
      "The L2 error:  0.15924516264304836\n",
      "iter: 31\n",
      "The L2 error:  0.1479868395079301\n",
      "iter: 32\n",
      "The L2 error:  0.13257435085380273\n",
      "iter: 33\n",
      "The L2 error:  0.16885324945168845\n",
      "iter: 34\n",
      "The L2 error:  0.12113860745070025\n",
      "iter: 35\n",
      "The L2 error:  0.1453087027771097\n",
      "iter: 36\n",
      "The L2 error:  0.17457796471365936\n",
      "iter: 37\n",
      "The L2 error:  0.11433197943905508\n",
      "iter: 38\n",
      "The L2 error:  0.15627018776385113\n",
      "iter: 39\n",
      "The L2 error:  0.1521687259683885\n",
      "iter: 40\n",
      "The L2 error:  0.17829687355275076\n",
      "iter: 41\n",
      "The L2 error:  0.14499583298244725\n",
      "iter: 42\n",
      "The L2 error:  0.1535942085232335\n",
      "iter: 43\n",
      "The L2 error:  0.15455090784000886\n",
      "iter: 44\n",
      "The L2 error:  0.1374782080827793\n",
      "iter: 45\n",
      "The L2 error:  0.15373175800713107\n",
      "iter: 46\n",
      "The L2 error:  0.14435056220305612\n",
      "iter: 47\n",
      "The L2 error:  0.13977154502589423\n",
      "iter: 48\n",
      "The L2 error:  0.11811883576620312\n",
      "iter: 49\n",
      "The L2 error:  0.128316988825227\n",
      "iter: 50\n",
      "The L2 error:  0.1542183919478305\n",
      "iter: 51\n",
      "The L2 error:  0.13794499329860815\n",
      "iter: 52\n",
      "The L2 error:  0.15147624692934505\n",
      "iter: 53\n",
      "The L2 error:  0.142385459850365\n",
      "iter: 54\n",
      "The L2 error:  0.14196581903219407\n",
      "iter: 55\n",
      "The L2 error:  0.13139981643483895\n",
      "iter: 56\n",
      "The L2 error:  0.15186583635242165\n",
      "iter: 57\n",
      "The L2 error:  0.1494089141969949\n",
      "iter: 58\n",
      "The L2 error:  0.13555052083441899\n",
      "iter: 59\n",
      "The L2 error:  0.14565184040287438\n",
      "iter: 60\n",
      "The L2 error:  0.13911664417095992\n",
      "iter: 61\n",
      "The L2 error:  0.18217740246870975\n",
      "iter: 62\n",
      "The L2 error:  0.1462967368427088\n",
      "iter: 63\n",
      "The L2 error:  0.1491009406882465\n",
      "iter: 64\n",
      "The L2 error:  0.14849138003063966\n",
      "iter: 65\n",
      "The L2 error:  0.13848117516689662\n",
      "iter: 66\n",
      "The L2 error:  0.10287136676913126\n",
      "iter: 67\n",
      "The L2 error:  0.14922116402098146\n",
      "iter: 68\n",
      "The L2 error:  0.15614048020419072\n",
      "iter: 69\n",
      "The L2 error:  0.16095759696265713\n",
      "iter: 70\n",
      "The L2 error:  0.14352511231740306\n",
      "iter: 71\n",
      "The L2 error:  0.0937572015519106\n",
      "iter: 72\n",
      "The L2 error:  0.12614002807577995\n",
      "iter: 73\n",
      "The L2 error:  0.13403988991982038\n",
      "iter: 74\n",
      "The L2 error:  0.11642703818429766\n",
      "iter: 75\n",
      "The L2 error:  0.14594658271970973\n",
      "iter: 76\n",
      "The L2 error:  0.10434846939496457\n",
      "iter: 77\n",
      "The L2 error:  0.14281778147156945\n",
      "iter: 78\n",
      "The L2 error:  0.14760656623867294\n",
      "iter: 79\n",
      "The L2 error:  0.16026292028229897\n",
      "iter: 80\n",
      "The L2 error:  0.1705046852847977\n",
      "iter: 81\n",
      "The L2 error:  0.11339433643753734\n",
      "iter: 82\n",
      "The L2 error:  0.12946144892027972\n",
      "iter: 83\n",
      "The L2 error:  0.13529202000423687\n",
      "iter: 84\n",
      "The L2 error:  0.14453224082098898\n",
      "iter: 85\n",
      "The L2 error:  0.1716122921148133\n",
      "iter: 86\n",
      "The L2 error:  0.11998417187012081\n",
      "iter: 87\n",
      "The L2 error:  0.12569239912777722\n",
      "iter: 88\n",
      "The L2 error:  0.16157060265567574\n",
      "iter: 89\n",
      "The L2 error:  0.13347384377354268\n",
      "iter: 90\n",
      "The L2 error:  0.1469636201019573\n",
      "iter: 91\n",
      "The L2 error:  0.13035921099352923\n",
      "iter: 92\n",
      "The L2 error:  0.14095453293474827\n",
      "iter: 93\n",
      "The L2 error:  0.15080018052378819\n",
      "iter: 94\n",
      "The L2 error:  0.14783679491765175\n",
      "iter: 95\n",
      "The L2 error:  0.14950651999666506\n",
      "iter: 96\n",
      "The L2 error:  0.16490005097443786\n",
      "iter: 97\n",
      "The L2 error:  0.14050350310833032\n",
      "iter: 98\n",
      "The L2 error:  0.11578892748069917\n",
      "iter: 99\n",
      "The L2 error:  0.10266622754362573\n"
     ]
    }
   ],
   "source": [
    "z, z_biased = exp_func(N,\n",
    "             n,\n",
    "             p, \n",
    "             Sigma_sqrt, \n",
    "             noise_sd, \n",
    "             debias_idx,\n",
    "             param_set, \n",
    "             beta_gen_nonneg, \n",
    "             solve_beta_nonneg, \n",
    "             find_v_nonneg, \n",
    "             solve_omega)"
   ]
  },
  {
   "cell_type": "markdown",
   "metadata": {},
   "source": [
    "#### Compare the mean of the (debiased_beta - beta) and (non-debiased_beta - beta)"
   ]
  },
  {
   "cell_type": "code",
   "execution_count": 13,
   "metadata": {},
   "outputs": [
    {
     "name": "stdout",
     "output_type": "stream",
     "text": [
      "The mean of (non_debiased_beta - beta) is:  -0.3132176278059198\n"
     ]
    }
   ],
   "source": [
    "mean_non_debiased = np.mean(z_biased)\n",
    "print(\"The mean of (non_debiased_beta - beta) is: \", mean_non_debiased)"
   ]
  },
  {
   "cell_type": "code",
   "execution_count": 14,
   "metadata": {},
   "outputs": [
    {
     "name": "stdout",
     "output_type": "stream",
     "text": [
      "The mean of (debiased_beta - beta) is:  0.21109199918983756\n"
     ]
    }
   ],
   "source": [
    "mean_debiased = np.mean(np.array(z))\n",
    "print(\"The mean of (debiased_beta - beta) is: \", mean_debiased)"
   ]
  },
  {
   "cell_type": "markdown",
   "metadata": {},
   "source": [
    "#### Check if the (debiased_beta - beta) and (non-debiased_beta - beta) is standard normal"
   ]
  },
  {
   "cell_type": "code",
   "execution_count": 15,
   "metadata": {},
   "outputs": [
    {
     "data": {
      "image/png": "[encoded data removed]",
      "text/plain": [
       "<Figure size 432x288 with 1 Axes>"
      ]
     },
     "metadata": {
      "needs_background": "light"
     },
     "output_type": "display_data"
    }
   ],
   "source": [
    "# non-debiased\n",
    "fig = plt.figure()\n",
    "ax = fig.add_subplot()\n",
    "res = stats.probplot(z_biased, plot=ax)\n",
    "plt.show()"
   ]
  },
  {
   "cell_type": "code",
   "execution_count": 16,
   "metadata": {},
   "outputs": [
    {
     "data": {
      "image/png": "[encoded data removed]",
      "text/plain": [
       "<Figure size 432x288 with 1 Axes>"
      ]
     },
     "metadata": {
      "needs_background": "light"
     },
     "output_type": "display_data"
    }
   ],
   "source": [
    "# debiased\n",
    "fig = plt.figure()\n",
    "ax = fig.add_subplot()\n",
    "res = stats.probplot(z, plot=ax)\n",
    "plt.show()"
   ]
  },
  {
   "cell_type": "markdown",
   "metadata": {},
   "source": [
    "#### Save the simulation results"
   ]
  },
  {
   "cell_type": "code",
   "execution_count": 66,
   "metadata": {},
   "outputs": [],
   "source": [
    "np.save('/Users/yufei/Documents/2-CMU/DebiasingCvxConstrained/ExpResults/NonNeg/bddeig_z_biased.npy', z_biased)\n",
    "np.save('/Users/yufei/Documents/2-CMU/DebiasingCvxConstrained/ExpResults/NonNeg/bddeig_z.npy', z)"
   ]
  },
  {
   "cell_type": "markdown",
   "metadata": {},
   "source": [
    "### <span style=\"color:purple\">3) Cov(X) is the Cov of AR(1) Process</span>"
   ]
  },
  {
   "cell_type": "code",
   "execution_count": 67,
   "metadata": {},
   "outputs": [],
   "source": [
    "# other parameters are the same as the cov=I case\n",
    "\n",
    "# Generate the squar root of cov matrix\n",
    "rho = 0.4\n",
    "rho_vec = []\n",
    "for i in range(p):\n",
    "    rho_vec.append(rho**i)\n",
    "rho_vec = np.array(rho_vec)\n",
    "# The cholesky decomposition of cov == the squar root of cov\n",
    "Sigma_sqrt = [rho_vec]\n",
    "for i in range(1, p):\n",
    "    rho_vec_shifted = np.concatenate((np.zeros(i), rho_vec[:-i]))\n",
    "#     print(rho_vec_shifted)\n",
    "    Sigma_sqrt.append(rho_vec_shifted * (1-rho**2)**0.5)\n",
    "Sigma_sqrt = np.array(Sigma_sqrt)"
   ]
  },
  {
   "cell_type": "code",
   "execution_count": 68,
   "metadata": {
    "scrolled": true
   },
   "outputs": [
    {
     "name": "stdout",
     "output_type": "stream",
     "text": [
      "iter: 0\n",
      "The L2 error:  0.22885926780490654\n",
      "iter: 1\n",
      "The L2 error:  0.2105462119606363\n",
      "iter: 2\n",
      "The L2 error:  0.17103403433457456\n",
      "iter: 3\n",
      "The L2 error:  0.1665113404538216\n",
      "iter: 4\n",
      "The L2 error:  0.230066878002063\n",
      "iter: 5\n",
      "The L2 error:  0.16208471336285962\n",
      "iter: 6\n",
      "The L2 error:  0.21020811222078228\n",
      "iter: 7\n",
      "The L2 error:  0.15741094807434125\n",
      "iter: 8\n",
      "The L2 error:  0.20401247020312588\n",
      "iter: 9\n",
      "The L2 error:  0.1509729648882621\n",
      "iter: 10\n",
      "The L2 error:  0.1929631488098761\n",
      "iter: 11\n",
      "The L2 error:  0.1553802440032125\n",
      "iter: 12\n",
      "The L2 error:  0.23346901200363232\n",
      "iter: 13\n",
      "The L2 error:  0.18758388244296204\n",
      "iter: 14\n",
      "The L2 error:  0.15990469938637392\n",
      "iter: 15\n",
      "The L2 error:  0.21635039147682159\n",
      "iter: 16\n",
      "The L2 error:  0.1760420213311556\n",
      "iter: 17\n",
      "The L2 error:  0.15977554500695543\n",
      "iter: 18\n",
      "The L2 error:  0.18198817897244482\n",
      "iter: 19\n",
      "The L2 error:  0.19231513044983098\n",
      "iter: 20\n",
      "The L2 error:  0.15245697153848625\n",
      "iter: 21\n",
      "The L2 error:  0.1716919628303185\n",
      "iter: 22\n",
      "The L2 error:  0.18803907611626794\n",
      "iter: 23\n",
      "The L2 error:  0.1885994539569201\n",
      "iter: 24\n",
      "The L2 error:  0.1869680116570777\n",
      "iter: 25\n",
      "The L2 error:  0.16880947384030223\n",
      "iter: 26\n",
      "The L2 error:  0.18262095795993716\n",
      "iter: 27\n",
      "The L2 error:  0.15089124262831066\n",
      "iter: 28\n",
      "The L2 error:  0.2126217098160045\n",
      "iter: 29\n",
      "The L2 error:  0.21116161246937354\n",
      "iter: 30\n",
      "The L2 error:  0.16917470439940013\n",
      "iter: 31\n",
      "The L2 error:  0.20729240347579098\n",
      "iter: 32\n",
      "The L2 error:  0.19493850728614392\n",
      "iter: 33\n",
      "The L2 error:  0.23961821457481544\n",
      "iter: 34\n",
      "The L2 error:  0.1792140065497896\n",
      "iter: 35\n",
      "The L2 error:  0.20339786585582637\n",
      "iter: 36\n",
      "The L2 error:  0.20006375795640344\n",
      "iter: 37\n",
      "The L2 error:  0.22689141904778995\n",
      "iter: 38\n",
      "The L2 error:  0.1757159561842426\n",
      "iter: 39\n",
      "The L2 error:  0.2091597220647902\n",
      "iter: 40\n",
      "The L2 error:  0.23060929779902503\n",
      "iter: 41\n",
      "The L2 error:  0.16294197265152685\n",
      "iter: 42\n",
      "The L2 error:  0.2295013987594075\n",
      "iter: 43\n",
      "The L2 error:  0.19994012437986874\n",
      "iter: 44\n",
      "The L2 error:  0.17222311936055756\n",
      "iter: 45\n",
      "The L2 error:  0.1637924046103831\n",
      "iter: 46\n",
      "The L2 error:  0.18827864610559242\n",
      "iter: 47\n",
      "The L2 error:  0.20800075642741075\n",
      "iter: 48\n",
      "The L2 error:  0.14655373645916633\n",
      "iter: 49\n",
      "The L2 error:  0.17634315399018838\n",
      "iter: 50\n",
      "The L2 error:  0.15791060973648122\n",
      "iter: 51\n",
      "The L2 error:  0.22118750570854437\n",
      "iter: 52\n",
      "The L2 error:  0.23393908080990722\n",
      "iter: 53\n",
      "The L2 error:  0.16650840406937079\n",
      "iter: 54\n",
      "The L2 error:  0.1776256479743403\n",
      "iter: 55\n",
      "The L2 error:  0.2178856438191386\n",
      "iter: 56\n",
      "The L2 error:  0.1618189035702664\n",
      "iter: 57\n",
      "The L2 error:  0.2262714749120405\n",
      "iter: 58\n",
      "The L2 error:  0.17359371223503128\n",
      "iter: 59\n",
      "The L2 error:  0.17994376715892638\n",
      "iter: 60\n",
      "The L2 error:  0.2543579161723977\n",
      "iter: 61\n",
      "The L2 error:  0.17566660125567984\n",
      "iter: 62\n",
      "The L2 error:  0.22576132854026856\n",
      "iter: 63\n",
      "The L2 error:  0.2054616494904452\n",
      "iter: 64\n",
      "The L2 error:  0.20515638654454177\n",
      "iter: 65\n",
      "The L2 error:  0.17760794122565282\n",
      "iter: 66\n",
      "The L2 error:  0.20889061648503104\n",
      "iter: 67\n",
      "The L2 error:  0.14589527300534633\n",
      "iter: 68\n",
      "The L2 error:  0.16918699399896045\n",
      "iter: 69\n",
      "The L2 error:  0.22038754635051164\n",
      "iter: 70\n",
      "The L2 error:  0.19384302867594616\n",
      "iter: 71\n",
      "The L2 error:  0.1920691848355394\n",
      "iter: 72\n",
      "The L2 error:  0.1663537395554898\n",
      "iter: 73\n",
      "The L2 error:  0.17048532382129195\n",
      "iter: 74\n",
      "The L2 error:  0.19826808247019143\n",
      "iter: 75\n",
      "The L2 error:  0.19674958537992998\n",
      "iter: 76\n",
      "The L2 error:  0.19331618251194363\n",
      "iter: 77\n",
      "The L2 error:  0.1938780950735173\n",
      "iter: 78\n",
      "The L2 error:  0.198858596441325\n",
      "iter: 79\n",
      "The L2 error:  0.1728049354932472\n",
      "iter: 80\n",
      "The L2 error:  0.1850374737849885\n",
      "iter: 81\n",
      "The L2 error:  0.1786671410536498\n",
      "iter: 82\n",
      "The L2 error:  0.2332777941992819\n",
      "iter: 83\n",
      "The L2 error:  0.2135952573686132\n",
      "iter: 84\n",
      "The L2 error:  0.2057611547391284\n",
      "iter: 85\n",
      "The L2 error:  0.17523470449723744\n",
      "iter: 86\n",
      "The L2 error:  0.19120608211854126\n",
      "iter: 87\n",
      "The L2 error:  0.20524147877558158\n",
      "iter: 88\n",
      "The L2 error:  0.21852433809197722\n",
      "iter: 89\n",
      "The L2 error:  0.18518173876541524\n",
      "iter: 90\n",
      "The L2 error:  0.1612697362860463\n",
      "iter: 91\n",
      "The L2 error:  0.18050723329838422\n",
      "iter: 92\n",
      "The L2 error:  0.21350161122277211\n",
      "iter: 93\n",
      "The L2 error:  0.1641322976295024\n",
      "iter: 94\n",
      "The L2 error:  0.20059703975306387\n",
      "iter: 95\n",
      "The L2 error:  0.16659787706076762\n",
      "iter: 96\n",
      "The L2 error:  0.18990381700394454\n",
      "iter: 97\n",
      "The L2 error:  0.2251925177039845\n",
      "iter: 98\n",
      "The L2 error:  0.1615391584816524\n",
      "iter: 99\n",
      "The L2 error:  0.14953557379258076\n"
     ]
    }
   ],
   "source": [
    "z, z_biased = exp_func(N,\n",
    "             n,\n",
    "             p, \n",
    "             Sigma_sqrt, \n",
    "             noise_sd, \n",
    "             debias_idx,\n",
    "             param_set, \n",
    "             beta_gen_nonneg, \n",
    "             solve_beta_nonneg, \n",
    "             find_v_nonneg, \n",
    "             solve_omega)"
   ]
  },
  {
   "cell_type": "markdown",
   "metadata": {},
   "source": [
    "#### Compare the mean of the (debiased_beta - beta) and (non-debiased_beta - beta)"
   ]
  },
  {
   "cell_type": "code",
   "execution_count": 69,
   "metadata": {},
   "outputs": [
    {
     "name": "stdout",
     "output_type": "stream",
     "text": [
      "The mean of (non_debiased_beta - beta) is:  -0.15231742503629703\n"
     ]
    }
   ],
   "source": [
    "mean_non_debiased = np.mean(z_biased)\n",
    "print(\"The mean of (non_debiased_beta - beta) is: \", mean_non_debiased)"
   ]
  },
  {
   "cell_type": "code",
   "execution_count": 70,
   "metadata": {},
   "outputs": [
    {
     "name": "stdout",
     "output_type": "stream",
     "text": [
      "The mean of (debiased_beta - beta) is:  0.056692927477771535\n"
     ]
    }
   ],
   "source": [
    "mean_debiased = np.mean(np.array(z))\n",
    "print(\"The mean of (debiased_beta - beta) is: \", mean_debiased)"
   ]
  },
  {
   "cell_type": "markdown",
   "metadata": {},
   "source": [
    "#### Check if the (debiased_beta - beta) and (non-debiased_beta - beta) is standard normal"
   ]
  },
  {
   "cell_type": "code",
   "execution_count": 71,
   "metadata": {},
   "outputs": [
    {
     "data": {
      "image/png": "[encoded data removed]",
      "text/plain": [
       "<Figure size 432x288 with 1 Axes>"
      ]
     },
     "metadata": {
      "needs_background": "light"
     },
     "output_type": "display_data"
    }
   ],
   "source": [
    "# non-debiased\n",
    "fig = plt.figure()\n",
    "ax = fig.add_subplot()\n",
    "res = stats.probplot(z_biased, plot=ax)\n",
    "plt.show()"
   ]
  },
  {
   "cell_type": "code",
   "execution_count": 72,
   "metadata": {},
   "outputs": [
    {
     "data": {
      "image/png": "[encoded data removed]",
      "text/plain": [
       "<Figure size 432x288 with 1 Axes>"
      ]
     },
     "metadata": {
      "needs_background": "light"
     },
     "output_type": "display_data"
    }
   ],
   "source": [
    "# debiased\n",
    "fig = plt.figure()\n",
    "ax = fig.add_subplot()\n",
    "res = stats.probplot(z, plot=ax)\n",
    "plt.show()"
   ]
  },
  {
   "cell_type": "markdown",
   "metadata": {},
   "source": [
    "#### Save the simulation results"
   ]
  },
  {
   "cell_type": "code",
   "execution_count": 73,
   "metadata": {},
   "outputs": [],
   "source": [
    "np.save('/Users/yufei/Documents/2-CMU/DebiasingCvxConstrained/ExpResults/NonNeg/ar1_z_biased.npy', z_biased)\n",
    "np.save('/Users/yufei/Documents/2-CMU/DebiasingCvxConstrained/ExpResults/NonNeg/ar1_z.npy', z)"
   ]
  },
  {
   "cell_type": "code",
   "execution_count": null,
   "metadata": {},
   "outputs": [],
   "source": []
  }
 ],
 "metadata": {
  "kernelspec": {
   "display_name": "Python 3",
   "language": "python",
   "name": "python3"
  },
  "language_info": {
   "codemirror_mode": {
    "name": "ipython",
    "version": 3
   },
   "file_extension": ".py",
   "mimetype": "text/x-python",
   "name": "python",
   "nbconvert_exporter": "python",
   "pygments_lexer": "ipython3",
   "version": "3.8.6"
  }
 },
 "nbformat": 4,
 "nbformat_minor": 4
}
