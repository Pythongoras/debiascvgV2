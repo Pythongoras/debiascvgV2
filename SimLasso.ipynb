{
 "cells": [
  {
   "cell_type": "code",
   "execution_count": 2,
   "metadata": {},
   "outputs": [],
   "source": [
    "import os\n",
    "os.chdir('/Users/yufei/Documents/2-CMU/DebiasingCvxConstrained/Code/Library')\n",
    "\n",
    "from math import log\n",
    "import numpy as np\n",
    "\n",
    "from scipy import stats\n",
    "\n",
    "import matplotlib.pyplot as plt\n",
    "\n",
    "from ExperimentFunc import exp_func, beta_gen_lasso\n",
    "from Step1 import solve_beta_lasso\n",
    "from Step2 import find_v_lasso\n",
    "from Step3 import solve_omega, gw_l1, proj_l1_tan_cone, proj_l1_neg_tan_cone\n",
    "\n",
    "from collections import namedtuple\n",
    "\n",
    "from copy import deepcopy"
   ]
  },
  {
   "cell_type": "code",
   "execution_count": 3,
   "metadata": {},
   "outputs": [],
   "source": [
    "Params = namedtuple('Params', ['step1', 'step2', 'step3'])"
   ]
  },
  {
   "cell_type": "markdown",
   "metadata": {},
   "source": [
    "### <span style=\"color:purple\">1) Cov(X) = I</span>"
   ]
  },
  {
   "cell_type": "code",
   "execution_count": 4,
   "metadata": {},
   "outputs": [],
   "source": [
    "N = 100\n",
    "n = 1000\n",
    "p = 1000\n",
    "Sigma_sqrt = np.eye(p)\n",
    "noise_sd = 9\n",
    "debias_idx = p - 1\n",
    "\n",
    "cardi = 0.005\n",
    "l1_bound = p*cardi  \n",
    "\n",
    "param_set = Params([l1_bound], \n",
    "                   [l1_bound], \n",
    "                   [gw_l1, proj_l1_tan_cone, proj_l1_neg_tan_cone])"
   ]
  },
  {
   "cell_type": "code",
   "execution_count": 5,
   "metadata": {
    "scrolled": true
   },
   "outputs": [],
   "source": [
    "z, z_biased = exp_func(N,\n",
    "             n,\n",
    "             p, \n",
    "             Sigma_sqrt, \n",
    "             noise_sd, \n",
    "             debias_idx,\n",
    "             param_set, \n",
    "             beta_gen_lasso, \n",
    "             solve_beta_lasso, \n",
    "             find_v_lasso, \n",
    "             solve_omega)"
   ]
  },
  {
   "cell_type": "markdown",
   "metadata": {},
   "source": [
    "#### Compare the mean of the (debiased_beta - beta) and (non-debiased_beta - beta)"
   ]
  },
  {
   "cell_type": "code",
   "execution_count": 6,
   "metadata": {},
   "outputs": [],
   "source": [
    "mean_non_debiased = np.mean(z_biased)\n",
    "print(\"The mean of (non_debiased_beta - beta) is: \", mean_non_debiased)"
   ]
  },
  {
   "cell_type": "code",
   "execution_count": 7,
   "metadata": {},
   "outputs": [],
   "source": [
    "mean_debiased = np.mean(np.array(z))\n",
    "print(\"The mean of (debiased_beta - beta) is: \", mean_debiased)"
   ]
  },
  {
   "cell_type": "markdown",
   "metadata": {},
   "source": [
    "#### Check if the (debiased_beta - beta) and (non-debiased_beta - beta) is standard normal"
   ]
  },
  {
   "cell_type": "code",
   "execution_count": 8,
   "metadata": {},
   "outputs": [],
   "source": [
    "# non-debiased\n",
    "fig = plt.figure()\n",
    "ax = fig.add_subplot()\n",
    "res = stats.probplot(z_biased, plot=ax)\n",
    "plt.show()"
   ]
  },
  {
   "cell_type": "code",
   "execution_count": 9,
   "metadata": {},
   "outputs": [],
   "source": [
    "# debiased\n",
    "fig = plt.figure()\n",
    "ax = fig.add_subplot()\n",
    "res = stats.probplot(z, plot=ax)\n",
    "plt.show()"
   ]
  },
  {
   "cell_type": "markdown",
   "metadata": {},
   "source": [
    "#### Save simulation results"
   ]
  },
  {
   "cell_type": "code",
   "execution_count": 12,
   "metadata": {},
   "outputs": [],
   "source": [
    "np.save('/Users/yufei/Documents/2-CMU/DebiasingCvxConstrained/ExpResults/Lasso/identity_z_biased.npy', z_biased)\n",
    "np.save('/Users/yufei/Documents/2-CMU/DebiasingCvxConstrained/ExpResults/Lasso/identity_z.npy', z)"
   ]
  },
  {
   "cell_type": "markdown",
   "metadata": {},
   "source": [
    "###  <span style=\"color:purple\">2) Cov(X) with bounded eigenvalues</span>"
   ]
  },
  {
   "cell_type": "code",
   "execution_count": 13,
   "metadata": {},
   "outputs": [],
   "source": [
    "# other parameters are the same as cov=I case\n",
    "\n",
    "# Generate a cov matrix with bounded eigenvalues\n",
    "# generate eigenvalues\n",
    "cov_eigv = np.random.uniform(low = 0.5, high = 3.0, size = (p,))\n",
    "D_sqrt = np.diag(cov_eigv**0.5)\n",
    "# generate an orthonormal matrix\n",
    "a = np.random.normal(size = (p,p))\n",
    "u, s, vh = np.linalg.svd(a.T@a, full_matrices=True)\n",
    "# generate the square root of cov matrix \n",
    "Sigma_sqrt = D_sqrt @ u.T"
   ]
  },
  {
   "cell_type": "code",
   "execution_count": 14,
   "metadata": {},
   "outputs": [
    {
     "name": "stdout",
     "output_type": "stream",
     "text": [
      "iter: 0\n",
      "The L2 error:  1.3962876226310679\n",
      "iter: 1\n",
      "The L2 error:  1.6212450931691846\n",
      "iter: 2\n",
      "The L2 error:  2.0616743380411924\n",
      "iter: 3\n",
      "The L2 error:  1.5616911140707654\n",
      "iter: 4\n",
      "The L2 error:  1.8082677891618741\n",
      "iter: 5\n",
      "The L2 error:  1.7406434035660443\n",
      "iter: 6\n",
      "The L2 error:  1.8438038521754558\n",
      "iter: 7\n",
      "The L2 error:  1.314664899672138\n",
      "iter: 8\n",
      "The L2 error:  1.8148460920957707\n",
      "iter: 9\n",
      "The L2 error:  1.519984447714861\n",
      "iter: 10\n",
      "The L2 error:  1.9547900423392612\n",
      "iter: 11\n",
      "The L2 error:  1.994564020477562\n",
      "iter: 12\n",
      "The L2 error:  1.2373164912321177\n",
      "iter: 13\n",
      "The L2 error:  2.1575959158303024\n",
      "iter: 14\n",
      "The L2 error:  1.7224620485742632\n",
      "iter: 15\n",
      "The L2 error:  1.6518950872393625\n",
      "iter: 16\n",
      "The L2 error:  1.6408013397132837\n",
      "iter: 17\n",
      "The L2 error:  2.086708087580271\n",
      "iter: 18\n",
      "The L2 error:  1.4507243116272948\n",
      "iter: 19\n",
      "The L2 error:  1.5699433813574555\n",
      "iter: 20\n",
      "The L2 error:  1.7705919949360067\n",
      "iter: 21\n",
      "The L2 error:  1.841979893635449\n",
      "iter: 22\n",
      "The L2 error:  2.0059532934806894\n",
      "iter: 23\n",
      "The L2 error:  1.1912151196750287\n",
      "iter: 24\n",
      "The L2 error:  1.7293270093642792\n",
      "iter: 25\n",
      "The L2 error:  2.402404746247627\n",
      "iter: 26\n",
      "The L2 error:  1.698928361746332\n",
      "iter: 27\n",
      "The L2 error:  1.767478779006288\n",
      "iter: 28\n",
      "The L2 error:  1.4268300480848755\n",
      "iter: 29\n",
      "The L2 error:  1.5815115082636675\n",
      "iter: 30\n",
      "The L2 error:  1.828023755373177\n",
      "iter: 31\n",
      "The L2 error:  1.806765729599805\n",
      "iter: 32\n",
      "The L2 error:  1.367939899913461\n",
      "iter: 33\n",
      "The L2 error:  2.061954477928445\n",
      "iter: 34\n",
      "The L2 error:  1.4670370267147188\n",
      "iter: 35\n",
      "The L2 error:  1.5108908199826823\n",
      "iter: 36\n",
      "The L2 error:  1.5157640090813556\n",
      "iter: 37\n",
      "The L2 error:  1.9433183373315104\n",
      "iter: 38\n",
      "The L2 error:  1.8500642343276632\n",
      "iter: 39\n",
      "The L2 error:  2.0972047456282095\n",
      "iter: 40\n",
      "The L2 error:  1.2860163266470064\n",
      "iter: 41\n",
      "The L2 error:  1.7052327723157612\n",
      "iter: 42\n",
      "The L2 error:  1.0674076888663586\n",
      "iter: 43\n",
      "The L2 error:  1.9211825285593782\n",
      "iter: 44\n",
      "The L2 error:  2.0276936547265425\n",
      "iter: 45\n",
      "The L2 error:  1.2141321759973172\n",
      "iter: 46\n",
      "The L2 error:  1.9673109183572826\n",
      "iter: 47\n",
      "The L2 error:  1.0281370382929134\n",
      "iter: 48\n",
      "The L2 error:  2.043539325137044\n",
      "iter: 49\n",
      "The L2 error:  1.5422337188794555\n",
      "iter: 50\n",
      "The L2 error:  1.9818975904217235\n",
      "iter: 51\n",
      "The L2 error:  2.1102355838198554\n",
      "iter: 52\n",
      "The L2 error:  1.2995617625792877\n",
      "iter: 53\n",
      "The L2 error:  1.4009236063013921\n",
      "iter: 54\n",
      "The L2 error:  1.461729687237456\n",
      "iter: 55\n",
      "The L2 error:  1.8922021928462882\n",
      "iter: 56\n",
      "The L2 error:  1.4542203907257734\n",
      "iter: 57\n",
      "The L2 error:  1.795365841400416\n",
      "iter: 58\n",
      "The L2 error:  1.1360240770708356\n",
      "iter: 59\n",
      "The L2 error:  1.7708485955539215\n",
      "iter: 60\n",
      "The L2 error:  1.770808653711068\n",
      "iter: 61\n",
      "The L2 error:  1.7141829316926132\n",
      "iter: 62\n",
      "The L2 error:  1.4481938112398265\n",
      "iter: 63\n",
      "The L2 error:  1.8119043658038467\n",
      "iter: 64\n",
      "The L2 error:  1.5163103184513684\n",
      "iter: 65\n",
      "The L2 error:  1.468851533539015\n",
      "iter: 66\n",
      "The L2 error:  1.2224803664051096\n",
      "iter: 67\n",
      "The L2 error:  1.8081472432176748\n",
      "iter: 68\n",
      "The L2 error:  1.6645409311612347\n",
      "iter: 69\n",
      "The L2 error:  1.996279541191676\n",
      "iter: 70\n",
      "The L2 error:  1.6378420700696237\n",
      "iter: 71\n",
      "The L2 error:  1.9798955867910055\n",
      "iter: 72\n",
      "The L2 error:  1.5055921724501626\n",
      "iter: 73\n",
      "The L2 error:  1.6346078025153927\n",
      "iter: 74\n",
      "The L2 error:  1.83739052175347\n",
      "iter: 75\n",
      "The L2 error:  1.5972285373542745\n",
      "iter: 76\n",
      "The L2 error:  2.303766289618929\n",
      "iter: 77\n",
      "The L2 error:  1.7535130193362949\n",
      "iter: 78\n",
      "The L2 error:  1.058990348860513\n",
      "iter: 79\n",
      "The L2 error:  1.181346872645676\n",
      "iter: 80\n",
      "The L2 error:  0.939502389263943\n",
      "iter: 81\n",
      "The L2 error:  1.6372074743238763\n",
      "iter: 82\n",
      "The L2 error:  1.7842799451301012\n",
      "iter: 83\n",
      "The L2 error:  1.7767862223542565\n",
      "iter: 84\n",
      "The L2 error:  1.7830138829323445\n",
      "iter: 85\n",
      "The L2 error:  1.622700842371491\n",
      "iter: 86\n",
      "The L2 error:  1.8666451688926338\n",
      "iter: 87\n",
      "The L2 error:  2.1254768179003474\n",
      "iter: 88\n",
      "The L2 error:  2.2599193913326547\n",
      "iter: 89\n",
      "The L2 error:  0.9951423996228965\n",
      "iter: 90\n",
      "The L2 error:  1.5174953960634834\n",
      "iter: 91\n",
      "The L2 error:  2.019479899724529\n",
      "iter: 92\n",
      "The L2 error:  1.688694091121861\n",
      "iter: 93\n",
      "The L2 error:  1.7404302757487198\n",
      "iter: 94\n",
      "The L2 error:  1.5519815808926947\n",
      "iter: 95\n",
      "The L2 error:  1.8285456971771727\n",
      "iter: 96\n",
      "The L2 error:  1.4459528993830097\n",
      "iter: 97\n",
      "The L2 error:  2.0899297222648623\n",
      "iter: 98\n",
      "The L2 error:  1.7891909925957006\n",
      "iter: 99\n",
      "The L2 error:  2.1656241589092944\n"
     ]
    }
   ],
   "source": [
    "z, z_biased = exp_func(N,\n",
    "             n,\n",
    "             p, \n",
    "             Sigma_sqrt, \n",
    "             noise_sd, \n",
    "             debias_idx,\n",
    "             param_set, \n",
    "             beta_gen_lasso, \n",
    "             solve_beta_lasso, \n",
    "             find_v_lasso, \n",
    "             solve_omega)"
   ]
  },
  {
   "cell_type": "markdown",
   "metadata": {},
   "source": [
    "#### Compare the mean of the (debiased_beta - beta) and (non-debiased_beta - beta)"
   ]
  },
  {
   "cell_type": "code",
   "execution_count": 15,
   "metadata": {},
   "outputs": [
    {
     "name": "stdout",
     "output_type": "stream",
     "text": [
      "The mean of (non_debiased_beta - beta) is:  1.249862413704363\n"
     ]
    }
   ],
   "source": [
    "mean_non_debiased = np.mean(z_biased)\n",
    "print(\"The mean of (non_debiased_beta - beta) is: \", mean_non_debiased)"
   ]
  },
  {
   "cell_type": "code",
   "execution_count": 16,
   "metadata": {},
   "outputs": [
    {
     "name": "stdout",
     "output_type": "stream",
     "text": [
      "The mean of (debiased_beta - beta) is:  0.0832232017251741\n"
     ]
    }
   ],
   "source": [
    "mean_debiased = np.mean(np.array(z))\n",
    "print(\"The mean of (debiased_beta - beta) is: \", mean_debiased)"
   ]
  },
  {
   "cell_type": "markdown",
   "metadata": {},
   "source": [
    "#### Check if the (debiased_beta - beta) and (non-debiased_beta - beta) is standard normal"
   ]
  },
  {
   "cell_type": "code",
   "execution_count": 17,
   "metadata": {},
   "outputs": [
    {
     "data": {
      "image/png": "[encoded data removed]",
      "text/plain": [
       "<Figure size 432x288 with 1 Axes>"
      ]
     },
     "metadata": {
      "needs_background": "light"
     },
     "output_type": "display_data"
    }
   ],
   "source": [
    "# non-debiased\n",
    "fig = plt.figure()\n",
    "ax = fig.add_subplot()\n",
    "res = stats.probplot(z_biased, plot=ax)\n",
    "plt.show()"
   ]
  },
  {
   "cell_type": "code",
   "execution_count": 18,
   "metadata": {},
   "outputs": [
    {
     "data": {
      "image/png": "[encoded data removed]",
      "text/plain": [
       "<Figure size 432x288 with 1 Axes>"
      ]
     },
     "metadata": {
      "needs_background": "light"
     },
     "output_type": "display_data"
    }
   ],
   "source": [
    "# debiased\n",
    "fig = plt.figure()\n",
    "ax = fig.add_subplot()\n",
    "res = stats.probplot(z, plot=ax)\n",
    "plt.show()"
   ]
  },
  {
   "cell_type": "markdown",
   "metadata": {},
   "source": [
    "#### Save the simulation results"
   ]
  },
  {
   "cell_type": "code",
   "execution_count": 19,
   "metadata": {},
   "outputs": [],
   "source": [
    "np.save('/Users/yufei/Documents/2-CMU/DebiasingCvxConstrained/ExpResults/Lasso/bddeig_z_biased.npy', z_biased)\n",
    "np.save('/Users/yufei/Documents/2-CMU/DebiasingCvxConstrained/ExpResults/Lasso/bddeig_z.npy', z)"
   ]
  },
  {
   "cell_type": "markdown",
   "metadata": {},
   "source": [
    "### <span style = 'color:purple'>3) Cov(X) is the Cov of AR(1) Process</span>"
   ]
  },
  {
   "cell_type": "code",
   "execution_count": 30,
   "metadata": {},
   "outputs": [],
   "source": [
    "# other parameters are the same as cov=I case\n",
    "\n",
    "# Generate the squar root of cov matrix\n",
    "rho = 0.4\n",
    "rho_vec = []\n",
    "for i in range(p):\n",
    "    rho_vec.append(rho**i)\n",
    "rho_vec = np.array(rho_vec)\n",
    "# The cholesky decomposition of cov == the squar root of cov\n",
    "Sigma_sqrt = [rho_vec]\n",
    "for i in range(1, p):\n",
    "    rho_vec_shifted = np.concatenate((np.zeros(i), rho_vec[:-i]))\n",
    "#     print(rho_vec_shifted)\n",
    "    Sigma_sqrt.append(rho_vec_shifted * (1-rho**2)**0.5)\n",
    "Sigma_sqrt = np.array(Sigma_sqrt)"
   ]
  },
  {
   "cell_type": "code",
   "execution_count": 31,
   "metadata": {
    "scrolled": true
   },
   "outputs": [
    {
     "name": "stdout",
     "output_type": "stream",
     "text": [
      "iter: 0\n",
      "The L2 error:  1.4151736825231735\n",
      "iter: 1\n",
      "The L2 error:  1.8331771773426064\n",
      "iter: 2\n",
      "The L2 error:  1.2564311675095525\n",
      "iter: 3\n",
      "The L2 error:  1.8777349428503398\n",
      "iter: 4\n",
      "The L2 error:  2.8526094483653446\n",
      "iter: 5\n",
      "The L2 error:  1.9689362063916973\n",
      "iter: 6\n",
      "The L2 error:  2.6821384574948937\n",
      "iter: 7\n",
      "The L2 error:  2.3361853453716295\n",
      "iter: 8\n",
      "The L2 error:  1.6417682597128638\n",
      "iter: 9\n",
      "The L2 error:  1.8273035112385507\n",
      "iter: 10\n",
      "The L2 error:  2.0094478905334965\n",
      "iter: 11\n",
      "The L2 error:  1.6340343337688603\n",
      "iter: 12\n",
      "The L2 error:  0.5331240279874784\n",
      "iter: 13\n",
      "The L2 error:  1.618860827657588\n",
      "iter: 14\n",
      "The L2 error:  1.4934864517786628\n",
      "iter: 15\n",
      "The L2 error:  2.6704601506769032\n",
      "iter: 16\n",
      "The L2 error:  2.3826547743567916\n",
      "iter: 17\n",
      "The L2 error:  1.544282918935122\n",
      "iter: 18\n",
      "The L2 error:  1.2190791789958304\n",
      "iter: 19\n",
      "The L2 error:  1.4560017790603321\n",
      "iter: 20\n",
      "The L2 error:  1.8865079912423361\n",
      "iter: 21\n",
      "The L2 error:  1.5695258914043817\n",
      "iter: 22\n",
      "The L2 error:  1.5340317418026732\n",
      "iter: 23\n",
      "The L2 error:  1.8797958968927664\n",
      "iter: 24\n",
      "The L2 error:  2.0700781697185673\n",
      "iter: 25\n",
      "The L2 error:  0.698577986451315\n",
      "iter: 26\n",
      "The L2 error:  1.844476551738138\n",
      "iter: 27\n",
      "The L2 error:  1.6071442502804014\n",
      "iter: 28\n",
      "The L2 error:  1.6876883701264649\n",
      "iter: 29\n",
      "The L2 error:  1.7844172994238918\n"
     ]
    }
   ],
   "source": [
    "z, z_biased = exp_func(N,\n",
    "             n,\n",
    "             p, \n",
    "             Sigma_sqrt, \n",
    "             noise_sd, \n",
    "             debias_idx,\n",
    "             param_set, \n",
    "             beta_gen_lasso, \n",
    "             solve_beta_lasso, \n",
    "             find_v_lasso, \n",
    "             solve_omega)"
   ]
  },
  {
   "cell_type": "markdown",
   "metadata": {},
   "source": [
    "#### Compare the mean of the (debiased_beta - beta) and (non-debiased_beta - beta)"
   ]
  },
  {
   "cell_type": "code",
   "execution_count": 32,
   "metadata": {},
   "outputs": [
    {
     "name": "stdout",
     "output_type": "stream",
     "text": [
      "The mean of (non_debiased_beta - beta) is:  0.504885491458776\n"
     ]
    }
   ],
   "source": [
    "mean_non_debiased = np.mean(z_biased)\n",
    "print(\"The mean of (non_debiased_beta - beta) is: \", mean_non_debiased)"
   ]
  },
  {
   "cell_type": "code",
   "execution_count": 33,
   "metadata": {},
   "outputs": [
    {
     "name": "stdout",
     "output_type": "stream",
     "text": [
      "The mean of (debiased_beta - beta) is:  -0.06248970186385651\n"
     ]
    }
   ],
   "source": [
    "mean_debiased = np.mean(np.array(z))\n",
    "print(\"The mean of (debiased_beta - beta) is: \", mean_debiased)"
   ]
  },
  {
   "cell_type": "markdown",
   "metadata": {},
   "source": [
    "#### Check if the (debiased_beta - beta) and (non-debiased_beta - beta) is standard normal"
   ]
  },
  {
   "cell_type": "code",
   "execution_count": 34,
   "metadata": {},
   "outputs": [
    {
     "data": {
      "image/png": "[encoded data removed]",
      "text/plain": [
       "<Figure size 432x288 with 1 Axes>"
      ]
     },
     "metadata": {
      "needs_background": "light"
     },
     "output_type": "display_data"
    }
   ],
   "source": [
    "# non-debiased\n",
    "fig = plt.figure()\n",
    "ax = fig.add_subplot()\n",
    "res = stats.probplot(z_biased, plot=ax)\n",
    "plt.show()"
   ]
  },
  {
   "cell_type": "code",
   "execution_count": 35,
   "metadata": {},
   "outputs": [
    {
     "data": {
      "image/png": "[encoded data removed]",
      "text/plain": [
       "<Figure size 432x288 with 1 Axes>"
      ]
     },
     "metadata": {
      "needs_background": "light"
     },
     "output_type": "display_data"
    }
   ],
   "source": [
    "# debiased\n",
    "fig = plt.figure()\n",
    "ax = fig.add_subplot()\n",
    "res = stats.probplot(z, plot=ax)\n",
    "plt.show()"
   ]
  },
  {
   "cell_type": "markdown",
   "metadata": {},
   "source": [
    "#### Print out (debiased beta - beta) and (non-debiased beta - beta) "
   ]
  },
  {
   "cell_type": "code",
   "execution_count": 28,
   "metadata": {},
   "outputs": [],
   "source": [
    "np.save('/Users/yufei/Documents/2-CMU/DebiasingCvxConstrained/ExpResults/Lasso/ar1_z_biased.npy', z_biased)\n",
    "np.save('/Users/yufei/Documents/2-CMU/DebiasingCvxConstrained/ExpResults/Lasso/ar1_z.npy', z)"
   ]
  }
 ],
 "metadata": {
  "kernelspec": {
   "display_name": "Python 3",
   "language": "python",
   "name": "python3"
  },
  "language_info": {
   "codemirror_mode": {
    "name": "ipython",
    "version": 3
   },
   "file_extension": ".py",
   "mimetype": "text/x-python",
   "name": "python",
   "nbconvert_exporter": "python",
   "pygments_lexer": "ipython3",
   "version": "3.8.6"
  }
 },
 "nbformat": 4,
 "nbformat_minor": 4
}
