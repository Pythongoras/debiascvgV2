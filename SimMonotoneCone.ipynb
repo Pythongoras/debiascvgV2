{
 "cells": [
  {
   "cell_type": "code",
   "execution_count": 1,
   "metadata": {},
   "outputs": [],
   "source": [
    "import os\n",
    "os.chdir('/Users/yufei/Documents/2-CMU/DebiasingCvxConstrained/Code/Library')\n",
    "\n",
    "from ExperimentFunc import exp_func, beta_gen_mnt\n",
    "from Step1 import solve_beta_mnt\n",
    "from Step2 import find_v_mnt\n",
    "from Step3 import solve_omega, gw_mnt, proj_mnt_tan_cone, proj_mnt_neg_tan_cone\n",
    "\n",
    "from math import log\n",
    "import numpy as np\n",
    "\n",
    "from sklearn.isotonic import IsotonicRegression\n",
    "\n",
    "from scipy import linalg\n",
    "from scipy import stats\n",
    "\n",
    "from collections import namedtuple\n",
    "\n",
    "from copy import deepcopy\n",
    "\n",
    "import matplotlib.pyplot as plt"
   ]
  },
  {
   "cell_type": "code",
   "execution_count": 2,
   "metadata": {},
   "outputs": [],
   "source": [
    "Params = namedtuple('Params', ['step1', 'step2', 'step3'])"
   ]
  },
  {
   "cell_type": "markdown",
   "metadata": {},
   "source": [
    "### <span style=\"color:purple\">1) Cov(X) = I</span>"
   ]
  },
  {
   "cell_type": "code",
   "execution_count": 3,
   "metadata": {},
   "outputs": [],
   "source": [
    "N = 100\n",
    "n = 1000\n",
    "p = 1000\n",
    "Sigma_sqrt = np.eye(p)\n",
    "noise_sd = 2\n",
    "debias_idx = p - 1\n",
    "param_set = Params([False], \n",
    "                   [], \n",
    "                   [gw_mnt, proj_mnt_tan_cone, proj_mnt_neg_tan_cone])"
   ]
  },
  {
   "cell_type": "code",
   "execution_count": 4,
   "metadata": {
    "scrolled": true
   },
   "outputs": [
    {
     "name": "stdout",
     "output_type": "stream",
     "text": [
      "iter: 0\n",
      "The L2 error:  0.32787734228887533\n",
      "iter: 1\n",
      "The L2 error:  0.3229468624892355\n",
      "iter: 2\n",
      "The L2 error:  0.3269129374669108\n",
      "iter: 3\n",
      "The L2 error:  0.28255352998417177\n",
      "iter: 4\n",
      "The L2 error:  0.26691820621768825\n",
      "iter: 5\n",
      "The L2 error:  0.2250567067882002\n",
      "iter: 6\n",
      "The L2 error:  0.2670794568197983\n",
      "iter: 7\n",
      "The L2 error:  0.35362896489156515\n",
      "iter: 8\n",
      "The L2 error:  0.3958945713736108\n",
      "iter: 9\n",
      "The L2 error:  0.42647320865204413\n",
      "iter: 10\n",
      "The L2 error:  0.3407881017326648\n",
      "iter: 11\n",
      "The L2 error:  0.4063304904305318\n",
      "iter: 12\n",
      "The L2 error:  0.3396229011975067\n",
      "iter: 13\n",
      "The L2 error:  0.23845586845692493\n",
      "iter: 14\n",
      "The L2 error:  0.4524604541916802\n",
      "iter: 15\n",
      "The L2 error:  0.3176771963348152\n",
      "iter: 16\n",
      "The L2 error:  0.4733123423898565\n",
      "iter: 17\n",
      "The L2 error:  0.27889911748126894\n",
      "iter: 18\n",
      "The L2 error:  0.27951154715283827\n",
      "iter: 19\n",
      "The L2 error:  0.32132576077027675\n",
      "iter: 20\n",
      "The L2 error:  0.49972275450974774\n",
      "iter: 21\n",
      "The L2 error:  0.31795531062345556\n",
      "iter: 22\n",
      "The L2 error:  0.49968485478993785\n",
      "iter: 23\n",
      "The L2 error:  0.30289535251335953\n",
      "iter: 24\n",
      "The L2 error:  0.3561897935487631\n",
      "iter: 25\n",
      "The L2 error:  0.5136921239163134\n",
      "iter: 26\n",
      "The L2 error:  0.3269489155443765\n",
      "iter: 27\n",
      "The L2 error:  0.41217092200291267\n",
      "iter: 28\n",
      "The L2 error:  0.33388430702080024\n",
      "iter: 29\n",
      "The L2 error:  0.4114796760137142\n",
      "iter: 30\n",
      "The L2 error:  0.3337381180126256\n",
      "iter: 31\n",
      "The L2 error:  0.4079553302047204\n",
      "iter: 32\n",
      "The L2 error:  0.39874605176993405\n",
      "iter: 33\n",
      "The L2 error:  0.38161851257630963\n",
      "iter: 34\n",
      "The L2 error:  0.4225891242470047\n",
      "iter: 35\n",
      "The L2 error:  0.4291738156584378\n",
      "iter: 36\n",
      "The L2 error:  0.3445917783713615\n",
      "iter: 37\n",
      "The L2 error:  0.326147337475959\n",
      "iter: 38\n",
      "The L2 error:  0.4863758037913986\n",
      "iter: 39\n",
      "The L2 error:  0.3513861189085345\n",
      "iter: 40\n",
      "The L2 error:  0.41540924905463816\n",
      "iter: 41\n",
      "The L2 error:  0.4488856225013521\n",
      "iter: 42\n",
      "The L2 error:  0.3572237488494557\n",
      "iter: 43\n",
      "The L2 error:  0.2917543208725994\n",
      "iter: 44\n",
      "The L2 error:  0.33014738915187447\n",
      "iter: 45\n",
      "The L2 error:  0.2555099622865191\n",
      "iter: 46\n",
      "The L2 error:  0.6172830451995104\n",
      "iter: 47\n",
      "The L2 error:  0.43579580022994063\n",
      "iter: 48\n",
      "The L2 error:  0.4930189340691664\n",
      "iter: 49\n",
      "The L2 error:  0.42316728552696475\n",
      "iter: 50\n",
      "The L2 error:  0.3503131599240003\n",
      "iter: 51\n",
      "The L2 error:  0.3442246806310736\n",
      "iter: 52\n",
      "The L2 error:  0.2910236906639588\n",
      "iter: 53\n",
      "The L2 error:  0.46243075179589493\n",
      "iter: 54\n",
      "The L2 error:  0.4427452558009846\n",
      "iter: 55\n",
      "The L2 error:  0.3188745359351233\n",
      "iter: 56\n",
      "The L2 error:  0.4271471901481818\n",
      "iter: 57\n",
      "The L2 error:  0.40378091693115487\n",
      "iter: 58\n",
      "The L2 error:  0.38815802899013396\n",
      "iter: 59\n",
      "The L2 error:  0.42485228501202343\n",
      "iter: 60\n",
      "The L2 error:  0.24249643439606378\n",
      "iter: 61\n",
      "The L2 error:  0.2112926414093874\n",
      "iter: 62\n",
      "The L2 error:  0.3926615830681839\n",
      "iter: 63\n",
      "The L2 error:  0.41338413410059266\n",
      "iter: 64\n",
      "The L2 error:  0.4780222758601316\n",
      "iter: 65\n",
      "The L2 error:  0.4142738173199477\n",
      "iter: 66\n",
      "The L2 error:  0.505235855372286\n",
      "iter: 67\n",
      "The L2 error:  0.2971417550155177\n",
      "iter: 68\n",
      "The L2 error:  0.30054122506658776\n",
      "iter: 69\n",
      "The L2 error:  0.2660506496878176\n",
      "iter: 70\n",
      "The L2 error:  0.44211981838819525\n",
      "iter: 71\n",
      "The L2 error:  0.378177422106308\n",
      "iter: 72\n",
      "The L2 error:  0.5637274047956258\n",
      "iter: 73\n",
      "The L2 error:  0.3529810475613872\n",
      "iter: 74\n",
      "The L2 error:  0.3098026736707497\n",
      "iter: 75\n",
      "The L2 error:  0.5156922300314104\n",
      "iter: 76\n",
      "The L2 error:  0.4096768460434142\n",
      "iter: 77\n",
      "The L2 error:  0.48702716217987124\n",
      "iter: 78\n",
      "The L2 error:  0.48203369274062674\n",
      "iter: 79\n",
      "The L2 error:  0.4503355753240659\n",
      "iter: 80\n",
      "The L2 error:  0.3239771000065541\n",
      "iter: 81\n",
      "The L2 error:  0.37993134333965606\n",
      "iter: 82\n",
      "The L2 error:  0.27338217441969737\n",
      "iter: 83\n",
      "The L2 error:  0.21801891921589164\n",
      "iter: 84\n",
      "The L2 error:  0.27814973800668286\n",
      "iter: 85\n",
      "The L2 error:  0.5200035859252674\n",
      "iter: 86\n",
      "The L2 error:  0.4530995104781348\n",
      "iter: 87\n",
      "The L2 error:  0.37136190573754585\n",
      "iter: 88\n",
      "The L2 error:  0.3811033576298804\n",
      "iter: 89\n",
      "The L2 error:  0.38677411517550253\n",
      "iter: 90\n",
      "The L2 error:  0.2928040661353935\n",
      "iter: 91\n",
      "The L2 error:  0.39900335896622086\n",
      "iter: 92\n",
      "The L2 error:  0.37567982768241454\n",
      "iter: 93\n",
      "The L2 error:  0.38550718435465664\n",
      "iter: 94\n",
      "The L2 error:  0.4293210328696497\n",
      "iter: 95\n",
      "The L2 error:  0.323600177448008\n",
      "iter: 96\n",
      "The L2 error:  0.23861041115735954\n",
      "iter: 97\n",
      "The L2 error:  0.3719820943032281\n",
      "iter: 98\n",
      "The L2 error:  0.5991221375920147\n",
      "iter: 99\n",
      "The L2 error:  0.42561090837004306\n"
     ]
    }
   ],
   "source": [
    "z, z_biased = exp_func(N,\n",
    "             n,\n",
    "             p, \n",
    "             Sigma_sqrt, \n",
    "             noise_sd, \n",
    "             debias_idx,\n",
    "             param_set, \n",
    "             beta_gen_mnt, \n",
    "             solve_beta_mnt, \n",
    "             find_v_mnt, \n",
    "             solve_omega)"
   ]
  },
  {
   "cell_type": "markdown",
   "metadata": {},
   "source": [
    "#### Compare the mean of the (debiased_beta - beta) and (non-debiased_beta - beta)"
   ]
  },
  {
   "cell_type": "code",
   "execution_count": 5,
   "metadata": {},
   "outputs": [
    {
     "name": "stdout",
     "output_type": "stream",
     "text": [
      "The mean of (non_debiased_beta - beta) is:  -1.283267893560606\n"
     ]
    }
   ],
   "source": [
    "mean_non_debiased = np.mean(z_biased)\n",
    "print(\"The mean of (non_debiased_beta - beta) is: \", mean_non_debiased)"
   ]
  },
  {
   "cell_type": "code",
   "execution_count": 6,
   "metadata": {},
   "outputs": [
    {
     "name": "stdout",
     "output_type": "stream",
     "text": [
      "The mean of (debiased_beta - beta) is:  -0.10103587335993477\n"
     ]
    }
   ],
   "source": [
    "mean_debiased = np.mean(np.array(z))\n",
    "print(\"The mean of (debiased_beta - beta) is: \", mean_debiased)"
   ]
  },
  {
   "cell_type": "markdown",
   "metadata": {},
   "source": [
    "#### Check if the (debiased_beta - beta) and (non-debiased_beta - beta) is standard normal"
   ]
  },
  {
   "cell_type": "code",
   "execution_count": 7,
   "metadata": {},
   "outputs": [
    {
     "data": {
      "image/png": "[encoded data removed]",
      "text/plain": [
       "<Figure size 432x288 with 1 Axes>"
      ]
     },
     "metadata": {
      "needs_background": "light"
     },
     "output_type": "display_data"
    }
   ],
   "source": [
    "# non-debiased\n",
    "fig = plt.figure()\n",
    "ax = fig.add_subplot()\n",
    "res = stats.probplot(z_biased, plot=ax)\n",
    "plt.show()"
   ]
  },
  {
   "cell_type": "code",
   "execution_count": 8,
   "metadata": {
    "scrolled": true
   },
   "outputs": [
    {
     "data": {
      "image/png": "[encoded data removed]",
      "text/plain": [
       "<Figure size 432x288 with 1 Axes>"
      ]
     },
     "metadata": {
      "needs_background": "light"
     },
     "output_type": "display_data"
    }
   ],
   "source": [
    "# debiased\n",
    "fig = plt.figure()\n",
    "ax = fig.add_subplot()\n",
    "res = stats.probplot(z, plot=ax)\n",
    "plt.show()"
   ]
  },
  {
   "cell_type": "markdown",
   "metadata": {},
   "source": [
    "#### Save the simulation results"
   ]
  },
  {
   "cell_type": "code",
   "execution_count": 24,
   "metadata": {},
   "outputs": [],
   "source": [
    "np.save('/Users/yufei/Documents/2-CMU/DebiasingCvxConstrained/ExpResults/MonotoneCone/identity_z_biased.npy', z_biased)\n",
    "np.save('/Users/yufei/Documents/2-CMU/DebiasingCvxConstrained/ExpResults/MonotoneCone/identity_z.npy', z)"
   ]
  },
  {
   "cell_type": "markdown",
   "metadata": {},
   "source": [
    "###  <span style=\"color:purple\">2) Cov(X) with bounded eigenvalues</span>"
   ]
  },
  {
   "cell_type": "code",
   "execution_count": 25,
   "metadata": {},
   "outputs": [],
   "source": [
    "N = 100\n",
    "n = 100\n",
    "p = 100\n",
    "\n",
    "# Generate a cov matrix with bounded eigenvalues\n",
    "# generate eigenvalues\n",
    "cov_eigv = np.random.uniform(low = 0.3, high = 3.0, size = (p,))\n",
    "D_sqrt = np.diag(cov_eigv**0.5)\n",
    "# generate an orthonormal matrix\n",
    "a = np.random.normal(size = (p,p))\n",
    "u, s, vh = np.linalg.svd(a.T@a, full_matrices=True)\n",
    "# generate the square root of cov matrix \n",
    "Sigma_sqrt = D_sqrt @ u.T\n",
    "\n",
    "noise_sd = 2\n",
    "debias_idx = p - 1\n",
    "param_set = Params([False], \n",
    "                   [], \n",
    "                   [gw_mnt, proj_mnt_tan_cone, proj_mnt_neg_tan_cone])"
   ]
  },
  {
   "cell_type": "code",
   "execution_count": 26,
   "metadata": {
    "scrolled": true
   },
   "outputs": [
    {
     "name": "stdout",
     "output_type": "stream",
     "text": [
      "iter: 0\n",
      "The L2 error:  1.031340529919417\n",
      "iter: 1\n",
      "The L2 error:  0.6427293713842692\n",
      "iter: 2\n",
      "The L2 error:  1.1863773721519917\n",
      "iter: 3\n",
      "The L2 error:  0.2100372515690627\n",
      "iter: 4\n",
      "The L2 error:  0.6993548547819907\n",
      "iter: 5\n",
      "The L2 error:  0.7992486654869984\n",
      "iter: 6\n",
      "The L2 error:  0.4389695298249038\n",
      "iter: 7\n",
      "The L2 error:  0.5705303603307218\n",
      "iter: 8\n",
      "The L2 error:  0.6733128803993516\n",
      "iter: 9\n",
      "The L2 error:  1.0317859390325341\n",
      "iter: 10\n",
      "The L2 error:  0.7164923030988688\n",
      "iter: 11\n",
      "The L2 error:  0.5660190564982541\n",
      "iter: 12\n",
      "The L2 error:  0.6771772752461022\n",
      "iter: 13\n",
      "The L2 error:  0.5385664317481336\n",
      "iter: 14\n",
      "The L2 error:  0.4079166291568696\n",
      "iter: 15\n",
      "The L2 error:  1.100450501447478\n",
      "iter: 16\n",
      "The L2 error:  0.41431674454542206\n",
      "iter: 17\n",
      "The L2 error:  1.1561082074206823\n",
      "iter: 18\n",
      "The L2 error:  1.2586135612193714\n",
      "iter: 19\n",
      "The L2 error:  0.4556282696897666\n",
      "iter: 20\n",
      "The L2 error:  1.215311818464768\n",
      "iter: 21\n",
      "The L2 error:  0.8581105866749928\n",
      "iter: 22\n",
      "The L2 error:  0.4220599431928323\n",
      "iter: 23\n",
      "The L2 error:  1.0358382852058268\n",
      "iter: 24\n",
      "The L2 error:  0.3801524839697637\n",
      "iter: 25\n",
      "The L2 error:  1.0573621660073986\n",
      "iter: 26\n",
      "The L2 error:  0.6769035111468685\n",
      "iter: 27\n",
      "The L2 error:  1.4269130849836738\n",
      "iter: 28\n",
      "The L2 error:  0.7423431354919355\n",
      "iter: 29\n",
      "The L2 error:  0.6353039290948725\n",
      "iter: 30\n",
      "The L2 error:  0.6906164281216122\n",
      "iter: 31\n",
      "The L2 error:  0.8938849288019597\n",
      "iter: 32\n",
      "The L2 error:  0.7651507699370033\n",
      "iter: 33\n",
      "The L2 error:  0.49006618426951465\n",
      "iter: 34\n",
      "The L2 error:  0.41604286616188124\n",
      "iter: 35\n",
      "The L2 error:  0.48361981942451876\n",
      "iter: 36\n",
      "The L2 error:  0.8493324780098529\n",
      "iter: 37\n",
      "The L2 error:  0.588554661310011\n",
      "iter: 38\n",
      "The L2 error:  0.38907502218332335\n",
      "iter: 39\n",
      "The L2 error:  0.8831417623227513\n",
      "iter: 40\n",
      "The L2 error:  0.6843174017078038\n",
      "iter: 41\n",
      "The L2 error:  0.4650935858602699\n",
      "iter: 42\n",
      "The L2 error:  0.6313715818921327\n",
      "iter: 43\n",
      "The L2 error:  0.8174830448054857\n",
      "iter: 44\n",
      "The L2 error:  0.5669784783886145\n",
      "iter: 45\n",
      "The L2 error:  1.0418733714231232\n",
      "iter: 46\n",
      "The L2 error:  1.1306570968032814\n",
      "iter: 47\n",
      "The L2 error:  0.6504491789849514\n",
      "iter: 48\n",
      "The L2 error:  1.0564613156831693\n",
      "iter: 49\n",
      "The L2 error:  0.7922598079686127\n",
      "iter: 50\n",
      "The L2 error:  1.3311878788480243\n",
      "iter: 51\n",
      "The L2 error:  0.5227502086816946\n",
      "iter: 52\n",
      "The L2 error:  0.6885524633609633\n",
      "iter: 53\n",
      "The L2 error:  0.45846783617474235\n",
      "iter: 54\n",
      "The L2 error:  0.7931545820542709\n",
      "iter: 55\n",
      "The L2 error:  0.86290085947526\n",
      "iter: 56\n",
      "The L2 error:  0.8549798104046035\n",
      "iter: 57\n",
      "The L2 error:  0.7875356018874773\n",
      "iter: 58\n",
      "The L2 error:  1.096747771932928\n",
      "iter: 59\n",
      "The L2 error:  0.8708756300315504\n",
      "iter: 60\n",
      "The L2 error:  0.5013234282253481\n",
      "iter: 61\n",
      "The L2 error:  0.9833721407512077\n",
      "iter: 62\n",
      "The L2 error:  0.7863295579179653\n",
      "iter: 63\n",
      "The L2 error:  1.2535282396834446\n",
      "iter: 64\n",
      "The L2 error:  0.6427151350687874\n",
      "iter: 65\n",
      "The L2 error:  0.48902857265531813\n",
      "iter: 66\n",
      "The L2 error:  0.815717799965294\n",
      "iter: 67\n",
      "The L2 error:  0.9605202704600997\n",
      "iter: 68\n",
      "The L2 error:  0.8749101185388864\n",
      "iter: 69\n",
      "The L2 error:  1.0770233526589539\n",
      "iter: 70\n",
      "The L2 error:  0.49995188970877474\n",
      "iter: 71\n",
      "The L2 error:  1.0579998894804097\n",
      "iter: 72\n",
      "The L2 error:  0.725838883103281\n",
      "iter: 73\n",
      "The L2 error:  0.6004721628601577\n",
      "iter: 74\n",
      "The L2 error:  0.5358295794152143\n",
      "iter: 75\n",
      "The L2 error:  0.8052223003146147\n",
      "iter: 76\n",
      "The L2 error:  0.6824526925976528\n",
      "iter: 77\n",
      "The L2 error:  0.4845489684427005\n",
      "iter: 78\n",
      "The L2 error:  1.4573341014882202\n",
      "iter: 79\n",
      "The L2 error:  0.7844819534352523\n",
      "iter: 80\n",
      "The L2 error:  1.162135164588494\n",
      "iter: 81\n",
      "The L2 error:  0.3442659178282771\n",
      "iter: 82\n",
      "The L2 error:  1.010206204080412\n",
      "iter: 83\n",
      "The L2 error:  0.6266022681753274\n",
      "iter: 84\n",
      "The L2 error:  0.7897589410076327\n",
      "iter: 85\n",
      "The L2 error:  1.01172222869524\n",
      "iter: 86\n",
      "The L2 error:  0.8022686250078644\n",
      "iter: 87\n",
      "The L2 error:  0.35616967786947823\n",
      "iter: 88\n",
      "The L2 error:  0.6692058534231122\n",
      "iter: 89\n",
      "The L2 error:  0.6800095865572692\n",
      "iter: 90\n",
      "The L2 error:  0.5575553054673857\n",
      "iter: 91\n",
      "The L2 error:  0.6539417161299567\n",
      "iter: 92\n",
      "The L2 error:  0.6166688114767636\n",
      "iter: 93\n",
      "The L2 error:  1.0497570289383715\n",
      "iter: 94\n",
      "The L2 error:  0.6486468988871413\n",
      "iter: 95\n",
      "The L2 error:  0.6221629994095019\n",
      "iter: 96\n",
      "The L2 error:  0.5812636225945425\n",
      "iter: 97\n",
      "The L2 error:  0.7321496539302345\n",
      "iter: 98\n",
      "The L2 error:  0.7587287100104868\n",
      "iter: 99\n",
      "The L2 error:  0.7059975264569093\n"
     ]
    }
   ],
   "source": [
    "z, z_biased = exp_func(N,\n",
    "             n,\n",
    "             p, \n",
    "             Sigma_sqrt, \n",
    "             noise_sd, \n",
    "             debias_idx,\n",
    "             param_set, \n",
    "             beta_gen_mnt, \n",
    "             solve_beta_mnt, \n",
    "             find_v_mnt, \n",
    "             solve_omega)"
   ]
  },
  {
   "cell_type": "markdown",
   "metadata": {},
   "source": [
    "#### Compare the mean of the (debiased_beta - beta) and (non-debiased_beta - beta)"
   ]
  },
  {
   "cell_type": "code",
   "execution_count": 27,
   "metadata": {},
   "outputs": [
    {
     "name": "stdout",
     "output_type": "stream",
     "text": [
      "The mean of (non_debiased_beta - beta) is:  -0.9723051073952018\n"
     ]
    }
   ],
   "source": [
    "mean_non_debiased = np.mean(z_biased)\n",
    "print(\"The mean of (non_debiased_beta - beta) is: \", mean_non_debiased)"
   ]
  },
  {
   "cell_type": "code",
   "execution_count": 28,
   "metadata": {},
   "outputs": [
    {
     "name": "stdout",
     "output_type": "stream",
     "text": [
      "The mean of (debiased_beta - beta) is:  -0.12001409225894054\n"
     ]
    }
   ],
   "source": [
    "mean_debiased = np.mean(np.array(z))\n",
    "print(\"The mean of (debiased_beta - beta) is: \", mean_debiased)"
   ]
  },
  {
   "cell_type": "markdown",
   "metadata": {},
   "source": [
    "#### Check if the (debiased_beta - beta) and (non-debiased_beta - beta) is standard normal"
   ]
  },
  {
   "cell_type": "code",
   "execution_count": 29,
   "metadata": {},
   "outputs": [
    {
     "data": {
      "image/png": "[encoded data removed]",
      "text/plain": [
       "<Figure size 432x288 with 1 Axes>"
      ]
     },
     "metadata": {
      "needs_background": "light"
     },
     "output_type": "display_data"
    }
   ],
   "source": [
    "# non-debiased\n",
    "fig = plt.figure()\n",
    "ax = fig.add_subplot()\n",
    "res = stats.probplot(z_biased, plot=ax)\n",
    "plt.show()"
   ]
  },
  {
   "cell_type": "code",
   "execution_count": 30,
   "metadata": {},
   "outputs": [
    {
     "data": {
      "image/png": "[encoded data removed]",
      "text/plain": [
       "<Figure size 432x288 with 1 Axes>"
      ]
     },
     "metadata": {
      "needs_background": "light"
     },
     "output_type": "display_data"
    }
   ],
   "source": [
    "# debiased\n",
    "fig = plt.figure()\n",
    "ax = fig.add_subplot()\n",
    "res = stats.probplot(z, plot=ax)\n",
    "plt.show()"
   ]
  },
  {
   "cell_type": "markdown",
   "metadata": {},
   "source": [
    "#### Save the simulation results"
   ]
  },
  {
   "cell_type": "code",
   "execution_count": 31,
   "metadata": {},
   "outputs": [],
   "source": [
    "np.save('/Users/yufei/Documents/2-CMU/DebiasingCvxConstrained/ExpResults/MonotoneCone/ibddeig_z_biased.npy', z_biased)\n",
    "np.save('/Users/yufei/Documents/2-CMU/DebiasingCvxConstrained/ExpResults/MonotoneCone/bddeig_z.npy', z)"
   ]
  },
  {
   "cell_type": "markdown",
   "metadata": {},
   "source": [
    "### <span style = 'color:purple'>3) Cov(X) is the Cov of AR(1) Process</span>"
   ]
  },
  {
   "cell_type": "code",
   "execution_count": 32,
   "metadata": {},
   "outputs": [],
   "source": [
    "N = 100\n",
    "n = 100\n",
    "p = 100\n",
    "\n",
    "# Generate the squar root of cov matrix\n",
    "rho = 0.8\n",
    "rho_vec = []\n",
    "for i in range(p):\n",
    "    rho_vec.append(rho**i)\n",
    "rho_vec = np.array(rho_vec)\n",
    "# The cholesky decomposition of cov == the squar root of cov\n",
    "Sigma_sqrt = [rho_vec]\n",
    "for i in range(1, p):\n",
    "    rho_vec_shifted = np.concatenate((np.zeros(i), rho_vec[:-i]))\n",
    "#     print(rho_vec_shifted)\n",
    "    Sigma_sqrt.append(rho_vec_shifted * (1-rho**2)**0.5)\n",
    "Sigma_sqrt = np.array(Sigma_sqrt)\n",
    "\n",
    "noise_sd = 2\n",
    "debias_idx = p - 1\n",
    "param_set = Params([False], \n",
    "                   [], \n",
    "                   [gw_mnt, proj_mnt_tan_cone, proj_mnt_neg_tan_cone])"
   ]
  },
  {
   "cell_type": "code",
   "execution_count": 33,
   "metadata": {
    "scrolled": true
   },
   "outputs": [
    {
     "name": "stdout",
     "output_type": "stream",
     "text": [
      "iter: 0\n",
      "The L2 error:  0.4720202465899764\n",
      "iter: 1\n",
      "The L2 error:  0.9754743404452259\n",
      "iter: 2\n",
      "The L2 error:  0.2823687573084248\n",
      "iter: 3\n",
      "The L2 error:  1.2902526248290287\n",
      "iter: 4\n",
      "The L2 error:  0.49276796681037505\n",
      "iter: 5\n",
      "The L2 error:  1.051345364664203\n",
      "iter: 6\n",
      "The L2 error:  1.429497755632269\n",
      "iter: 7\n",
      "The L2 error:  1.2251128862764846\n",
      "iter: 8\n",
      "The L2 error:  0.658135350024178\n",
      "iter: 9\n",
      "The L2 error:  0.4212185718134397\n",
      "iter: 10\n",
      "The L2 error:  0.3295751545525256\n",
      "iter: 11\n",
      "The L2 error:  0.7598641181882032\n",
      "iter: 12\n",
      "The L2 error:  0.8079650216159279\n",
      "iter: 13\n",
      "The L2 error:  1.0935305472802392\n",
      "iter: 14\n",
      "The L2 error:  0.372523140231949\n",
      "iter: 15\n",
      "The L2 error:  1.0659944563366686\n",
      "iter: 16\n",
      "The L2 error:  0.7937137317445606\n",
      "iter: 17\n",
      "The L2 error:  0.7292933066811972\n",
      "iter: 18\n",
      "The L2 error:  0.5379435434086153\n",
      "iter: 19\n",
      "The L2 error:  0.5229964150658324\n",
      "iter: 20\n",
      "The L2 error:  0.5070856621474428\n",
      "iter: 21\n",
      "The L2 error:  1.6510611519778027\n",
      "iter: 22\n",
      "The L2 error:  0.6671413685331332\n",
      "iter: 23\n",
      "The L2 error:  0.3220876693333512\n",
      "iter: 24\n",
      "The L2 error:  0.962477639750478\n",
      "iter: 25\n",
      "The L2 error:  0.9155386374145819\n",
      "iter: 26\n",
      "The L2 error:  0.8901565499906741\n",
      "iter: 27\n",
      "The L2 error:  0.98799548758346\n",
      "iter: 28\n",
      "The L2 error:  1.159553859673499\n",
      "iter: 29\n",
      "The L2 error:  0.3946658667970867\n",
      "iter: 30\n",
      "The L2 error:  1.192090257444783\n",
      "iter: 31\n",
      "The L2 error:  0.4130634013028951\n",
      "iter: 32\n",
      "The L2 error:  0.6599845001312412\n",
      "iter: 33\n",
      "The L2 error:  0.30277587036985587\n",
      "iter: 34\n",
      "The L2 error:  0.43855864566485797\n",
      "iter: 35\n",
      "The L2 error:  1.2379015298329767\n",
      "iter: 36\n",
      "The L2 error:  1.005070079906866\n",
      "iter: 37\n",
      "The L2 error:  0.4935863020745555\n",
      "iter: 38\n",
      "The L2 error:  0.8277018925641513\n",
      "iter: 39\n",
      "The L2 error:  0.8216023612349082\n",
      "iter: 40\n",
      "The L2 error:  0.8295332971692165\n",
      "iter: 41\n",
      "The L2 error:  0.7074990014578691\n",
      "iter: 42\n",
      "The L2 error:  1.424944666149946\n",
      "iter: 43\n",
      "The L2 error:  0.7665642195324059\n",
      "iter: 44\n",
      "The L2 error:  0.9110926774241261\n",
      "iter: 45\n",
      "The L2 error:  0.8488781793424259\n",
      "iter: 46\n",
      "The L2 error:  0.7670456689665378\n",
      "iter: 47\n",
      "The L2 error:  0.8742831771059052\n",
      "iter: 48\n",
      "The L2 error:  0.9072669354158182\n",
      "iter: 49\n",
      "The L2 error:  0.6241960619844169\n",
      "iter: 50\n",
      "The L2 error:  1.2963740846693852\n",
      "iter: 51\n",
      "The L2 error:  0.9716621691261613\n",
      "iter: 52\n",
      "The L2 error:  0.7347597283814847\n",
      "iter: 53\n",
      "The L2 error:  0.7812840376597212\n",
      "iter: 54\n",
      "The L2 error:  1.131518395746845\n",
      "iter: 55\n",
      "The L2 error:  0.6940321957474256\n",
      "iter: 56\n",
      "The L2 error:  1.7590710936202558\n",
      "iter: 57\n",
      "The L2 error:  0.2559632719188691\n",
      "iter: 58\n",
      "The L2 error:  0.9002374850670333\n",
      "iter: 59\n",
      "The L2 error:  0.6059040711720132\n",
      "iter: 60\n",
      "The L2 error:  1.5436929073991619\n",
      "iter: 61\n",
      "The L2 error:  0.5196945404484347\n",
      "iter: 62\n",
      "The L2 error:  0.8723889490834509\n",
      "iter: 63\n",
      "The L2 error:  1.6833711690608586\n",
      "iter: 64\n",
      "The L2 error:  0.4932277302511892\n",
      "iter: 65\n",
      "The L2 error:  0.8208203974172357\n",
      "iter: 66\n",
      "The L2 error:  0.686904408678319\n",
      "iter: 67\n",
      "The L2 error:  0.3896413628860566\n",
      "iter: 68\n",
      "The L2 error:  0.7668354760135166\n",
      "iter: 69\n",
      "The L2 error:  0.2135771304411283\n",
      "iter: 70\n",
      "The L2 error:  0.29767238682942493\n",
      "iter: 71\n",
      "The L2 error:  0.6159256123128806\n",
      "iter: 72\n",
      "The L2 error:  1.11656662262852\n",
      "iter: 73\n",
      "The L2 error:  0.6434504179855043\n",
      "iter: 74\n",
      "The L2 error:  1.0879758377161781\n",
      "iter: 75\n",
      "The L2 error:  0.5274971219344141\n",
      "iter: 76\n",
      "The L2 error:  1.9419072303310836\n",
      "iter: 77\n",
      "The L2 error:  0.30034920243757407\n",
      "iter: 78\n",
      "The L2 error:  0.7632869734486657\n",
      "iter: 79\n",
      "The L2 error:  0.504711825485735\n",
      "iter: 80\n",
      "The L2 error:  1.2513311817093464\n",
      "iter: 81\n",
      "The L2 error:  1.1942657819050935\n",
      "iter: 82\n",
      "The L2 error:  0.3800552068463706\n",
      "iter: 83\n",
      "The L2 error:  0.9120954073092761\n",
      "iter: 84\n",
      "The L2 error:  0.43263103949316783\n",
      "iter: 85\n",
      "The L2 error:  0.27406464794073565\n",
      "iter: 86\n",
      "The L2 error:  0.5320891022863121\n",
      "iter: 87\n",
      "The L2 error:  0.4579842456618786\n",
      "iter: 88\n",
      "The L2 error:  1.0961266698069534\n",
      "iter: 89\n",
      "The L2 error:  0.4297983528294189\n",
      "iter: 90\n",
      "The L2 error:  1.5198379716516275\n",
      "iter: 91\n",
      "The L2 error:  1.168190564788393\n",
      "iter: 92\n",
      "The L2 error:  1.4507061696454127\n",
      "iter: 93\n",
      "The L2 error:  0.9216965233691896\n",
      "iter: 94\n",
      "The L2 error:  0.5042122036819042\n",
      "iter: 95\n",
      "The L2 error:  2.5212955566464585\n",
      "iter: 96\n",
      "The L2 error:  0.2703744698279356\n",
      "iter: 97\n",
      "The L2 error:  1.261182813117487\n",
      "iter: 98\n",
      "The L2 error:  0.7950446726623854\n",
      "iter: 99\n",
      "The L2 error:  1.3375314089826316\n"
     ]
    }
   ],
   "source": [
    "z, z_biased = exp_func(N,\n",
    "             n,\n",
    "             p, \n",
    "             Sigma_sqrt, \n",
    "             noise_sd, \n",
    "             debias_idx,\n",
    "             param_set, \n",
    "             beta_gen_mnt, \n",
    "             solve_beta_mnt, \n",
    "             find_v_mnt, \n",
    "             solve_omega)"
   ]
  },
  {
   "cell_type": "markdown",
   "metadata": {},
   "source": [
    "#### Compare the mean of the (debiased_beta - beta) and (non-debiased_beta - beta)"
   ]
  },
  {
   "cell_type": "code",
   "execution_count": 34,
   "metadata": {},
   "outputs": [
    {
     "name": "stdout",
     "output_type": "stream",
     "text": [
      "The mean of (non_debiased_beta - beta) is:  -0.7022592129290665\n"
     ]
    }
   ],
   "source": [
    "mean_non_debiased = np.mean(z_biased)\n",
    "print(\"The mean of (non_debiased_beta - beta) is: \", mean_non_debiased)"
   ]
  },
  {
   "cell_type": "code",
   "execution_count": 35,
   "metadata": {},
   "outputs": [
    {
     "name": "stdout",
     "output_type": "stream",
     "text": [
      "The mean of (debiased_beta - beta) is:  -0.2650946677381033\n"
     ]
    }
   ],
   "source": [
    "mean_debiased = np.mean(np.array(z))\n",
    "print(\"The mean of (debiased_beta - beta) is: \", mean_debiased)"
   ]
  },
  {
   "cell_type": "markdown",
   "metadata": {},
   "source": [
    "#### Check if the (debiased_beta - beta) and (non-debiased_beta - beta) is standard normal"
   ]
  },
  {
   "cell_type": "code",
   "execution_count": 36,
   "metadata": {},
   "outputs": [
    {
     "data": {
      "image/png": "[encoded data removed]",
      "text/plain": [
       "<Figure size 432x288 with 1 Axes>"
      ]
     },
     "metadata": {
      "needs_background": "light"
     },
     "output_type": "display_data"
    }
   ],
   "source": [
    "# non-debiased\n",
    "fig = plt.figure()\n",
    "ax = fig.add_subplot()\n",
    "res = stats.probplot(z_biased, plot=ax)\n",
    "plt.show()"
   ]
  },
  {
   "cell_type": "code",
   "execution_count": 37,
   "metadata": {},
   "outputs": [
    {
     "data": {
      "image/png": "[encoded data removed]",
      "text/plain": [
       "<Figure size 432x288 with 1 Axes>"
      ]
     },
     "metadata": {
      "needs_background": "light"
     },
     "output_type": "display_data"
    }
   ],
   "source": [
    "# debiased\n",
    "fig = plt.figure()\n",
    "ax = fig.add_subplot()\n",
    "res = stats.probplot(z, plot=ax)\n",
    "plt.show()"
   ]
  },
  {
   "cell_type": "markdown",
   "metadata": {},
   "source": [
    "#### Save the simulation results"
   ]
  },
  {
   "cell_type": "code",
   "execution_count": 38,
   "metadata": {},
   "outputs": [],
   "source": [
    "np.save('/Users/yufei/Documents/2-CMU/DebiasingCvxConstrained/ExpResults/MonotoneCone/ar1_z_biased.npy', z_biased)\n",
    "np.save('/Users/yufei/Documents/2-CMU/DebiasingCvxConstrained/ExpResults/MonotoneCone/ar1_z.npy', z)"
   ]
  }
 ],
 "metadata": {
  "kernelspec": {
   "display_name": "Python 3",
   "language": "python",
   "name": "python3"
  },
  "language_info": {
   "codemirror_mode": {
    "name": "ipython",
    "version": 3
   },
   "file_extension": ".py",
   "mimetype": "text/x-python",
   "name": "python",
   "nbconvert_exporter": "python",
   "pygments_lexer": "ipython3",
   "version": "3.8.6"
  }
 },
 "nbformat": 4,
 "nbformat_minor": 4
}
